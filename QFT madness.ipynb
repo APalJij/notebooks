{
 "cells": [
  {
   "cell_type": "markdown",
   "metadata": {},
   "source": [
    "# QFT madness?"
   ]
  },
  {
   "cell_type": "markdown",
   "metadata": {},
   "source": [
    "The QFT is defined as the mapping\n",
    "\n",
    "$$\n",
    "\\mathcal{F}: |j\\rangle \\mapsto \\frac{1}{\\sqrt{2^n}} \\sum_{i=0}^{2^n - 1} e^{2\\pi i j k / 2^n} |k\\rangle\n",
    "$$\n",
    "\n",
    "The circuit, according to Nielsen & Chuang, Wikipedia, etc. is"
   ]
  },
  {
   "cell_type": "code",
   "execution_count": 1,
   "metadata": {},
   "outputs": [
    {
     "data": {
      "text/plain": [
       "<Figure size 1083.6x284.278 with 1 Axes>"
      ]
     },
     "execution_count": 1,
     "metadata": {},
     "output_type": "execute_result"
    }
   ],
   "source": [
    "from qiskit.circuit.library import QFT\n",
    "QFT(3).draw(output='mpl')"
   ]
  },
  {
   "cell_type": "markdown",
   "metadata": {},
   "source": [
    "Calculating by hand, for 2 qubits, the QFT on state $|1\\rangle = |^b01\\rangle$ should produce ($b$ indicates bit-representation)\n",
    "\n",
    "$$\n",
    "\\mathcal F |1\\rangle = \\frac{1}{2} \\sum_{k=0}^{3} i^k |k\\rangle = \n",
    "\\frac{1}{2} \\left(|0\\rangle +  i |1\\rangle - |2\\rangle - i|3\\rangle\\right)\n",
    "$$\n",
    "\n",
    "Qiskit has a reversed bit ordering w.r.t. to the Physics community and the definition of the Fourier transform, hence the QFT is actually described by ($q$ indicates Qiskit ordering)\n",
    "\n",
    "$$\n",
    "\\mathcal{F}: |_q j\\rangle \\mapsto \\frac{1}{\\sqrt{2^n}} \\sum_{k=0}^{2^n - 1} e^{2\\pi i j k / 2^n} |_qk\\rangle\n",
    "$$\n",
    "\n",
    "where $|_q x\\rangle = |_q^b x_{n-1} \\ldots x_0\\rangle = |^b x_0 \\ldots x_{n-1}\\rangle$.\n",
    "E.g. $|_q 4\\rangle = |_q ^b 100\\rangle = |^b 001\\rangle = |1\\rangle$.\n",
    "This implies identities such as \n",
    "\n",
    "$$\n",
    "\\langle_q 4|\\mathcal F |_q 4\\rangle = \\langle 1 |\\mathcal F |_q 4\\rangle = \\langle 1 | \\mathcal F | 1\\rangle.\n",
    "$$\n",
    "\n",
    "Therefore, calculating the QFT on state $|_q 1\\rangle$ should produce (note that in the exponent $j$ became $2$, since $|_q 1\\rangle = |2\\rangle$.\n",
    "\n",
    "$$\n",
    "\\mathcal F |_q 1\\rangle = \\frac{1}{2} \\sum_{k=0}^{3} i^{2 k} |_q k\\rangle = \n",
    "\\frac{1}{2} \\left(|0\\rangle - |_q 2\\rangle + |_q 1\\rangle - |_q 3\\rangle\\right) = \n",
    "\\frac{1}{2} \\left(|_ q0\\rangle + |_q 1\\rangle - |_q 2\\rangle - |_q 3\\rangle\\right)\n",
    "$$\n",
    "\n",
    "Which is produced by Qiskit:"
   ]
  },
  {
   "cell_type": "code",
   "execution_count": 2,
   "metadata": {},
   "outputs": [
    {
     "name": "stdout",
     "output_type": "stream",
     "text": [
      "Statevector([ 0.5+0.j,  0.5+0.j, -0.5+0.j, -0.5+0.j],\n",
      "            dims=(2, 2))\n"
     ]
    }
   ],
   "source": [
    "from qiskit.quantum_info import Statevector\n",
    "one = Statevector.from_int(1, dims=(2,2))\n",
    "print(one @ QFT(2))"
   ]
  },
  {
   "cell_type": "markdown",
   "metadata": {},
   "source": [
    "Note that the `Statevector` shows the amplitudes of the state $\\Psi$ ordered as \n",
    "\n",
    "$$\n",
    "    \\left[ \\langle_q 0 | \\Psi\\rangle, \\langle_q 1 | \\Psi\\rangle, \\ldots \\right]\n",
    "$$"
   ]
  },
  {
   "cell_type": "markdown",
   "metadata": {},
   "source": [
    "### Adding Swap operations\n",
    "\n",
    "Swap operations can be used to revert the qubit ordering. Hence they can be used to change between Qiskit and Physics-community order.\n",
    "\n",
    "Let $\\mathrm{RSwap}$ denote the operation of applying consecutive swap operations to qubits $(0, n-1), (1, n-2), \\ldots$. Then\n",
    "\n",
    "$$\n",
    "\\mathrm{RSwap}|_q x\\rangle = |x\\rangle.\n",
    "$$\n",
    "\n",
    "Using this operation we can interchange between representations of the QFT:\n",
    "\n",
    "$$\n",
    "\\mathrm{RSwap} \\mathcal F |_q 1\\rangle = \\frac{1}{2} \\sum_{k=0}^{3} i^{2k} |k\\rangle = \n",
    "\\frac{1}{2} \\left(|0\\rangle - |1\\rangle + |2\\rangle - |3\\rangle\\right)\n",
    "$$\n",
    "\n",
    "Which is reproduced as:"
   ]
  },
  {
   "cell_type": "code",
   "execution_count": 24,
   "metadata": {},
   "outputs": [
    {
     "name": "stdout",
     "output_type": "stream",
     "text": [
      "Statevector([ 0.5+0.j, -0.5+0.j,  0.5+0.j, -0.5+0.j],\n",
      "            dims=(2, 2))\n"
     ]
    }
   ],
   "source": [
    "from qiskit import QuantumCircuit\n",
    "rswap = QuantumCircuit(2)\n",
    "rswap.swap(0, 1)\n",
    "\n",
    "one = Statevector.from_int(1, dims=(2,2))\n",
    "print(one.evolve(QFT(2)).evolve(rswap))"
   ]
  },
  {
   "cell_type": "markdown",
   "metadata": {},
   "source": [
    "Since the QFT applies the $\\mathrm{RSwap}$ operation at the end of the circuit and the $\\mathrm{RSwap}$ is its onw inverse, we can just drop the QFT's swap operations instead:"
   ]
  },
  {
   "cell_type": "code",
   "execution_count": 4,
   "metadata": {},
   "outputs": [
    {
     "name": "stdout",
     "output_type": "stream",
     "text": [
      "Statevector([ 0.5+0.j, -0.5+0.j,  0.5+0.j, -0.5+0.j],\n",
      "            dims=(2, 2))\n"
     ]
    }
   ],
   "source": [
    "one = Statevector.from_int(1, dims=(2,2))\n",
    "print(one @ QFT(2, do_swaps=False))"
   ]
  },
  {
   "cell_type": "markdown",
   "metadata": {},
   "source": [
    "Finally, applying the $\\mathrm{RSwap}$ before the QFT takes us back to the textbook result of the QFT. Remember this was\n",
    "\n",
    "$$\n",
    "\\mathcal F |1\\rangle = \\frac{1}{2} \\sum_{k=0}^{3} i^k |k\\rangle = \n",
    "\\frac{1}{2} \\left(|0\\rangle +  i |1\\rangle - |2\\rangle - i|3\\rangle\\right)\n",
    "$$\n"
   ]
  },
  {
   "cell_type": "code",
   "execution_count": 5,
   "metadata": {},
   "outputs": [
    {
     "name": "stdout",
     "output_type": "stream",
     "text": [
      "Statevector([ 5.00000000e-01+0.j ,  7.85046229e-17+0.5j,\n",
      "             -5.00000000e-01+0.j , -7.85046229e-17-0.5j],\n",
      "            dims=(2, 2))\n"
     ]
    }
   ],
   "source": [
    "textbook = QuantumCircuit(2).compose(rswap).compose(QFT(2)).compose(rswap)\n",
    "print(one.evolve(textbook))"
   ]
  },
  {
   "cell_type": "code",
   "execution_count": 26,
   "metadata": {},
   "outputs": [
    {
     "data": {
      "text/plain": [
       "Statevector([ 5.00000000e-01+0.j ,  7.85046229e-17+0.5j,\n",
       "             -5.00000000e-01+0.j , -7.85046229e-17-0.5j],\n",
       "            dims=(2, 2))"
      ]
     },
     "execution_count": 26,
     "metadata": {},
     "output_type": "execute_result"
    }
   ],
   "source": [
    "one @ rswap @ QFT(2) @ rswap"
   ]
  },
  {
   "cell_type": "markdown",
   "metadata": {},
   "source": [
    "# Scratch space"
   ]
  },
  {
   "cell_type": "code",
   "execution_count": 6,
   "metadata": {},
   "outputs": [
    {
     "name": "stdout",
     "output_type": "stream",
     "text": [
      "Statevector([0.5+0.j, 0.5+0.j, 0.5+0.j, 0.5+0.j],\n",
      "            dims=(2, 2))\n",
      "Statevector([ 5.00000000e-01+0.j , -5.00000000e-01+0.j ,\n",
      "              7.85046229e-17+0.5j, -7.85046229e-17-0.5j],\n",
      "            dims=(2, 2))\n",
      "Statevector([ 0.5+0.j,  0.5+0.j, -0.5+0.j, -0.5+0.j],\n",
      "            dims=(2, 2))\n",
      "Statevector([ 5.00000000e-01+0.j , -5.00000000e-01+0.j ,\n",
      "             -7.85046229e-17-0.5j,  7.85046229e-17+0.5j],\n",
      "            dims=(2, 2))\n"
     ]
    }
   ],
   "source": [
    "import qiskit as qk\n",
    "n = 2\n",
    "qft = qk.QuantumCircuit(2)\n",
    "qft.swap(0, 1)\n",
    "qft = qft.compose(qk.circuit.library.QFT(n, do_swaps=True))\n",
    "# qft = qk.circuit.library.QFT(n, do_swaps=True)\n",
    "zero = qk.quantum_info.Statevector.from_int(0, dims=(2,)*n)\n",
    "one = qk.quantum_info.Statevector.from_int(1, dims=(2,)*n)\n",
    "two = qk.quantum_info.Statevector.from_int(2, dims=(2,)*n)\n",
    "three = qk.quantum_info.Statevector.from_int(3, dims=(2,)*n)\n",
    "# four = qk.quantum_info.Statevector.from_int(4, dims=(2,)*n)\n",
    "print(zero @ qft)\n",
    "print(one @ qft)\n",
    "print(two @ qft)\n",
    "print(three @ qft)\n",
    "# print(four @ qft)"
   ]
  },
  {
   "cell_type": "code",
   "execution_count": 7,
   "metadata": {},
   "outputs": [],
   "source": [
    "import numpy as np\n",
    "n = 2\n",
    "omega = np.exp(2 * np.pi * 1j / 2**n)\n",
    "F = np.array([[omega ** (k * j) for j in range(2**n)] for k in range(2**n)])# / np.sqrt(2**n)\n",
    "\n",
    "F_qiskit = np.empty((4, 4), dtype=complex)\n",
    "for i in range(2 ** n):\n",
    "    i_qiskit = int(bin(i)[2:].zfill(n)[::-1], 2)\n",
    "    for j in range(2 ** n):\n",
    "        j_qiskit = int(bin(j)[2:].zfill(n)[::-1], 2)\n",
    "        F_qiskit[i_qiskit, j_qiskit] = F[i, j]\n",
    "        #if i != j:\n",
    "        #    F[j_qiskit, i_qiskit] = F[i, j]"
   ]
  },
  {
   "cell_type": "code",
   "execution_count": 8,
   "metadata": {},
   "outputs": [
    {
     "data": {
      "text/plain": [
       "array([[ 1.+0.j,  1.+0.j,  1.+0.j,  1.+0.j],\n",
       "       [ 1.+0.j,  0.+1.j, -1.+0.j, -0.-1.j],\n",
       "       [ 1.+0.j, -1.+0.j,  1.-0.j, -1.+0.j],\n",
       "       [ 1.+0.j, -0.-1.j, -1.+0.j,  0.+1.j]])"
      ]
     },
     "execution_count": 8,
     "metadata": {},
     "output_type": "execute_result"
    }
   ],
   "source": [
    "np.round(F, 2)"
   ]
  },
  {
   "cell_type": "code",
   "execution_count": 9,
   "metadata": {},
   "outputs": [
    {
     "data": {
      "text/plain": [
       "array([[ 1.+0.j,  1.+0.j,  1.+0.j,  1.+0.j],\n",
       "       [ 1.+0.j,  1.-0.j, -1.+0.j, -1.+0.j],\n",
       "       [ 1.+0.j, -1.+0.j,  0.+1.j, -0.-1.j],\n",
       "       [ 1.+0.j, -1.+0.j, -0.-1.j,  0.+1.j]])"
      ]
     },
     "execution_count": 9,
     "metadata": {},
     "output_type": "execute_result"
    }
   ],
   "source": [
    "np.round(F_qiskit, 2)"
   ]
  },
  {
   "cell_type": "code",
   "execution_count": 10,
   "metadata": {},
   "outputs": [
    {
     "data": {
      "text/plain": [
       "array([[ 1.+0.j,  1.+0.j,  1.+0.j,  1.+0.j],\n",
       "       [ 1.+0.j, -1.+0.j,  0.+1.j, -0.-1.j],\n",
       "       [ 1.+0.j,  1.+0.j, -1.+0.j, -1.+0.j],\n",
       "       [ 1.+0.j, -1.+0.j, -0.-1.j,  0.+1.j]])"
      ]
     },
     "execution_count": 10,
     "metadata": {},
     "output_type": "execute_result"
    }
   ],
   "source": [
    "from qiskit.quantum_info import Operator\n",
    "np.round(Operator(QFT(2, do_swaps=False)).data * 2, 2)"
   ]
  },
  {
   "cell_type": "code",
   "execution_count": 11,
   "metadata": {},
   "outputs": [],
   "source": [
    "import numpy as np"
   ]
  },
  {
   "cell_type": "code",
   "execution_count": 54,
   "metadata": {},
   "outputs": [],
   "source": [
    "x = [1, -1, -1, 1]\n",
    "# x /= np.sqrt(np.linalg.norm(x))"
   ]
  },
  {
   "cell_type": "code",
   "execution_count": 57,
   "metadata": {},
   "outputs": [
    {
     "data": {
      "text/plain": [
       "array([0. +0.j , 0.5-0.5j, 0. +0.j , 0.5+0.5j])"
      ]
     },
     "execution_count": 57,
     "metadata": {},
     "output_type": "execute_result"
    }
   ],
   "source": [
    "np.fft.ifft(x)"
   ]
  },
  {
   "cell_type": "code",
   "execution_count": 58,
   "metadata": {},
   "outputs": [
    {
     "data": {
      "text/plain": [
       "Statevector([0.+0.j, 1.-1.j, 0.+0.j, 1.+1.j],\n",
       "            dims=(2, 2))"
      ]
     },
     "execution_count": 58,
     "metadata": {},
     "output_type": "execute_result"
    }
   ],
   "source": [
    "Statevector(x) @ rswap @ QFT(2) @ rswap"
   ]
  },
  {
   "cell_type": "code",
   "execution_count": 60,
   "metadata": {},
   "outputs": [
    {
     "data": {
      "text/plain": [
       "True"
      ]
     },
     "execution_count": 60,
     "metadata": {},
     "output_type": "execute_result"
    }
   ],
   "source": [
    "(Statevector(x) @ rswap @ QFT(2) @ rswap).equiv(np.fft.ifft(x) * 2)"
   ]
  },
  {
   "cell_type": "code",
   "execution_count": 92,
   "metadata": {},
   "outputs": [
    {
     "data": {
      "text/html": [
       "<pre style=\"word-wrap: normal;white-space: pre;background: #fff0;line-height: 1.1;font-family: &quot;Courier New&quot;,Courier,monospace\">     ┌──────┐\n",
       "q_0: ┤1     ├\n",
       "     │  qft │\n",
       "q_1: ┤0     ├\n",
       "     └──────┘</pre>"
      ],
      "text/plain": [
       "     ┌──────┐\n",
       "q_0: ┤1     ├\n",
       "     │  qft │\n",
       "q_1: ┤0     ├\n",
       "     └──────┘"
      ]
     },
     "execution_count": 92,
     "metadata": {},
     "output_type": "execute_result"
    }
   ],
   "source": [
    "circuit = QuantumCircuit(2)\n",
    "circuit.append(QFT(2).to_instruction(), [1, 0])\n",
    "circuit.draw()"
   ]
  },
  {
   "cell_type": "code",
   "execution_count": 93,
   "metadata": {},
   "outputs": [],
   "source": [
    "from qiskit import Aer, execute"
   ]
  },
  {
   "cell_type": "code",
   "execution_count": 94,
   "metadata": {},
   "outputs": [
    {
     "data": {
      "text/plain": [
       "array([0.5+0.j, 0.5+0.j, 0.5+0.j, 0.5+0.j])"
      ]
     },
     "execution_count": 94,
     "metadata": {},
     "output_type": "execute_result"
    }
   ],
   "source": [
    "execute(circuit, Aer.get_backend('statevector_simulator')).result().get_statevector()"
   ]
  },
  {
   "cell_type": "code",
   "execution_count": null,
   "metadata": {},
   "outputs": [],
   "source": []
  }
 ],
 "metadata": {
  "kernelspec": {
   "display_name": "Python 3.7.5 64-bit ('latest': virtualenv)",
   "language": "python",
   "name": "python37564bitlatestvirtualenv76cfe9d7d3f749489cf2ff69593234af"
  },
  "language_info": {
   "codemirror_mode": {
    "name": "ipython",
    "version": 3
   },
   "file_extension": ".py",
   "mimetype": "text/x-python",
   "name": "python",
   "nbconvert_exporter": "python",
   "pygments_lexer": "ipython3",
   "version": "3.7.5"
  }
 },
 "nbformat": 4,
 "nbformat_minor": 2
}
