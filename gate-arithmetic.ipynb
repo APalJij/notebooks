{
 "cells": [
  {
   "cell_type": "code",
   "execution_count": 2,
   "metadata": {},
   "outputs": [],
   "source": [
    "import sympy\n",
    "import numpy as np\n",
    "from qiskit import transpile, QuantumCircuit\n",
    "from qiskit.circuit import Instruction, Gate, ControlledGate\n",
    "from qiskit.extensions.unitary import _compute_control_matrix\n",
    "from scipy.linalg import expm\n",
    "import matplotlib.pyplot as plt\n",
    "from sympy import Symbol, Matrix, pi, simplify\n",
    "from sympy.physics.quantum import TensorProduct"
   ]
  },
  {
   "cell_type": "code",
   "execution_count": 3,
   "metadata": {},
   "outputs": [],
   "source": [
    "def tensor(self, other):\n",
    "    return TensorProduct(self, other)\n",
    "\n",
    "Matrix.tensor = tensor\n",
    "Matrix.kron = tensor"
   ]
  },
  {
   "cell_type": "code",
   "execution_count": 4,
   "metadata": {},
   "outputs": [],
   "source": [
    "theta = Symbol('θ')\n",
    "phi = Symbol('φ')\n",
    "lam = Symbol('λ')"
   ]
  },
  {
   "cell_type": "code",
   "execution_count": 5,
   "metadata": {},
   "outputs": [],
   "source": [
    "def is_clifford(circuit):\n",
    "    if isinstance(circuit, (Gate, ControlledGate, Instruction)):\n",
    "        transformed = QuantumCircuit(circuit.num_qubits)\n",
    "        transformed.append(circuit, list(range(circuit.num_qubits)))\n",
    "        circuit = transformed\n",
    "    \n",
    "    try:\n",
    "        transpile(circuit, basis_gates=['i', 'x', 'y', 'z', 'h', 's', 'sdg', 'cx'])\n",
    "        return True\n",
    "    except:\n",
    "        return False"
   ]
  },
  {
   "cell_type": "code",
   "execution_count": 12,
   "metadata": {},
   "outputs": [],
   "source": [
    "CX = Matrix([[1, 0, 0, 0],\n",
    "             [0, 0, 0, 1],\n",
    "             [0, 0, 1, 0],\n",
    "             [0, 1, 0, 0]])\n",
    "\n",
    "CX_top = Matrix([[1, 0, 0, 0],\n",
    "             [0, 1, 0, 0],\n",
    "             [0, 0, 0, 1],\n",
    "             [0, 0, 1, 0]])\n",
    "def RX(theta):\n",
    "    c, js = sympy.cos(theta / 2), 1j * sympy.sin(theta / 2)\n",
    "    return Matrix([[c, -js], \n",
    "                   [-js, c]])\n",
    "\n",
    "def RY(theta): \n",
    "    c, s = sympy.cos(theta / 2), sympy.sin(theta / 2)\n",
    "    return Matrix([[c, -s],\n",
    "                   [s, c]])\n",
    "\n",
    "def CRX(theta, top=False):\n",
    "    c, js = sympy.cos(theta / 2), 1j * sympy.sin(theta / 2)\n",
    "    if top:\n",
    "        return Matrix([[1, 0, 0, 0],\n",
    "                       [0, 1, 0, 0],\n",
    "                       [0, 0, c, -js],\n",
    "                       [0, 0, -js, c]])\n",
    "    return Matrix([[1, 0, 0, 0],\n",
    "                   [0, c, 0, -js],\n",
    "                   [0, 0, 1, 0],\n",
    "                   [0, -js, 0, c]])\n",
    "\n",
    "def CRZ(theta, top=False, qiskit=False):\n",
    "    if qiskit:\n",
    "        a, b = 1, sympy.exp(theta)\n",
    "    else:\n",
    "        a, b = sympy.exp(-theta/2), sympy.exp(theta/2)\n",
    "    if top:\n",
    "        return Matrix([[1, 0, 0, 0],\n",
    "                       [0, 1, 0, 0],\n",
    "                       [0, 0, a, 0],\n",
    "                       [0, 0, 0, b]])\n",
    "    return Matrix([[1, 0, 0, 0],\n",
    "                   [0, a, 0, 0],\n",
    "                   [0, 0, 1, 0],\n",
    "                   [0, 0, 0, b]])\n",
    "\n",
    "def RZ(theta):\n",
    "    return Matrix([[sympy.exp(-1j * theta / 2), 0],\n",
    "                   [0, sympy.exp(1j * theta / 2)]])\n",
    "\n",
    "def U1(theta):\n",
    "    return Matrix([[1, 0],\n",
    "                   [0, sympy.exp(1j * theta)]])\n",
    "\n",
    "def CU1(theta):\n",
    "    return Matrix([[1, 0, 0, 0],\n",
    "                   [0, 1, 0, 0],\n",
    "                   [0, 0, 1, 0],\n",
    "                   [0, 0, 0, sympy.exp(1j * theta)]])\n",
    "\n",
    "SWAP = Matrix([[1, 0, 0, 0],\n",
    "               [0, 0, 1, 0],\n",
    "               [0, 1, 0, 0],\n",
    "               [0, 0, 0, 1]])\n",
    "\n",
    "I = Matrix([[1, 0],\n",
    "            [0, 1]])\n",
    "\n",
    "X = Matrix([[0, 1],\n",
    "            [1, 0]])\n",
    "\n",
    "Y = Matrix([[0, -1j],\n",
    "            [1j, 0]])\n",
    "\n",
    "Z = Matrix([[1, 0],\n",
    "            [0, -1]])\n",
    "\n",
    "H = Matrix([[1, 1],\n",
    "            [1, -1]]) / sympy.sqrt(2)\n",
    "\n",
    "S = Matrix([[1, 0],\n",
    "            [0, 1j]])\n",
    "\n",
    "Sdg = Matrix([[1, 0],\n",
    "            [0, -1j]])\n",
    "\n",
    "T = U1(pi/4)\n",
    "\n",
    "Sdg = Matrix([[1, 0],\n",
    "              [0, -1j]])\n",
    "\n",
    "SX = Matrix([[1 + 1j, 1 - 1j], \n",
    "             [1 - 1j, 1 + 1j]]) / 2\n",
    "\n",
    "SXdg = Matrix([[1 - 1j, 1 + 1j], \n",
    "               [1 + 1j, 1 - 1j]]) / 2\n",
    "\n",
    "def U2(phi, lam):\n",
    "    return Matrix([[1, -sympy.exp(1j*lam)], \n",
    "                   [sympy.exp(1j*phi), sympy.exp(1j*(lam + phi))]]) / sympy.sqrt(2)\n",
    "\n",
    "def U3(theta, phi, lam):\n",
    "    c, s = sympy.cos(theta / 2), sympy.sin(theta / 2)\n",
    "    return Matrix([[c, -sympy.exp(1j * lam) * s],\n",
    "                   [sympy.exp(1j * phi) * s, sympy.exp(1j * (phi + lam)) * c]])\n",
    "\n",
    "def RXX(theta):\n",
    "    return sympy.exp(-1j * theta * X.tensor(X))\n",
    "\n",
    "def RYY(theta):\n",
    "    return sympy.exp(-1j * theta * Y.tensor(Y))"
   ]
  },
  {
   "cell_type": "code",
   "execution_count": 15,
   "metadata": {},
   "outputs": [
    {
     "data": {
      "text/latex": [
       "$\\displaystyle \\left[\\begin{matrix}1.0 & 0\\\\0 & 1.0\\end{matrix}\\right]$"
      ],
      "text/plain": [
       "Matrix([\n",
       "[1.0,   0],\n",
       "[  0, 1.0]])"
      ]
     },
     "execution_count": 15,
     "metadata": {},
     "output_type": "execute_result"
    }
   ],
   "source": [
    "simplify(SXdg * SX)"
   ]
  },
  {
   "cell_type": "code",
   "execution_count": 20,
   "metadata": {},
   "outputs": [
    {
     "data": {
      "text/plain": [
       "array([[0.500000000000000],\n",
       "       [0.500000000000000]], dtype=object)"
      ]
     },
     "execution_count": 20,
     "metadata": {},
     "output_type": "execute_result"
    }
   ],
   "source": [
    "np.abs(SX * Matrix([0, 1])) ** 2"
   ]
  },
  {
   "cell_type": "code",
   "execution_count": 21,
   "metadata": {},
   "outputs": [
    {
     "data": {
      "text/plain": [
       "array([[1/2],\n",
       "       [1/2]], dtype=object)"
      ]
     },
     "execution_count": 21,
     "metadata": {},
     "output_type": "execute_result"
    }
   ],
   "source": [
    "np.abs(H * Matrix([0, 1])"
   ]
  },
  {
   "cell_type": "code",
   "execution_count": 58,
   "metadata": {},
   "outputs": [],
   "source": [
    "# theta = 0.2\n",
    "# phi = 0.4\n",
    "# lam = 0.4\n",
    "theta = Symbol('θ')\n",
    "phi = Symbol('φ')\n",
    "lam = Symbol('λ')"
   ]
  },
  {
   "cell_type": "code",
   "execution_count": 77,
   "metadata": {},
   "outputs": [
    {
     "data": {
      "text/latex": [
       "$\\displaystyle - 2.0 i$"
      ],
      "text/plain": [
       "-2.0*I"
      ]
     },
     "execution_count": 77,
     "metadata": {},
     "output_type": "execute_result"
    }
   ],
   "source": [
    "simplify((1 - 1j)**2)"
   ]
  },
  {
   "cell_type": "code",
   "execution_count": 84,
   "metadata": {},
   "outputs": [
    {
     "data": {
      "text/latex": [
       "$\\displaystyle \\left[\\begin{matrix}0.5 i \\left(1 - e^{1.0 i \\left(θ + \\pi\\right)}\\right) & 0.25 \\left(1 - i\\right) \\left(i e^{1.0 i \\left(θ + \\pi\\right)} + 1 + i\\right) e^{1.0 i \\left(φ + \\pi\\right)}\\\\0.25 \\left(1 - i\\right) \\left(\\left(1 + i\\right) e^{1.0 i λ} + i e^{1.0 i \\left(θ + λ + \\pi\\right)}\\right) & 0.25 \\left(\\left(1 - i\\right)^{2} e^{1.0 i λ} - e^{1.0 i \\left(θ + λ + \\pi\\right)}\\right) e^{1.0 i \\left(φ + \\pi\\right)}\\end{matrix}\\right]$"
      ],
      "text/plain": [
       "Matrix([\n",
       "[                                0.5*I*(1 - exp(1.0*I*(θ + pi))),             0.25*(1 - I)*(I*exp(1.0*I*(θ + pi)) + 1 + I)*exp(1.0*I*(φ + pi))],\n",
       "[0.25*(1 - I)*((1 + I)*exp(1.0*I*λ) + I*exp(1.0*I*(θ + λ + pi))), 0.25*((1 - I)**2*exp(1.0*I*λ) - exp(1.0*I*(θ + λ + pi)))*exp(1.0*I*(φ + pi))]])"
      ]
     },
     "execution_count": 84,
     "metadata": {},
     "output_type": "execute_result"
    }
   ],
   "source": [
    "simplify(simplify((U1(lam) * SX * U1(theta + sympy.pi) * SX * U1(phi + sympy.pi))))"
   ]
  },
  {
   "cell_type": "code",
   "execution_count": 83,
   "metadata": {},
   "outputs": [
    {
     "data": {
      "text/latex": [
       "$\\displaystyle \\left[\\begin{matrix}1.0 \\cos{\\left(0.5 θ \\right)} & 0.5 i \\left(1 - e^{1.0 i θ}\\right) e^{- i \\left(0.5 θ - 1.0 λ\\right)}\\\\0.25 \\left(\\left(1 - i\\right)^{2} e^{1.0 i φ} + i \\left(1 + i\\right) e^{1.0 i \\left(θ + φ\\right)}\\right) e^{- 0.5 i θ} & 0.25 \\left(1 - i\\right) \\left(\\left(1 + i\\right) e^{1.0 i φ} + i e^{1.0 i \\left(θ + φ\\right)}\\right) e^{- i \\left(0.5 θ - 1.0 λ\\right)}\\end{matrix}\\right]$"
      ],
      "text/plain": [
       "Matrix([\n",
       "[                                                             1.0*cos(0.5*θ),                                   0.5*I*(1 - exp(1.0*I*θ))*exp(-I*(0.5*θ - 1.0*λ))],\n",
       "[0.25*((1 - I)**2*exp(1.0*I*φ) + I*(1 + I)*exp(1.0*I*(θ + φ)))*exp(-0.5*I*θ), 0.25*(1 - I)*((1 + I)*exp(1.0*I*φ) + I*exp(1.0*I*(θ + φ)))*exp(-I*(0.5*θ - 1.0*λ))]])"
      ]
     },
     "execution_count": 83,
     "metadata": {},
     "output_type": "execute_result"
    }
   ],
   "source": [
    "simplify(simplify((U1(phi) * SX * U1(theta) * SXdg * U1(lam) * sympy.exp(-0.5j * theta))))"
   ]
  },
  {
   "cell_type": "code",
   "execution_count": null,
   "metadata": {},
   "outputs": [],
   "source": []
  },
  {
   "cell_type": "code",
   "execution_count": 42,
   "metadata": {},
   "outputs": [
    {
     "data": {
      "text/latex": [
       "$\\displaystyle \\left[\\begin{matrix}0.995004165278026 & -0.0919526659714317 - 0.0388769636176167 i\\\\0.0919526659714317 + 0.0388769636176167 i & 0.693226077777576 + 0.713772298432587 i\\end{matrix}\\right]$"
      ],
      "text/plain": [
       "Matrix([\n",
       "[                        0.995004165278026, -0.0919526659714317 - 0.0388769636176167*I],\n",
       "[0.0919526659714317 + 0.0388769636176167*I,    0.693226077777576 + 0.713772298432587*I]])"
      ]
     },
     "execution_count": 42,
     "metadata": {},
     "output_type": "execute_result"
    }
   ],
   "source": [
    "U3(theta, phi, lam).evalf()"
   ]
  },
  {
   "cell_type": "code",
   "execution_count": 22,
   "metadata": {},
   "outputs": [
    {
     "data": {
      "text/latex": [
       "$\\displaystyle \\left[\\begin{matrix}0.54030230586814 & -0.841470984807897\\\\0.841470984807897 & 0.54030230586814\\end{matrix}\\right]$"
      ],
      "text/plain": [
       "Matrix([\n",
       "[ 0.54030230586814, -0.841470984807897],\n",
       "[0.841470984807897,   0.54030230586814]])"
      ]
     },
     "execution_count": 22,
     "metadata": {},
     "output_type": "execute_result"
    }
   ],
   "source": [
    "th = 2\n",
    "RY(th)"
   ]
  },
  {
   "cell_type": "code",
   "execution_count": 24,
   "metadata": {},
   "outputs": [
    {
     "data": {
      "text/latex": [
       "$\\displaystyle \\left[\\begin{matrix}0.977061263899476\\\\-0.212958415159296\\end{matrix}\\right]$"
      ],
      "text/plain": [
       "Matrix([\n",
       "[ 0.977061263899476],\n",
       "[-0.212958415159296]])"
      ]
     },
     "execution_count": 24,
     "metadata": {},
     "output_type": "execute_result"
    }
   ],
   "source": [
    "(H * RY(th) * Matrix([1, 0])).evalf()"
   ]
  },
  {
   "cell_type": "code",
   "execution_count": 14,
   "metadata": {},
   "outputs": [],
   "source": [
    "def is_unitary(mat):\n",
    "    return mat * mat.H == I"
   ]
  },
  {
   "cell_type": "code",
   "execution_count": 21,
   "metadata": {},
   "outputs": [
    {
     "name": "stdout",
     "output_type": "stream",
     "text": [
      "True\n"
     ]
    },
    {
     "data": {
      "text/latex": [
       "$\\displaystyle \\left[\\begin{matrix}0.54030230586814 & 0.841470984807897\\\\-0.841470984807897 & 0.54030230586814\\end{matrix}\\right]$"
      ],
      "text/plain": [
       "Matrix([\n",
       "[  0.54030230586814, 0.841470984807897],\n",
       "[-0.841470984807897,  0.54030230586814]])"
      ]
     },
     "execution_count": 21,
     "metadata": {},
     "output_type": "execute_result"
    }
   ],
   "source": [
    "U = sympy.exp(1j * Y)\n",
    "print(is_unitary(U))\n",
    "U"
   ]
  },
  {
   "cell_type": "code",
   "execution_count": 22,
   "metadata": {},
   "outputs": [
    {
     "name": "stdout",
     "output_type": "stream",
     "text": [
      "False\n"
     ]
    },
    {
     "data": {
      "text/latex": [
       "$\\displaystyle \\left[\\begin{matrix}0.367879441171442 & 0\\\\0 & 2.71828182845905\\end{matrix}\\right]$"
      ],
      "text/plain": [
       "Matrix([\n",
       "[0.367879441171442,                0],\n",
       "[                0, 2.71828182845905]])"
      ]
     },
     "execution_count": 22,
     "metadata": {},
     "output_type": "execute_result"
    }
   ],
   "source": [
    "U = sympy.exp(1j * (X * Y))\n",
    "print(is_unitary(U))\n",
    "U"
   ]
  },
  {
   "cell_type": "code",
   "execution_count": 24,
   "metadata": {},
   "outputs": [
    {
     "data": {
      "text/plain": [
       "False"
      ]
     },
     "execution_count": 24,
     "metadata": {},
     "output_type": "execute_result"
    }
   ],
   "source": [
    "is_unitary(sympy.exp(Z))"
   ]
  },
  {
   "cell_type": "code",
   "execution_count": 25,
   "metadata": {},
   "outputs": [
    {
     "data": {
      "text/latex": [
       "$\\displaystyle \\left[\\begin{matrix}- 1.0 i & 0\\\\0 & 1.0 i\\end{matrix}\\right]$"
      ],
      "text/plain": [
       "Matrix([\n",
       "[-1.0*I,     0],\n",
       "[     0, 1.0*I]])"
      ]
     },
     "execution_count": 25,
     "metadata": {},
     "output_type": "execute_result"
    }
   ],
   "source": [
    "Y * X"
   ]
  },
  {
   "cell_type": "code",
   "execution_count": null,
   "metadata": {},
   "outputs": [],
   "source": []
  },
  {
   "cell_type": "code",
   "execution_count": 25,
   "metadata": {},
   "outputs": [
    {
     "data": {
      "text/latex": [
       "$\\displaystyle \\left[\\begin{matrix}1 & 0 & 0 & 0\\\\0 & e^{0.5 i θ} & 0 & 0\\\\0 & 0 & e^{- 0.5 i θ} & 0\\\\0 & 0 & 0 & 1\\end{matrix}\\right]$"
      ],
      "text/plain": [
       "Matrix([\n",
       "[1,            0,             0, 0],\n",
       "[0, exp(0.5*I*θ),             0, 0],\n",
       "[0,            0, exp(-0.5*I*θ), 0],\n",
       "[0,            0,             0, 1]])"
      ]
     },
     "execution_count": 25,
     "metadata": {},
     "output_type": "execute_result"
    }
   ],
   "source": [
    "U1(theta/2).tensor(I) * CX_top * U1(-theta).tensor(I) * CX_top * I.tensor(U1(theta/2)) "
   ]
  },
  {
   "cell_type": "code",
   "execution_count": 14,
   "metadata": {},
   "outputs": [
    {
     "data": {
      "text/latex": [
       "$\\displaystyle \\left[\\begin{matrix}1 & 0 & 0 & 0\\\\0 & e^{0.5 i θ} & 0 & 0\\\\0 & 0 & 1 & 0\\\\0 & 0 & 0 & e^{0.5 i θ}\\end{matrix}\\right]$"
      ],
      "text/plain": [
       "Matrix([\n",
       "[1,            0, 0,            0],\n",
       "[0, exp(0.5*I*θ), 0,            0],\n",
       "[0,            0, 1,            0],\n",
       "[0,            0, 0, exp(0.5*I*θ)]])"
      ]
     },
     "execution_count": 14,
     "metadata": {},
     "output_type": "execute_result"
    }
   ],
   "source": [
    "I.tensor(U1(theta/2)) * CX * I.tensor(U1(-theta/2)) * CX * I.tensor(U1(theta/2)) "
   ]
  },
  {
   "cell_type": "code",
   "execution_count": 6,
   "metadata": {},
   "outputs": [
    {
     "data": {
      "text/latex": [
       "$\\displaystyle \\left[\\begin{matrix}e^{- 0.5 i θ} & 0\\\\0 & e^{0.5 i θ}\\end{matrix}\\right]$"
      ],
      "text/plain": [
       "Matrix([\n",
       "[exp(-0.5*I*θ),            0],\n",
       "[            0, exp(0.5*I*θ)]])"
      ]
     },
     "execution_count": 6,
     "metadata": {},
     "output_type": "execute_result"
    }
   ],
   "source": [
    "RZ(theta)"
   ]
  },
  {
   "cell_type": "code",
   "execution_count": 35,
   "metadata": {},
   "outputs": [
    {
     "data": {
      "text/latex": [
       "$\\displaystyle \\left[\\begin{matrix}1.0 e^{- \\frac{i θ}{2}} & 0\\\\0 & 1.0 e^{\\frac{i θ}{2}}\\end{matrix}\\right]$"
      ],
      "text/plain": [
       "Matrix([\n",
       "[1.0*exp(-I*θ/2),              0],\n",
       "[              0, 1.0*exp(I*θ/2)]])"
      ]
     },
     "execution_count": 35,
     "metadata": {},
     "output_type": "execute_result"
    }
   ],
   "source": [
    "simplify(SXdg * RY(-theta) * SX)"
   ]
  },
  {
   "cell_type": "code",
   "execution_count": 31,
   "metadata": {},
   "outputs": [
    {
     "data": {
      "text/latex": [
       "$\\displaystyle \\left[\\begin{matrix}0.5 - 0.5 i & 0.5 + 0.5 i\\\\0.5 + 0.5 i & 0.5 - 0.5 i\\end{matrix}\\right]$"
      ],
      "text/plain": [
       "Matrix([\n",
       "[0.5 - 0.5*I, 0.5 + 0.5*I],\n",
       "[0.5 + 0.5*I, 0.5 - 0.5*I]])"
      ]
     },
     "execution_count": 31,
     "metadata": {},
     "output_type": "execute_result"
    }
   ],
   "source": [
    "(RX(-pi/2)* sympy.exp(-1j * pi / 4)).evalf()"
   ]
  },
  {
   "cell_type": "code",
   "execution_count": 24,
   "metadata": {},
   "outputs": [
    {
     "data": {
      "text/latex": [
       "$\\displaystyle 0.707106781186548 + 0.707106781186548 i$"
      ],
      "text/plain": [
       "0.707106781186548 + 0.707106781186548*I"
      ]
     },
     "execution_count": 24,
     "metadata": {},
     "output_type": "execute_result"
    }
   ],
   "source": [
    "sympy.exp(1j * pi / 4).evalf()"
   ]
  },
  {
   "cell_type": "code",
   "execution_count": 25,
   "metadata": {},
   "outputs": [
    {
     "data": {
      "text/latex": [
       "$\\displaystyle \\left[\\begin{matrix}0.5 + 0.5 i & 0.5 - 0.5 i\\\\0.5 - 0.5 i & 0.5 + 0.5 i\\end{matrix}\\right]$"
      ],
      "text/plain": [
       "Matrix([\n",
       "[0.5 + 0.5*I, 0.5 - 0.5*I],\n",
       "[0.5 - 0.5*I, 0.5 + 0.5*I]])"
      ]
     },
     "execution_count": 25,
     "metadata": {},
     "output_type": "execute_result"
    }
   ],
   "source": [
    "simplify(Sdg * H * Sdg * sympy.exp(1j * pi / 4)).evalf()"
   ]
  },
  {
   "cell_type": "code",
   "execution_count": 27,
   "metadata": {},
   "outputs": [
    {
     "data": {
      "text/latex": [
       "$\\displaystyle \\left[\\begin{matrix}0.5 - 0.5 i & 0.5 + 0.5 i\\\\0.5 + 0.5 i & 0.5 - 0.5 i\\end{matrix}\\right]$"
      ],
      "text/plain": [
       "Matrix([\n",
       "[0.5 - 0.5*I, 0.5 + 0.5*I],\n",
       "[0.5 + 0.5*I, 0.5 - 0.5*I]])"
      ]
     },
     "execution_count": 27,
     "metadata": {},
     "output_type": "execute_result"
    }
   ],
   "source": [
    "simplify(S * H * S * sympy.exp(-1j * pi / 4)).evalf()"
   ]
  },
  {
   "cell_type": "code",
   "execution_count": 209,
   "metadata": {},
   "outputs": [
    {
     "data": {
      "text/latex": [
       "$\\displaystyle \\left[\\begin{matrix}1.0 e^{\\frac{i θ}{2}} & 0\\\\0 & 1.0 e^{- \\frac{i θ}{2}}\\end{matrix}\\right]$"
      ],
      "text/plain": [
       "Matrix([\n",
       "[1.0*exp(I*θ/2),               0],\n",
       "[             0, 1.0*exp(-I*θ/2)]])"
      ]
     },
     "execution_count": 209,
     "metadata": {},
     "output_type": "execute_result"
    }
   ],
   "source": [
    "simplify(simplify(RX(-pi/2) * RY(theta) * RX(pi/2)))"
   ]
  },
  {
   "cell_type": "code",
   "execution_count": 160,
   "metadata": {},
   "outputs": [],
   "source": [
    "#theta = [0.814824, 0.275932, 0.627729, 0.670661, 0.596198]\n",
    "theta = [Symbol('p{}'.format(i), real=True) for i in range(10)]\n",
    "\n",
    "op = Z.tensor(Y) + 3 * X.tensor(X) + Z.tensor(I) + I.tensor(Z) + X.tensor(I)\n",
    "\n",
    "wf = Matrix([1, 0, 0, 0])\n",
    "# wf = H.tensor(H) * wf\n",
    "# wf = simplify(RY(theta[0]).tensor(RY(theta[1])) * wf)\n",
    "# wf = simplify(RZ(theta[2]).tensor(RZ(theta[3])) * wf)\n",
    "# wf = simplify(CX * wf)\n",
    "wf = simplify(CU1(theta[4]) * wf)\n",
    "\n",
    "\n",
    "state = wf.conjugate().T * simplify(op * wf)"
   ]
  },
  {
   "cell_type": "code",
   "execution_count": 159,
   "metadata": {},
   "outputs": [
    {
     "data": {
      "text/latex": [
       "$\\displaystyle \\left[\\begin{matrix}0\\end{matrix}\\right]$"
      ],
      "text/plain": [
       "Matrix([[0]])"
      ]
     },
     "execution_count": 159,
     "metadata": {},
     "output_type": "execute_result"
    }
   ],
   "source": [
    "simplify(state)"
   ]
  },
  {
   "cell_type": "code",
   "execution_count": 192,
   "metadata": {},
   "outputs": [],
   "source": [
    "theta = [Symbol('p{}'.format(i), real=True) for i in range(10)]\n",
    "values = [0.275932, 0.814824, 0.670661, 0.627729, 0.596198]\n",
    "\n",
    "op = Z.tensor(Y) + 3 * X.tensor(X) + Z.tensor(I) + I.tensor(Z) + X.tensor(I)\n",
    "# op = H.tensor(H)\n",
    "\n",
    "wf = Matrix([0, 0, 0, 1])\n",
    "wf = H.tensor(H) * wf\n",
    "wf = RY(theta[0]).tensor(RY(theta[1])) * wf\n",
    "wf = RZ(theta[2]).tensor(RZ(theta[3])) * wf\n",
    "wf = CX * wf\n",
    "wf = CRX(theta[4], top=False) * wf\n",
    "\n",
    "state = wf.conjugate().T * op * wf"
   ]
  },
  {
   "cell_type": "code",
   "execution_count": 187,
   "metadata": {},
   "outputs": [],
   "source": [
    "# f = simplify(state)\n",
    "# f"
   ]
  },
  {
   "cell_type": "code",
   "execution_count": 188,
   "metadata": {},
   "outputs": [],
   "source": [
    "# sympy.diff(f, theta[0])"
   ]
  },
  {
   "cell_type": "code",
   "execution_count": 193,
   "metadata": {},
   "outputs": [
    {
     "data": {
      "text/plain": [
       "[Matrix([[1.68339048682981]]),\n",
       " Matrix([[0.456672647209959]]),\n",
       " Matrix([[1.44018773028081]]),\n",
       " Matrix([[-1.15284291114189]]),\n",
       " Matrix([[0.635497351835057]])]"
      ]
     },
     "execution_count": 193,
     "metadata": {},
     "output_type": "execute_result"
    }
   ],
   "source": [
    "[sympy.re(sympy.diff(state, t).subs(dict(zip(theta, values))).evalf()) for t in theta[:5]]"
   ]
  },
  {
   "cell_type": "code",
   "execution_count": null,
   "metadata": {},
   "outputs": [],
   "source": []
  },
  {
   "cell_type": "code",
   "execution_count": null,
   "metadata": {},
   "outputs": [],
   "source": []
  },
  {
   "cell_type": "code",
   "execution_count": null,
   "metadata": {},
   "outputs": [],
   "source": []
  },
  {
   "cell_type": "code",
   "execution_count": null,
   "metadata": {},
   "outputs": [],
   "source": []
  },
  {
   "cell_type": "code",
   "execution_count": null,
   "metadata": {},
   "outputs": [],
   "source": []
  },
  {
   "cell_type": "code",
   "execution_count": null,
   "metadata": {},
   "outputs": [],
   "source": []
  },
  {
   "cell_type": "code",
   "execution_count": 96,
   "metadata": {},
   "outputs": [
    {
     "data": {
      "text/latex": [
       "$\\displaystyle \\left[\\begin{matrix}0.5 + 0.5 i & 0.5 - 0.5 i\\\\0.5 - 0.5 i & 0.5 + 0.5 i\\end{matrix}\\right]$"
      ],
      "text/plain": [
       "Matrix([\n",
       "[0.5 + 0.5*I, 0.5 - 0.5*I],\n",
       "[0.5 - 0.5*I, 0.5 + 0.5*I]])"
      ]
     },
     "execution_count": 96,
     "metadata": {},
     "output_type": "execute_result"
    }
   ],
   "source": [
    "simplify(simplify(RZ(-pi/2) * H * RZ(-pi/2) * (1 - 1j) / sympy.sqrt(2)))"
   ]
  },
  {
   "cell_type": "code",
   "execution_count": null,
   "metadata": {},
   "outputs": [],
   "source": []
  },
  {
   "cell_type": "code",
   "execution_count": null,
   "metadata": {},
   "outputs": [],
   "source": []
  },
  {
   "cell_type": "code",
   "execution_count": 88,
   "metadata": {},
   "outputs": [
    {
     "data": {
      "text/latex": [
       "$\\displaystyle \\left[\\begin{matrix}\\frac{1}{2} + \\frac{i}{2} & 0.5 - 0.5 i\\\\0.5 - 0.5 i & \\frac{1}{2} + \\frac{i}{2}\\end{matrix}\\right]$"
      ],
      "text/plain": [
       "Matrix([\n",
       "[  1/2 + I/2, 0.5 - 0.5*I],\n",
       "[0.5 - 0.5*I,   1/2 + I/2]])"
      ]
     },
     "execution_count": 88,
     "metadata": {},
     "output_type": "execute_result"
    }
   ],
   "source": [
    "SX"
   ]
  },
  {
   "cell_type": "code",
   "execution_count": 83,
   "metadata": {},
   "outputs": [
    {
     "data": {
      "text/latex": [
       "$\\displaystyle \\left[\\begin{matrix}1 & 0\\\\0 & e^{0.5 i \\pi}\\end{matrix}\\right]$"
      ],
      "text/plain": [
       "Matrix([\n",
       "[1,             0],\n",
       "[0, exp(0.5*I*pi)]])"
      ]
     },
     "execution_count": 83,
     "metadata": {},
     "output_type": "execute_result"
    }
   ],
   "source": [
    "U1(pi/2)"
   ]
  },
  {
   "cell_type": "code",
   "execution_count": 42,
   "metadata": {},
   "outputs": [
    {
     "data": {
      "text/latex": [
       "$\\displaystyle \\left[\\begin{matrix}\\frac{\\sqrt{2}}{2} & - \\frac{\\sqrt{2} e^{1.0 i φ}}{2}\\\\\\frac{\\sqrt{2} e^{1.0 i θ}}{2} & \\frac{\\sqrt{2} e^{1.0 i \\left(θ + φ\\right)}}{2}\\end{matrix}\\right]$"
      ],
      "text/plain": [
       "Matrix([\n",
       "[             sqrt(2)/2,      -sqrt(2)*exp(1.0*I*φ)/2],\n",
       "[sqrt(2)*exp(1.0*I*θ)/2, sqrt(2)*exp(1.0*I*(θ + φ))/2]])"
      ]
     },
     "execution_count": 42,
     "metadata": {},
     "output_type": "execute_result"
    }
   ],
   "source": [
    "U2(theta, phi)"
   ]
  },
  {
   "cell_type": "code",
   "execution_count": 48,
   "metadata": {},
   "outputs": [
    {
     "data": {
      "text/latex": [
       "$\\displaystyle \\left[\\begin{matrix}\\frac{\\sqrt{2}}{2} & - \\frac{\\sqrt{2} e^{1.0 i φ}}{2}\\\\\\frac{\\sqrt{2} e^{1.0 i θ}}{2} & \\frac{\\sqrt{2} e^{1.0 i θ} e^{1.0 i φ}}{2}\\end{matrix}\\right]$"
      ],
      "text/plain": [
       "Matrix([\n",
       "[             sqrt(2)/2,             -sqrt(2)*exp(1.0*I*φ)/2],\n",
       "[sqrt(2)*exp(1.0*I*θ)/2, sqrt(2)*exp(1.0*I*θ)*exp(1.0*I*φ)/2]])"
      ]
     },
     "execution_count": 48,
     "metadata": {},
     "output_type": "execute_result"
    }
   ],
   "source": [
    "U1(theta) * H * U1(phi) * Z"
   ]
  },
  {
   "cell_type": "code",
   "execution_count": 61,
   "metadata": {},
   "outputs": [
    {
     "data": {
      "text/latex": [
       "$\\displaystyle \\left[\\begin{matrix}\\frac{\\sqrt{2} \\left(1.0 \\left(1 - i\\right) e^{1.0 i φ} + 1 + i\\right)}{4} & \\frac{\\sqrt{2} \\left(\\left(1 + i\\right) e^{1.0 i φ} + 1.0 - 1.0 i\\right) e^{1.0 i θ}}{4}\\\\\\frac{\\sqrt{2} \\left(\\left(-1.0 + i\\right) e^{1.0 i φ} + 1 + i\\right)}{4} & \\frac{\\sqrt{2} \\left(- \\left(1 + i\\right) e^{1.0 i φ} + 1.0 - i\\right) e^{1.0 i θ}}{4}\\end{matrix}\\right]$"
      ],
      "text/plain": [
       "Matrix([\n",
       "[sqrt(2)*(1.0*(1 - I)*exp(1.0*I*φ) + 1 + I)/4, sqrt(2)*((1 + I)*exp(1.0*I*φ) + 1.0 - 1.0*I)*exp(1.0*I*θ)/4],\n",
       "[ sqrt(2)*((-1.0 + I)*exp(1.0*I*φ) + 1 + I)/4,    sqrt(2)*(-(1 + I)*exp(1.0*I*φ) + 1.0 - I)*exp(1.0*I*θ)/4]])"
      ]
     },
     "execution_count": 61,
     "metadata": {},
     "output_type": "execute_result"
    }
   ],
   "source": [
    "simplify(U1(phi) * SX * U1(theta))"
   ]
  },
  {
   "cell_type": "code",
   "execution_count": null,
   "metadata": {},
   "outputs": [],
   "source": [
    "(X.tensor(I) )"
   ]
  },
  {
   "cell_type": "code",
   "execution_count": null,
   "metadata": {},
   "outputs": [],
   "source": [
    "SX"
   ]
  },
  {
   "cell_type": "code",
   "execution_count": 72,
   "metadata": {},
   "outputs": [
    {
     "data": {
      "text/latex": [
       "$\\displaystyle \\left[\\begin{matrix}\\frac{\\sqrt{2}}{2} & - 0.5 \\sqrt{2} i\\\\- 0.5 \\sqrt{2} i & \\frac{\\sqrt{2}}{2}\\end{matrix}\\right]$"
      ],
      "text/plain": [
       "Matrix([\n",
       "[     sqrt(2)/2, -0.5*sqrt(2)*I],\n",
       "[-0.5*sqrt(2)*I,      sqrt(2)/2]])"
      ]
     },
     "execution_count": 72,
     "metadata": {},
     "output_type": "execute_result"
    }
   ],
   "source": [
    "simplify(RX(pi/2)"
   ]
  },
  {
   "cell_type": "code",
   "execution_count": 49,
   "metadata": {},
   "outputs": [],
   "source": [
    "SX = simplify((X)**(1/2))"
   ]
  },
  {
   "cell_type": "code",
   "execution_count": 31,
   "metadata": {},
   "outputs": [],
   "source": [
    "U = H * U1(pi/8) * U1(pi/8) * U1(pi/8) * U1(pi/8) * H"
   ]
  },
  {
   "cell_type": "code",
   "execution_count": 33,
   "metadata": {},
   "outputs": [],
   "source": [
    "U = H * U1(pi/2) * H"
   ]
  },
  {
   "cell_type": "code",
   "execution_count": 81,
   "metadata": {},
   "outputs": [
    {
     "data": {
      "text/plain": [
       "(5.551115123125783e-17-0.7071067811865475j)"
      ]
     },
     "execution_count": 81,
     "metadata": {},
     "output_type": "execute_result"
    }
   ],
   "source": [
    "0.5 * (1 - 1j) * np.exp(-0.25j * np.pi)"
   ]
  },
  {
   "cell_type": "code",
   "execution_count": 82,
   "metadata": {},
   "outputs": [
    {
     "data": {
      "text/plain": [
       "-0.7071067811865476j"
      ]
     },
     "execution_count": 82,
     "metadata": {},
     "output_type": "execute_result"
    }
   ],
   "source": [
    "-0.5j * np.sqrt(2)"
   ]
  },
  {
   "cell_type": "code",
   "execution_count": 79,
   "metadata": {},
   "outputs": [
    {
     "data": {
      "text/latex": [
       "$\\displaystyle \\left[\\begin{matrix}\\frac{\\sqrt{2}}{2} & - 0.5 \\sqrt{2} i\\\\- 0.5 \\sqrt{2} i & \\frac{\\sqrt{2}}{2}\\end{matrix}\\right]$"
      ],
      "text/plain": [
       "Matrix([\n",
       "[     sqrt(2)/2, -0.5*sqrt(2)*I],\n",
       "[-0.5*sqrt(2)*I,      sqrt(2)/2]])"
      ]
     },
     "execution_count": 79,
     "metadata": {},
     "output_type": "execute_result"
    }
   ],
   "source": []
  },
  {
   "cell_type": "code",
   "execution_count": 76,
   "metadata": {},
   "outputs": [
    {
     "data": {
      "text/latex": [
       "$\\displaystyle \\left[\\begin{matrix}\\frac{\\left(1 + i\\right) e^{- 0.25 i \\pi}}{2} & 0.5 \\left(1 - i\\right) e^{- 0.25 i \\pi}\\\\0.5 \\left(1 - i\\right) e^{- 0.25 i \\pi} & \\frac{\\left(1 + i\\right) e^{- 0.25 i \\pi}}{2}\\end{matrix}\\right]$"
      ],
      "text/plain": [
       "Matrix([\n",
       "[  (1 + I)*exp(-0.25*I*pi)/2, 0.5*(1 - I)*exp(-0.25*I*pi)],\n",
       "[0.5*(1 - I)*exp(-0.25*I*pi),   (1 + I)*exp(-0.25*I*pi)/2]])"
      ]
     },
     "execution_count": 76,
     "metadata": {},
     "output_type": "execute_result"
    }
   ],
   "source": [
    "simplify(SX * sympy.exp(-1j * pi / 4))"
   ]
  },
  {
   "cell_type": "code",
   "execution_count": 34,
   "metadata": {},
   "outputs": [
    {
     "data": {
      "text/latex": [
       "$\\displaystyle \\left[\\begin{matrix}\\frac{1}{2} + \\frac{i}{2} & \\frac{1}{2} - \\frac{i}{2}\\\\\\frac{1}{2} - \\frac{i}{2} & \\frac{1}{2} + \\frac{i}{2}\\end{matrix}\\right]$"
      ],
      "text/plain": [
       "Matrix([\n",
       "[1/2 + I/2, 1/2 - I/2],\n",
       "[1/2 - I/2, 1/2 + I/2]])"
      ]
     },
     "execution_count": 34,
     "metadata": {},
     "output_type": "execute_result"
    }
   ],
   "source": [
    "simplify(U)"
   ]
  },
  {
   "cell_type": "code",
   "execution_count": 70,
   "metadata": {},
   "outputs": [
    {
     "data": {
      "text/latex": [
       "$\\displaystyle \\left[\\begin{matrix}0.5 + 0.5 i & 0.5 - 0.5 i\\\\0.5 - 0.5 i & 0.5 + 0.5 i\\end{matrix}\\right]$"
      ],
      "text/plain": [
       "Matrix([\n",
       "[0.5 + 0.5*I, 0.5 - 0.5*I],\n",
       "[0.5 - 0.5*I, 0.5 + 0.5*I]])"
      ]
     },
     "execution_count": 70,
     "metadata": {},
     "output_type": "execute_result"
    }
   ],
   "source": [
    "simplify(RX(pi/2) * (1 + 1j) / sympy.sqrt(2))"
   ]
  },
  {
   "cell_type": "code",
   "execution_count": 103,
   "metadata": {},
   "outputs": [
    {
     "data": {
      "text/latex": [
       "$\\displaystyle \\left[\\begin{matrix}\\frac{\\sqrt{\\frac{\\sqrt{2}}{4} + \\frac{1}{2}}}{e^{\\frac{\\pi}{8}}} & - \\frac{1.0 i \\sqrt{\\frac{1}{2} - \\frac{\\sqrt{2}}{4}}}{e^{\\frac{\\pi}{8}}}\\\\- \\frac{1.0 i \\sqrt{\\frac{1}{2} - \\frac{\\sqrt{2}}{4}}}{e^{\\frac{\\pi}{8}}} & \\frac{\\sqrt{\\frac{\\sqrt{2}}{4} + \\frac{1}{2}}}{e^{\\frac{\\pi}{8}}}\\end{matrix}\\right]$"
      ],
      "text/plain": [
       "Matrix([\n",
       "[       sqrt(sqrt(2)/4 + 1/2)*exp(-pi/8), -1.0*I*sqrt(1/2 - sqrt(2)/4)*exp(-pi/8)],\n",
       "[-1.0*I*sqrt(1/2 - sqrt(2)/4)*exp(-pi/8),        sqrt(sqrt(2)/4 + 1/2)*exp(-pi/8)]])"
      ]
     },
     "execution_count": 103,
     "metadata": {},
     "output_type": "execute_result"
    }
   ],
   "source": [
    "RX(pi/4) * sympy.exp(-pi/8)"
   ]
  },
  {
   "cell_type": "code",
   "execution_count": 242,
   "metadata": {},
   "outputs": [],
   "source": [
    "theta = 1 "
   ]
  },
  {
   "cell_type": "code",
   "execution_count": 243,
   "metadata": {},
   "outputs": [],
   "source": [
    "U = H * U1(theta) * U1(theta) * U1(theta) * U1(theta) * H"
   ]
  },
  {
   "cell_type": "code",
   "execution_count": 244,
   "metadata": {},
   "outputs": [
    {
     "data": {
      "text/latex": [
       "$\\displaystyle \\left[\\begin{matrix}0.173178189568194 - 0.378401247653964 i & 0.826821810431806 + 0.378401247653964 i\\\\0.826821810431806 + 0.378401247653964 i & 0.173178189568194 - 0.378401247653964 i\\end{matrix}\\right]$"
      ],
      "text/plain": [
       "Matrix([\n",
       "[0.173178189568194 - 0.378401247653964*I, 0.826821810431806 + 0.378401247653964*I],\n",
       "[0.826821810431806 + 0.378401247653964*I, 0.173178189568194 - 0.378401247653964*I]])"
      ]
     },
     "execution_count": 244,
     "metadata": {},
     "output_type": "execute_result"
    }
   ],
   "source": [
    "simplify(U)"
   ]
  },
  {
   "cell_type": "code",
   "execution_count": 245,
   "metadata": {},
   "outputs": [
    {
     "data": {
      "text/latex": [
       "$\\displaystyle \\left[\\begin{matrix}0.173178189568194 - 0.378401247653964 i & 0.826821810431806 + 0.378401247653964 i\\\\0.826821810431806 + 0.378401247653964 i & 0.173178189568194 - 0.378401247653964 i\\end{matrix}\\right]$"
      ],
      "text/plain": [
       "Matrix([\n",
       "[0.173178189568194 - 0.378401247653964*I, 0.826821810431806 + 0.378401247653964*I],\n",
       "[0.826821810431806 + 0.378401247653964*I, 0.173178189568194 - 0.378401247653964*I]])"
      ]
     },
     "execution_count": 245,
     "metadata": {},
     "output_type": "execute_result"
    }
   ],
   "source": [
    "X**(4 / np.pi)"
   ]
  },
  {
   "cell_type": "code",
   "execution_count": 222,
   "metadata": {},
   "outputs": [
    {
     "data": {
      "text/plain": [
       "False"
      ]
     },
     "execution_count": 222,
     "metadata": {},
     "output_type": "execute_result"
    }
   ],
   "source": [
    "X**(4/pi) == simplify(U)"
   ]
  },
  {
   "cell_type": "code",
   "execution_count": 179,
   "metadata": {},
   "outputs": [
    {
     "data": {
      "text/plain": [
       "(0.880689636890038+0.47369374439028955j)"
      ]
     },
     "execution_count": 179,
     "metadata": {},
     "output_type": "execute_result"
    }
   ],
   "source": []
  },
  {
   "cell_type": "code",
   "execution_count": 139,
   "metadata": {},
   "outputs": [],
   "source": [
    "U = H * U1(-pi/8) * U1(-pi/8) * U1(-pi/8) * U1(-pi/8) * H"
   ]
  },
  {
   "cell_type": "code",
   "execution_count": 140,
   "metadata": {},
   "outputs": [
    {
     "data": {
      "text/latex": [
       "$\\displaystyle \\left[\\begin{matrix}\\frac{1}{2} - \\frac{i}{2} & \\frac{1}{2} + \\frac{i}{2}\\\\\\frac{1}{2} + \\frac{i}{2} & \\frac{1}{2} - \\frac{i}{2}\\end{matrix}\\right]$"
      ],
      "text/plain": [
       "Matrix([\n",
       "[1/2 - I/2, 1/2 + I/2],\n",
       "[1/2 + I/2, 1/2 - I/2]])"
      ]
     },
     "execution_count": 140,
     "metadata": {},
     "output_type": "execute_result"
    }
   ],
   "source": [
    "simplify(U)"
   ]
  },
  {
   "cell_type": "code",
   "execution_count": 119,
   "metadata": {},
   "outputs": [],
   "source": [
    "from qiskit import QuantumCircuit\n",
    "from qiskit.circuit.library import C3SqrtXGate\n",
    "from qiskit.quantum_info import Operator\n",
    "from qiskit.quantum_info.operators.predicates import matrix_equal"
   ]
  },
  {
   "cell_type": "code",
   "execution_count": 108,
   "metadata": {},
   "outputs": [],
   "source": [
    "sqrt = QuantumCircuit(4)\n",
    "sqrt.append(C3SqrtXGate(), [3, 2, 1, 0])\n",
    "sqrt = Operator(sqrt)"
   ]
  },
  {
   "cell_type": "code",
   "execution_count": 124,
   "metadata": {},
   "outputs": [
    {
     "data": {
      "text/latex": [
       "$\\displaystyle \\left[\\begin{matrix}1.0 & 0\\\\0 & 1.0\\end{matrix}\\right]$"
      ],
      "text/plain": [
       "Matrix([\n",
       "[1.0,   0],\n",
       "[  0, 1.0]])"
      ]
     },
     "execution_count": 124,
     "metadata": {},
     "output_type": "execute_result"
    }
   ],
   "source": [
    "simplify(sqrt_x.H * sqrt_x)"
   ]
  },
  {
   "cell_type": "code",
   "execution_count": 141,
   "metadata": {},
   "outputs": [],
   "source": [
    "sqrt_x = np.array([[0.5 - 0.5j, 0.5 + 0.5j], [0.5 + 0.5j, 0.5 - 0.5j]])\n",
    "c3sqrtx = np.eye(2**4, dtype=complex)\n",
    "c3sqrtx[-2:, -2:] = sqrt_x"
   ]
  },
  {
   "cell_type": "code",
   "execution_count": 142,
   "metadata": {},
   "outputs": [
    {
     "data": {
      "image/png": "[encoded data removed]",
      "text/plain": [
       "<Figure size 432x288 with 2 Axes>"
      ]
     },
     "metadata": {
      "needs_background": "light"
     },
     "output_type": "display_data"
    }
   ],
   "source": [
    "plt.imshow(c3sqrtx.imag)\n",
    "plt.colorbar()\n",
    "plt.show()"
   ]
  },
  {
   "cell_type": "code",
   "execution_count": 143,
   "metadata": {},
   "outputs": [
    {
     "data": {
      "image/png": "[encoded data removed]",
      "text/plain": [
       "<Figure size 432x288 with 2 Axes>"
      ]
     },
     "metadata": {
      "needs_background": "light"
     },
     "output_type": "display_data"
    }
   ],
   "source": [
    "plt.imshow(sqrt.data.imag)\n",
    "plt.colorbar()\n",
    "plt.show()"
   ]
  },
  {
   "cell_type": "code",
   "execution_count": 144,
   "metadata": {},
   "outputs": [
    {
     "data": {
      "text/plain": [
       "True"
      ]
     },
     "execution_count": 144,
     "metadata": {},
     "output_type": "execute_result"
    }
   ],
   "source": [
    "matrix_equal(c3sqrtx, sqrt.data, ignore_phase=True)"
   ]
  },
  {
   "cell_type": "code",
   "execution_count": 155,
   "metadata": {},
   "outputs": [],
   "source": [
    "ref = _compute_control_matrix(sqrt_x, 4)"
   ]
  },
  {
   "cell_type": "code",
   "execution_count": 156,
   "metadata": {},
   "outputs": [],
   "source": [
    "gate = Operator(C3SqrtXGate().control())"
   ]
  },
  {
   "cell_type": "code",
   "execution_count": 157,
   "metadata": {},
   "outputs": [
    {
     "data": {
      "text/plain": [
       "False"
      ]
     },
     "execution_count": 157,
     "metadata": {},
     "output_type": "execute_result"
    }
   ],
   "source": [
    "matrix_equal(gate.data, ref, ignore_phase=True)"
   ]
  },
  {
   "cell_type": "code",
   "execution_count": 159,
   "metadata": {},
   "outputs": [
    {
     "data": {
      "text/plain": [
       "<matplotlib.image.AxesImage at 0x134ade790>"
      ]
     },
     "execution_count": 159,
     "metadata": {},
     "output_type": "execute_result"
    },
    {
     "data": {
      "image/png": "[encoded data removed]",
      "text/plain": [
       "<Figure size 432x288 with 1 Axes>"
      ]
     },
     "metadata": {
      "needs_background": "light"
     },
     "output_type": "display_data"
    }
   ],
   "source": [
    "plt.imshow(ref.imag)"
   ]
  },
  {
   "cell_type": "code",
   "execution_count": 161,
   "metadata": {},
   "outputs": [
    {
     "data": {
      "text/plain": [
       "<matplotlib.image.AxesImage at 0x134c7c2d0>"
      ]
     },
     "execution_count": 161,
     "metadata": {},
     "output_type": "execute_result"
    },
    {
     "data": {
      "image/png": "[encoded data removed]",
      "text/plain": [
       "<Figure size 432x288 with 1 Axes>"
      ]
     },
     "metadata": {
      "needs_background": "light"
     },
     "output_type": "display_data"
    }
   ],
   "source": [
    "plt.imshow(np.round(gate.data.imag, decimals=3))"
   ]
  },
  {
   "cell_type": "code",
   "execution_count": 246,
   "metadata": {},
   "outputs": [],
   "source": [
    "from qiskit.circuit.library import RealAmplitudes"
   ]
  },
  {
   "cell_type": "code",
   "execution_count": 247,
   "metadata": {},
   "outputs": [],
   "source": [
    "real = RealAmplitudes(num_qubits=5)"
   ]
  },
  {
   "cell_type": "code",
   "execution_count": 248,
   "metadata": {},
   "outputs": [
    {
     "data": {
      "text/html": [
       "<pre style=\"word-wrap: normal;white-space: pre;background: #fff0;line-height: 1.1;font-family: &quot;Courier New&quot;,Courier,monospace\">     ┌──────────┐                              ┌──────────┐                 »\n",
       "q_0: ┤ RY(θ[0]) ├──■────■─────────■─────────■──┤ RY(θ[5]) ├─────────────────»\n",
       "     ├──────────┤┌─┴─┐  │         │         │  └──────────┘     ┌──────────┐»\n",
       "q_1: ┤ RY(θ[1]) ├┤ X ├──┼────■────┼────■────┼────────────────■──┤ RY(θ[6]) ├»\n",
       "     ├──────────┤└───┘┌─┴─┐┌─┴─┐  │    │    │                │  └──────────┘»\n",
       "q_2: ┤ RY(θ[2]) ├─────┤ X ├┤ X ├──┼────┼────┼───────■────────┼───────■──────»\n",
       "     ├──────────┤     └───┘└───┘┌─┴─┐┌─┴─┐  │     ┌─┴─┐      │       │      »\n",
       "q_3: ┤ RY(θ[3]) ├───────────────┤ X ├┤ X ├──┼─────┤ X ├──────┼───────┼──────»\n",
       "     ├──────────┤               └───┘└───┘┌─┴─┐   └───┘    ┌─┴─┐   ┌─┴─┐    »\n",
       "q_4: ┤ RY(θ[4]) ├─────────────────────────┤ X ├────────────┤ X ├───┤ X ├────»\n",
       "     └──────────┘                         └───┘            └───┘   └───┘    »\n",
       "«                                                 ┌───────────┐     »\n",
       "«q_0: ─────■───────────■─────────────■─────────■──┤ RY(θ[10]) ├─────»\n",
       "«        ┌─┴─┐         │             │         │  └───────────┘     »\n",
       "«q_1: ───┤ X ├─────────┼────────■────┼────■────┼─────────────────■──»\n",
       "«     ┌──┴───┴───┐   ┌─┴─┐    ┌─┴─┐  │    │    │                 │  »\n",
       "«q_2: ┤ RY(θ[7]) ├───┤ X ├────┤ X ├──┼────┼────┼────────■────────┼──»\n",
       "«     └──────────┘┌──┴───┴───┐└───┘┌─┴─┐┌─┴─┐  │      ┌─┴─┐      │  »\n",
       "«q_3: ─────■──────┤ RY(θ[8]) ├─────┤ X ├┤ X ├──┼──────┤ X ├──────┼──»\n",
       "«        ┌─┴─┐    ├──────────┤     └───┘└───┘┌─┴─┐    └───┘    ┌─┴─┐»\n",
       "«q_4: ───┤ X ├────┤ RY(θ[9]) ├───────────────┤ X ├─────────────┤ X ├»\n",
       "«        └───┘    └──────────┘               └───┘             └───┘»\n",
       "«                                                                ┌───────────┐»\n",
       "«q_0: ───────────────────■────────────■─────────────■─────────■──┤ RY(θ[15]) ├»\n",
       "«     ┌───────────┐    ┌─┴─┐          │             │         │  └───────────┘»\n",
       "«q_1: ┤ RY(θ[11]) ├────┤ X ├──────────┼────────■────┼────■────┼───────────────»\n",
       "«     └───────────┘┌───┴───┴───┐    ┌─┴─┐    ┌─┴─┐  │    │    │               »\n",
       "«q_2: ──────■──────┤ RY(θ[12]) ├────┤ X ├────┤ X ├──┼────┼────┼────────■──────»\n",
       "«           │      └───────────┘┌───┴───┴───┐└───┘┌─┴─┐┌─┴─┐  │      ┌─┴─┐    »\n",
       "«q_3: ──────┼────────────■──────┤ RY(θ[13]) ├─────┤ X ├┤ X ├──┼──────┤ X ├────»\n",
       "«         ┌─┴─┐        ┌─┴─┐    ├───────────┤     └───┘└───┘┌─┴─┐    └───┘    »\n",
       "«q_4: ────┤ X ├────────┤ X ├────┤ RY(θ[14]) ├───────────────┤ X ├─────────────»\n",
       "«         └───┘        └───┘    └───────────┘               └───┘             »\n",
       "«                                                 \n",
       "«q_0: ────────────────────────────────────────────\n",
       "«          ┌───────────┐                          \n",
       "«q_1: ──■──┤ RY(θ[16]) ├──────────────────────────\n",
       "«       │  └───────────┘┌───────────┐             \n",
       "«q_2: ──┼────────■──────┤ RY(θ[17]) ├─────────────\n",
       "«       │        │      └───────────┘┌───────────┐\n",
       "«q_3: ──┼────────┼────────────■──────┤ RY(θ[18]) ├\n",
       "«     ┌─┴─┐    ┌─┴─┐        ┌─┴─┐    ├───────────┤\n",
       "«q_4: ┤ X ├────┤ X ├────────┤ X ├────┤ RY(θ[19]) ├\n",
       "«     └───┘    └───┘        └───┘    └───────────┘</pre>"
      ],
      "text/plain": [
       "     ┌──────────┐                              ┌──────────┐                 »\n",
       "q_0: ┤ RY(θ[0]) ├──■────■─────────■─────────■──┤ RY(θ[5]) ├─────────────────»\n",
       "     ├──────────┤┌─┴─┐  │         │         │  └──────────┘     ┌──────────┐»\n",
       "q_1: ┤ RY(θ[1]) ├┤ X ├──┼────■────┼────■────┼────────────────■──┤ RY(θ[6]) ├»\n",
       "     ├──────────┤└───┘┌─┴─┐┌─┴─┐  │    │    │                │  └──────────┘»\n",
       "q_2: ┤ RY(θ[2]) ├─────┤ X ├┤ X ├──┼────┼────┼───────■────────┼───────■──────»\n",
       "     ├──────────┤     └───┘└───┘┌─┴─┐┌─┴─┐  │     ┌─┴─┐      │       │      »\n",
       "q_3: ┤ RY(θ[3]) ├───────────────┤ X ├┤ X ├──┼─────┤ X ├──────┼───────┼──────»\n",
       "     ├──────────┤               └───┘└───┘┌─┴─┐   └───┘    ┌─┴─┐   ┌─┴─┐    »\n",
       "q_4: ┤ RY(θ[4]) ├─────────────────────────┤ X ├────────────┤ X ├───┤ X ├────»\n",
       "     └──────────┘                         └───┘            └───┘   └───┘    »\n",
       "«                                                 ┌───────────┐     »\n",
       "«q_0: ─────■───────────■─────────────■─────────■──┤ RY(θ[10]) ├─────»\n",
       "«        ┌─┴─┐         │             │         │  └───────────┘     »\n",
       "«q_1: ───┤ X ├─────────┼────────■────┼────■────┼─────────────────■──»\n",
       "«     ┌──┴───┴───┐   ┌─┴─┐    ┌─┴─┐  │    │    │                 │  »\n",
       "«q_2: ┤ RY(θ[7]) ├───┤ X ├────┤ X ├──┼────┼────┼────────■────────┼──»\n",
       "«     └──────────┘┌──┴───┴───┐└───┘┌─┴─┐┌─┴─┐  │      ┌─┴─┐      │  »\n",
       "«q_3: ─────■──────┤ RY(θ[8]) ├─────┤ X ├┤ X ├──┼──────┤ X ├──────┼──»\n",
       "«        ┌─┴─┐    ├──────────┤     └───┘└───┘┌─┴─┐    └───┘    ┌─┴─┐»\n",
       "«q_4: ───┤ X ├────┤ RY(θ[9]) ├───────────────┤ X ├─────────────┤ X ├»\n",
       "«        └───┘    └──────────┘               └───┘             └───┘»\n",
       "«                                                                ┌───────────┐»\n",
       "«q_0: ───────────────────■────────────■─────────────■─────────■──┤ RY(θ[15]) ├»\n",
       "«     ┌───────────┐    ┌─┴─┐          │             │         │  └───────────┘»\n",
       "«q_1: ┤ RY(θ[11]) ├────┤ X ├──────────┼────────■────┼────■────┼───────────────»\n",
       "«     └───────────┘┌───┴───┴───┐    ┌─┴─┐    ┌─┴─┐  │    │    │               »\n",
       "«q_2: ──────■──────┤ RY(θ[12]) ├────┤ X ├────┤ X ├──┼────┼────┼────────■──────»\n",
       "«           │      └───────────┘┌───┴───┴───┐└───┘┌─┴─┐┌─┴─┐  │      ┌─┴─┐    »\n",
       "«q_3: ──────┼────────────■──────┤ RY(θ[13]) ├─────┤ X ├┤ X ├──┼──────┤ X ├────»\n",
       "«         ┌─┴─┐        ┌─┴─┐    ├───────────┤     └───┘└───┘┌─┴─┐    └───┘    »\n",
       "«q_4: ────┤ X ├────────┤ X ├────┤ RY(θ[14]) ├───────────────┤ X ├─────────────»\n",
       "«         └───┘        └───┘    └───────────┘               └───┘             »\n",
       "«                                                 \n",
       "«q_0: ────────────────────────────────────────────\n",
       "«          ┌───────────┐                          \n",
       "«q_1: ──■──┤ RY(θ[16]) ├──────────────────────────\n",
       "«       │  └───────────┘┌───────────┐             \n",
       "«q_2: ──┼────────■──────┤ RY(θ[17]) ├─────────────\n",
       "«       │        │      └───────────┘┌───────────┐\n",
       "«q_3: ──┼────────┼────────────■──────┤ RY(θ[18]) ├\n",
       "«     ┌─┴─┐    ┌─┴─┐        ┌─┴─┐    ├───────────┤\n",
       "«q_4: ┤ X ├────┤ X ├────────┤ X ├────┤ RY(θ[19]) ├\n",
       "«     └───┘    └───┘        └───┘    └───────────┘"
      ]
     },
     "execution_count": 248,
     "metadata": {},
     "output_type": "execute_result"
    }
   ],
   "source": [
    "real.draw()"
   ]
  },
  {
   "cell_type": "code",
   "execution_count": 251,
   "metadata": {},
   "outputs": [],
   "source": [
    "from qiskit.circuit.library import GraphState\n",
    "from qiskit.quantum_info import Operator"
   ]
  },
  {
   "cell_type": "code",
   "execution_count": 253,
   "metadata": {},
   "outputs": [
    {
     "name": "stdout",
     "output_type": "stream",
     "text": [
      "     ┌───┐   \n",
      "q_0: ┤ H ├─■─\n",
      "     ├───┤ │ \n",
      "q_1: ┤ H ├─┼─\n",
      "     ├───┤ │ \n",
      "q_2: ┤ H ├─■─\n",
      "     └───┘   \n"
     ]
    },
    {
     "data": {
      "text/plain": [
       "array([[ 0.35355339+0.j,  0.35355339+0.j,  0.35355339+0.j,\n",
       "         0.35355339+0.j,  0.35355339+0.j,  0.35355339+0.j,\n",
       "         0.35355339+0.j,  0.35355339+0.j],\n",
       "       [ 0.35355339+0.j, -0.35355339+0.j,  0.35355339+0.j,\n",
       "        -0.35355339+0.j,  0.35355339+0.j, -0.35355339+0.j,\n",
       "         0.35355339+0.j, -0.35355339+0.j],\n",
       "       [ 0.35355339+0.j,  0.35355339+0.j, -0.35355339+0.j,\n",
       "        -0.35355339+0.j,  0.35355339+0.j,  0.35355339+0.j,\n",
       "        -0.35355339+0.j, -0.35355339+0.j],\n",
       "       [ 0.35355339+0.j, -0.35355339+0.j, -0.35355339+0.j,\n",
       "         0.35355339+0.j,  0.35355339+0.j, -0.35355339+0.j,\n",
       "        -0.35355339+0.j,  0.35355339+0.j],\n",
       "       [ 0.35355339+0.j,  0.35355339+0.j,  0.35355339+0.j,\n",
       "         0.35355339+0.j, -0.35355339+0.j, -0.35355339+0.j,\n",
       "        -0.35355339+0.j, -0.35355339+0.j],\n",
       "       [-0.35355339+0.j,  0.35355339+0.j, -0.35355339+0.j,\n",
       "         0.35355339+0.j,  0.35355339+0.j, -0.35355339+0.j,\n",
       "         0.35355339+0.j, -0.35355339+0.j],\n",
       "       [ 0.35355339+0.j,  0.35355339+0.j, -0.35355339+0.j,\n",
       "        -0.35355339+0.j, -0.35355339+0.j, -0.35355339+0.j,\n",
       "         0.35355339+0.j,  0.35355339+0.j],\n",
       "       [-0.35355339+0.j,  0.35355339+0.j,  0.35355339+0.j,\n",
       "        -0.35355339+0.j,  0.35355339+0.j, -0.35355339+0.j,\n",
       "        -0.35355339+0.j,  0.35355339+0.j]])"
      ]
     },
     "execution_count": 253,
     "metadata": {},
     "output_type": "execute_result"
    }
   ],
   "source": [
    "A = [[1, 0, 1], [0, 1, 0], [1, 0, 1]]\n",
    "print(GraphState(A).draw())\n",
    "Operator(GraphState(A)).data"
   ]
  },
  {
   "cell_type": "code",
   "execution_count": 255,
   "metadata": {},
   "outputs": [
    {
     "data": {
      "text/plain": [
       "[Qubit(QuantumRegister(5, 'q1'), 0), Qubit(QuantumRegister(5, 'q1'), 1)]"
      ]
     },
     "execution_count": 255,
     "metadata": {},
     "output_type": "execute_result"
    }
   ],
   "source": [
    "from qiskit.circuit import QuantumRegister\n",
    "qr = QuantumRegister(5)\n",
    "qr[:2]"
   ]
  },
  {
   "cell_type": "code",
   "execution_count": 256,
   "metadata": {},
   "outputs": [
    {
     "data": {
      "text/latex": [
       "$\\displaystyle \\left[\\begin{matrix}0 & 1\\\\1 & 0\\end{matrix}\\right]$"
      ],
      "text/plain": [
       "Matrix([\n",
       "[0, 1],\n",
       "[1, 0]])"
      ]
     },
     "execution_count": 256,
     "metadata": {},
     "output_type": "execute_result"
    }
   ],
   "source": [
    "X"
   ]
  },
  {
   "cell_type": "code",
   "execution_count": 257,
   "metadata": {},
   "outputs": [
    {
     "data": {
      "text/latex": [
       "$\\displaystyle \\left[\\begin{matrix}\\frac{1}{2} + 0.5 i & \\frac{1}{2} - 0.5 i\\\\\\frac{1}{2} - 0.5 i & \\frac{1}{2} + 0.5 i\\end{matrix}\\right]$"
      ],
      "text/plain": [
       "Matrix([\n",
       "[1/2 + 0.5*I, 1/2 - 0.5*I],\n",
       "[1/2 - 0.5*I, 1/2 + 0.5*I]])"
      ]
     },
     "execution_count": 257,
     "metadata": {},
     "output_type": "execute_result"
    }
   ],
   "source": [
    "X**0.5"
   ]
  },
  {
   "cell_type": "code",
   "execution_count": 258,
   "metadata": {},
   "outputs": [],
   "source": [
    "from qiskit.aqua.operators import *"
   ]
  },
  {
   "cell_type": "code",
   "execution_count": 273,
   "metadata": {},
   "outputs": [],
   "source": [
    "x = [[1, 1], [1, -1]] / np.sqrt(2)"
   ]
  },
  {
   "cell_type": "code",
   "execution_count": 279,
   "metadata": {},
   "outputs": [
    {
     "data": {
      "text/plain": [
       "[[(0.7071067811865475+0j), Pauli(z=[False], x=[True])],\n",
       " [(0.7071067811865475+0j), Pauli(z=[True], x=[False])]]"
      ]
     },
     "execution_count": 279,
     "metadata": {},
     "output_type": "execute_result"
    }
   ],
   "source": [
    "MatrixOp(x).to_pauli_op().to_legacy_op().paulis"
   ]
  },
  {
   "cell_type": "code",
   "execution_count": 11,
   "metadata": {},
   "outputs": [
    {
     "name": "stdout",
     "output_type": "stream",
     "text": [
      "Matrix([[sqrt(2)/2, sqrt(2)*exp(-1.0*I*θ)/2], [-sqrt(2)*exp(1.0*I*θ)/2, sqrt(2)/2]])\n"
     ]
    }
   ],
   "source": [
    "a = Z * RZ(theta) * H * RZ(-theta)\n",
    "print(a)"
   ]
  },
  {
   "cell_type": "code",
   "execution_count": 12,
   "metadata": {},
   "outputs": [
    {
     "name": "stdout",
     "output_type": "stream",
     "text": [
      "Matrix([[sqrt(2)/2, -sqrt(2)*exp(-1.0*I*θ)/2], [sqrt(2)*exp(1.0*I*θ)/2, sqrt(2)/2]])\n"
     ]
    }
   ],
   "source": [
    "b = RZ(theta) * H * Z * RZ(-theta)\n",
    "print(b)"
   ]
  },
  {
   "cell_type": "code",
   "execution_count": 13,
   "metadata": {},
   "outputs": [
    {
     "data": {
      "text/latex": [
       "$\\displaystyle \\left[\\begin{matrix}\\sqrt{2} & 0\\\\0 & \\sqrt{2}\\end{matrix}\\right]$"
      ],
      "text/plain": [
       "Matrix([\n",
       "[sqrt(2),       0],\n",
       "[      0, sqrt(2)]])"
      ]
     },
     "execution_count": 13,
     "metadata": {},
     "output_type": "execute_result"
    }
   ],
   "source": [
    "a + b"
   ]
  },
  {
   "cell_type": "code",
   "execution_count": 14,
   "metadata": {},
   "outputs": [],
   "source": [
    "from qiskit.aqua.operators import X, Z, I"
   ]
  },
  {
   "cell_type": "code",
   "execution_count": 33,
   "metadata": {},
   "outputs": [],
   "source": [
    "op = ((3*Z) ^ I ^ I) + (I ^ I ^ (2*X))"
   ]
  },
  {
   "cell_type": "code",
   "execution_count": 34,
   "metadata": {},
   "outputs": [
    {
     "name": "stdout",
     "output_type": "stream",
     "text": [
      "[[(3+0j), Pauli(z=[False, False, True], x=[False, False, False])], [(2+0j), Pauli(z=[False, False, False], x=[True, False, False])]]\n"
     ]
    }
   ],
   "source": [
    "old_op = op.to_legacy_op()\n",
    "print(old_op.paulis)"
   ]
  },
  {
   "cell_type": "code",
   "execution_count": 28,
   "metadata": {},
   "outputs": [],
   "source": [
    "from qiskit.quantum_info import Pauli\n",
    "from qiskit.aqua.operators import WeightedPauliOperator"
   ]
  },
  {
   "cell_type": "code",
   "execution_count": 29,
   "metadata": {},
   "outputs": [],
   "source": [
    "op = WeightedPauliOperator([[3, Pauli([1, 0, 0], [0, 0, 0])], [2, Pauli([0, 0, 0], [0, 0, 3])]])"
   ]
  },
  {
   "cell_type": "code",
   "execution_count": 30,
   "metadata": {},
   "outputs": [
    {
     "data": {
      "text/plain": [
       "[[(3+0j), Pauli(z=[True, False, False], x=[False, False, False])],\n",
       " [(2+0j), Pauli(z=[False, False, False], x=[False, False, True])]]"
      ]
     },
     "execution_count": 30,
     "metadata": {},
     "output_type": "execute_result"
    }
   ],
   "source": [
    "op.paulis"
   ]
  },
  {
   "cell_type": "code",
   "execution_count": 1,
   "metadata": {},
   "outputs": [],
   "source": []
  },
  {
   "cell_type": "code",
   "execution_count": 22,
   "metadata": {},
   "outputs": [
    {
     "name": "stdout",
     "output_type": "stream",
     "text": [
      "OPENQASM 2.0;\n",
      "include \"qelib1.inc\";\n",
      "qreg q[3];\n",
      "u3(2,0,0) q[1];\n",
      "u3(0,0,0) q[1];\n",
      "cx q[0],q[1];\n",
      "u3(0,0,0) q[1];\n",
      "cx q[0],q[1];\n",
      "u3(-0.5,0,0) q[0];\n",
      "cx q[1],q[0];\n",
      "u3(0.5,0,0) q[0];\n",
      "cx q[1],q[0];\n",
      "u3(0,0,0) q[0];\n",
      "cx q[1],q[0];\n",
      "u3(0,0,0) q[0];\n",
      "cx q[1],q[0];\n",
      "u2(0,pi) q[0];\n",
      "cx q[2],q[0];\n",
      "u1(-pi/4) q[0];\n",
      "cx q[1],q[0];\n",
      "u1(pi/4) q[0];\n",
      "cx q[2],q[0];\n",
      "u1(-pi/4) q[0];\n",
      "cx q[1],q[0];\n",
      "u1(pi/4) q[0];\n",
      "u2(0,pi) q[0];\n",
      "u3(0,0,0) q[0];\n",
      "u1(pi/4) q[2];\n",
      "cx q[1],q[2];\n",
      "u1(pi/4) q[1];\n",
      "u1(-pi/4) q[2];\n",
      "cx q[1],q[2];\n",
      "cx q[1],q[0];\n",
      "u3(0,0,0) q[0];\n",
      "cx q[1],q[0];\n",
      "u2(0,pi) q[0];\n",
      "cx q[2],q[0];\n",
      "u1(-pi/4) q[0];\n",
      "cx q[1],q[0];\n",
      "u1(pi/4) q[0];\n",
      "cx q[2],q[0];\n",
      "u1(-pi/4) q[0];\n",
      "cx q[1],q[0];\n",
      "u1(pi/4) q[0];\n",
      "u2(0,pi) q[0];\n",
      "u1(pi/4) q[2];\n",
      "cx q[1],q[2];\n",
      "u1(pi/4) q[1];\n",
      "u1(-pi/4) q[2];\n",
      "cx q[1],q[2];\n",
      "\n",
      "Statevector([ 0.54030231-3.30839745e-17j,  0.        +3.30839745e-17j,\n",
      "              0.73846026-1.11022302e-16j, -0.40342268+1.94289029e-16j,\n",
      "              0.        +0.00000000e+00j,  0.        +0.00000000e+00j,\n",
      "              0.        +0.00000000e+00j,  0.        +0.00000000e+00j],\n",
      "            dims=(2, 2, 2))\n"
     ]
    }
   ],
   "source": [
    "from qiskit import transpile, QuantumCircuit, QuantumRegister\n",
    "from qiskit.quantum_info import Statevector\n",
    "from qiskit.circuit.library import PiecewiseLinearPauliRotations\n",
    "\n",
    "pwl = PiecewiseLinearPauliRotations(1, [0, 2], [0, 0], [2, 1])\n",
    "qr = QuantumRegister(qc.num_qubits, 'q')\n",
    "qc = QuantumCircuit(qr)\n",
    "qc.compose(pwl, inplace=True)\n",
    "transpiled = transpile(qc, basis_gates=['u1', 'u2', 'u3', 'cx'], optimization_level=0)\n",
    "print(transpiled.qasm())\n",
    "sv = Statevector.from_label('0' * qc.num_qubits).evolve(transpiled)\n",
    "print(sv)"
   ]
  },
  {
   "cell_type": "code",
   "execution_count": 16,
   "metadata": {
    "scrolled": false
   },
   "outputs": [
    {
     "data": {
      "text/html": [
       "<pre style=\"word-wrap: normal;white-space: pre;background: #fff0;line-height: 1.1;font-family: &quot;Courier New&quot;,Courier,monospace\">                                                                            »\n",
       "q22_0: ──────────────────────────────■─────────────────■────────────────────»\n",
       "                                     │                 │                    »\n",
       "q22_1: ──────────────────────────────┼─────────────────┼─────────────────■──»\n",
       "        ┌───────────┐ ┌───────────┐┌─┴─┐┌───────────┐┌─┴─┐┌───────────┐┌─┴─┐»\n",
       "q23_0: ─┤ R(2,pi/2) ├─┤ U3(0,0,0) ├┤ X ├┤ U3(0,0,0) ├┤ X ├┤ U3(0,0,0) ├┤ X ├»\n",
       "       ┌┴───────────┴┐└───┬───┬───┘├───┤└──┬─────┬──┘└───┘└───────────┘└───┘»\n",
       "q24_0: ┤ U3(pi,0,pi) ├────┤ H ├────┤ X ├───┤ TDG ├──────────────────────────»\n",
       "       ├─────────────┤    └───┘    └─┬─┘   └─────┘                          »\n",
       "q24_1: ┤ U3(pi,0,pi) ├───────────────■──────────────────────────────────────»\n",
       "       └─────────────┘                                                      »\n",
       "«                                                                             »\n",
       "«q22_0: ──────────────────────────────────────────────────────────────────────»\n",
       "«                         ┌─────────────┐                                     »\n",
       "«q22_1: ───────────────■──┤ U3(pi,0,pi) ├──■─────────────────────■─────────■──»\n",
       "«       ┌───────────┐┌─┴─┐└─────────────┘  │                     │         │  »\n",
       "«q23_0: ┤ U3(0,0,0) ├┤ X ├─────────────────┼─────────────────────┼─────────┼──»\n",
       "«       └───────────┘└───┘               ┌─┴─┐┌───┐┌───┐┌─────┐┌─┴─┐┌───┐  │  »\n",
       "«q24_0: ─────────────────────────────────┤ X ├┤ T ├┤ X ├┤ TDG ├┤ X ├┤ T ├──┼──»\n",
       "«                                        └───┘└───┘└─┬─┘└┬───┬┘└───┘└───┘┌─┴─┐»\n",
       "«q24_1: ─────────────────────────────────────────────■───┤ T ├───────────┤ X ├»\n",
       "«                                                        └───┘           └───┘»\n",
       "«                                                                           »\n",
       "«q22_0: ────────────────────────────────────────────────────────────────────»\n",
       "«        ┌───┐      ┌─────────────┐┌──────────────┐┌───┐┌─────────────┐┌───┐»\n",
       "«q22_1: ─┤ T ├───■──┤ U3(pi,0,pi) ├┤ U3(-0.5,0,0) ├┤ X ├┤ U3(0.5,0,0) ├┤ X ├»\n",
       "«        └───┘   │  └─────────────┘└──────────────┘└─┬─┘└─────────────┘└─┬─┘»\n",
       "«q23_0: ─────────┼───────────────────────────────────■───────────────────■──»\n",
       "«        ┌───┐   │                                                          »\n",
       "«q24_0: ─┤ H ├───┼──────────────────────────────────────────────────────────»\n",
       "«       ┌┴───┴┐┌─┴─┐┌─────────────┐┌─────────────┐                          »\n",
       "«q24_1: ┤ TDG ├┤ X ├┤ U3(pi,0,pi) ├┤ U3(pi,0,pi) ├──────────────────────────»\n",
       "«       └─────┘└───┘└─────────────┘└─────────────┘                          »\n",
       "«                                                                           »\n",
       "«q22_0: ────────────────────────────────────────────────────────────────────»\n",
       "«       ┌───────────┐┌───┐┌───────────┐┌───┐┌───┐┌───┐┌─────┐┌───┐┌───┐┌───┐»\n",
       "«q22_1: ┤ U3(0,0,0) ├┤ X ├┤ U3(0,0,0) ├┤ X ├┤ H ├┤ X ├┤ TDG ├┤ X ├┤ T ├┤ X ├»\n",
       "«       └───────────┘└─┬─┘└───────────┘└─┬─┘└───┘└─┬─┘└─────┘└─┬─┘└───┘└─┬─┘»\n",
       "«q23_0: ───────────────■─────────────────■─────────┼───────────■─────────┼──»\n",
       "«                                                  │                     │  »\n",
       "«q24_0: ───────────────────────────────────────────■─────────────────────■──»\n",
       "«                                                                           »\n",
       "«q24_1: ────────────────────────────────────────────────────────────────────»\n",
       "«                                                                           »\n",
       "«                                                                             »\n",
       "«q22_0: ──────────────────────────────────────────────────────────────────────»\n",
       "«       ┌─────┐┌───┐┌───┐ ┌───┐ ┌───────────┐┌───┐┌───────────┐┌───┐┌───┐┌───┐»\n",
       "«q22_1: ┤ TDG ├┤ X ├┤ T ├─┤ H ├─┤ U3(0,0,0) ├┤ X ├┤ U3(0,0,0) ├┤ X ├┤ H ├┤ X ├»\n",
       "«       └─────┘└─┬─┘└───┘ ├───┤ └───────────┘└─┬─┘└───────────┘└─┬─┘└───┘└─┬─┘»\n",
       "«q23_0: ─────────■────■───┤ T ├───────■────────■─────────────────■─────────┼──»\n",
       "«        ┌───┐      ┌─┴─┐┌┴───┴┐    ┌─┴─┐                                  │  »\n",
       "«q24_0: ─┤ T ├──────┤ X ├┤ TDG ├────┤ X ├──────────────────────────────────■──»\n",
       "«        └───┘      └───┘└─────┘    └───┘                                     »\n",
       "«q24_1: ──────────────────────────────────────────────────────────────────────»\n",
       "«                                                                             »\n",
       "«                                                                       »\n",
       "«q22_0: ────────────────────────────────────────────────────────────────»\n",
       "«       ┌─────┐┌───┐┌───┐┌───┐┌─────┐┌───┐┌───┐ ┌───┐ ┌───────────┐┌───┐»\n",
       "«q22_1: ┤ TDG ├┤ X ├┤ T ├┤ X ├┤ TDG ├┤ X ├┤ T ├─┤ H ├─┤ U3(0,0,0) ├┤ X ├»\n",
       "«       └─────┘└─┬─┘└───┘└─┬─┘└─────┘└─┬─┘└───┘ ├───┤ └───────────┘└─┬─┘»\n",
       "«q23_0: ─────────■─────────┼───────────■────■───┤ T ├───────■────────■──»\n",
       "«                          │   ┌───┐      ┌─┴─┐┌┴───┴┐    ┌─┴─┐    ┌───┐»\n",
       "«q24_0: ───────────────────■───┤ T ├──────┤ X ├┤ TDG ├────┤ X ├────┤ H ├»\n",
       "«                              └───┘      └───┘└─────┘    └───┘    └───┘»\n",
       "«q24_1: ────────────────────────────────────────────────────────────────»\n",
       "«                                                                       »\n",
       "«                                                            ┌───┐      ┌───┐»\n",
       "«q22_0: ───────────────────────────■─────────────────────■───┤ T ├──────┤ X ├»\n",
       "«       ┌───────────┐ ┌───┐ ┌───┐┌─┴─┐┌─────┐┌───┐┌───┐┌─┴─┐┌┴───┴┐┌───┐└─┬─┘»\n",
       "«q22_1: ┤ U3(0,0,0) ├─┤ X ├─┤ H ├┤ X ├┤ TDG ├┤ X ├┤ T ├┤ X ├┤ TDG ├┤ X ├──┼──»\n",
       "«       └───────────┘ └─┬─┘ └───┘└───┘└─────┘└─┬─┘└───┘└───┘└─────┘└─┬─┘  │  »\n",
       "«q23_0: ────────────────■──────────────────────■─────────────────────■────■──»\n",
       "«           ┌───┐    ┌─────┐                                                 »\n",
       "«q24_0: ────┤ X ├────┤ TDG ├─────────────────────────────────────────────────»\n",
       "«           └─┬─┘    └─────┘                                                 »\n",
       "«q24_1: ──────■──────────────────────────────────────────────────────────────»\n",
       "«                                                                            »\n",
       "«       ┌─────┐     ┌───┐                                                     »\n",
       "«q22_0: ┤ TDG ├─────┤ X ├───────────────────────────────────────────■─────────»\n",
       "«       └┬───┬┘┌───┐└─┬─┘┌───────────┐┌───┐┌───────────┐┌───┐┌───┐┌─┴─┐┌─────┐»\n",
       "«q22_1: ─┤ T ├─┤ H ├──┼──┤ U3(0,0,0) ├┤ X ├┤ U3(0,0,0) ├┤ X ├┤ H ├┤ X ├┤ TDG ├»\n",
       "«        ├───┤ └───┘  │  └───────────┘└─┬─┘└───────────┘└─┬─┘└───┘└───┘└─────┘»\n",
       "«q23_0: ─┤ T ├────────■─────────────────■─────────────────■───────────────────»\n",
       "«        └───┘                                                                »\n",
       "«q24_0: ──────────────────────────────────────────────────────────────────────»\n",
       "«                                                                             »\n",
       "«q24_1: ──────────────────────────────────────────────────────────────────────»\n",
       "«                                                                             »\n",
       "«                       ┌───┐      ┌───┐┌─────┐     ┌───┐                    »\n",
       "«q22_0: ────────────■───┤ T ├──────┤ X ├┤ TDG ├─────┤ X ├────────────────────»\n",
       "«       ┌───┐┌───┐┌─┴─┐┌┴───┴┐┌───┐└─┬─┘└┬───┬┘┌───┐└─┬─┘┌─────────────┐     »\n",
       "«q22_1: ┤ X ├┤ T ├┤ X ├┤ TDG ├┤ X ├──┼───┤ T ├─┤ H ├──┼──┤ U3(pi,0,pi) ├──■──»\n",
       "«       └─┬─┘└───┘└───┘└─────┘└─┬─┘  │   ├───┤ └───┘  │  └─────────────┘  │  »\n",
       "«q23_0: ──■─────────────────────■────■───┤ T ├────────■───────────────────┼──»\n",
       "«                                        └───┘                          ┌─┴─┐»\n",
       "«q24_0: ────────────────────────────────────────────────────────────────┤ X ├»\n",
       "«                                                                       └───┘»\n",
       "«q24_1: ─────────────────────────────────────────────────────────────────────»\n",
       "«                                                                            »\n",
       "«                                                                  »\n",
       "«q22_0: ───────────────────────────────────────────────────────────»\n",
       "«                                        ┌───┐                     »\n",
       "«q22_1: ───────────────────■─────────■───┤ T ├──────────────────■──»\n",
       "«                          │         │   └───┘                  │  »\n",
       "«q23_0: ───────────────────┼─────────┼──────────────────────────┼──»\n",
       "«       ┌───┐┌───┐┌─────┐┌─┴─┐┌───┐  │   ┌───┐ ┌─────────────┐  │  »\n",
       "«q24_0: ┤ T ├┤ X ├┤ TDG ├┤ X ├┤ T ├──┼───┤ H ├─┤ U3(pi,0,pi) ├──┼──»\n",
       "«       └───┘└─┬─┘└┬───┬┘└───┘└───┘┌─┴─┐┌┴───┴┐└─────────────┘┌─┴─┐»\n",
       "«q24_1: ───────■───┤ T ├───────────┤ X ├┤ TDG ├───────────────┤ X ├»\n",
       "«                  └───┘           └───┘└─────┘               └───┘»\n",
       "«                      \n",
       "«q22_0: ───────────────\n",
       "«       ┌─────────────┐\n",
       "«q22_1: ┤ U3(pi,0,pi) ├\n",
       "«       └─────────────┘\n",
       "«q23_0: ───────────────\n",
       "«                      \n",
       "«q24_0: ───────────────\n",
       "«       ┌─────────────┐\n",
       "«q24_1: ┤ U3(pi,0,pi) ├\n",
       "«       └─────────────┘</pre>"
      ],
      "text/plain": [
       "                                                                            »\n",
       "q22_0: ──────────────────────────────■─────────────────■────────────────────»\n",
       "                                     │                 │                    »\n",
       "q22_1: ──────────────────────────────┼─────────────────┼─────────────────■──»\n",
       "        ┌───────────┐ ┌───────────┐┌─┴─┐┌───────────┐┌─┴─┐┌───────────┐┌─┴─┐»\n",
       "q23_0: ─┤ R(2,pi/2) ├─┤ U3(0,0,0) ├┤ X ├┤ U3(0,0,0) ├┤ X ├┤ U3(0,0,0) ├┤ X ├»\n",
       "       ┌┴───────────┴┐└───┬───┬───┘├───┤└──┬─────┬──┘└───┘└───────────┘└───┘»\n",
       "q24_0: ┤ U3(pi,0,pi) ├────┤ H ├────┤ X ├───┤ TDG ├──────────────────────────»\n",
       "       ├─────────────┤    └───┘    └─┬─┘   └─────┘                          »\n",
       "q24_1: ┤ U3(pi,0,pi) ├───────────────■──────────────────────────────────────»\n",
       "       └─────────────┘                                                      »\n",
       "«                                                                             »\n",
       "«q22_0: ──────────────────────────────────────────────────────────────────────»\n",
       "«                         ┌─────────────┐                                     »\n",
       "«q22_1: ───────────────■──┤ U3(pi,0,pi) ├──■─────────────────────■─────────■──»\n",
       "«       ┌───────────┐┌─┴─┐└─────────────┘  │                     │         │  »\n",
       "«q23_0: ┤ U3(0,0,0) ├┤ X ├─────────────────┼─────────────────────┼─────────┼──»\n",
       "«       └───────────┘└───┘               ┌─┴─┐┌───┐┌───┐┌─────┐┌─┴─┐┌───┐  │  »\n",
       "«q24_0: ─────────────────────────────────┤ X ├┤ T ├┤ X ├┤ TDG ├┤ X ├┤ T ├──┼──»\n",
       "«                                        └───┘└───┘└─┬─┘└┬───┬┘└───┘└───┘┌─┴─┐»\n",
       "«q24_1: ─────────────────────────────────────────────■───┤ T ├───────────┤ X ├»\n",
       "«                                                        └───┘           └───┘»\n",
       "«                                                                           »\n",
       "«q22_0: ────────────────────────────────────────────────────────────────────»\n",
       "«        ┌───┐      ┌─────────────┐┌──────────────┐┌───┐┌─────────────┐┌───┐»\n",
       "«q22_1: ─┤ T ├───■──┤ U3(pi,0,pi) ├┤ U3(-0.5,0,0) ├┤ X ├┤ U3(0.5,0,0) ├┤ X ├»\n",
       "«        └───┘   │  └─────────────┘└──────────────┘└─┬─┘└─────────────┘└─┬─┘»\n",
       "«q23_0: ─────────┼───────────────────────────────────■───────────────────■──»\n",
       "«        ┌───┐   │                                                          »\n",
       "«q24_0: ─┤ H ├───┼──────────────────────────────────────────────────────────»\n",
       "«       ┌┴───┴┐┌─┴─┐┌─────────────┐┌─────────────┐                          »\n",
       "«q24_1: ┤ TDG ├┤ X ├┤ U3(pi,0,pi) ├┤ U3(pi,0,pi) ├──────────────────────────»\n",
       "«       └─────┘└───┘└─────────────┘└─────────────┘                          »\n",
       "«                                                                           »\n",
       "«q22_0: ────────────────────────────────────────────────────────────────────»\n",
       "«       ┌───────────┐┌───┐┌───────────┐┌───┐┌───┐┌───┐┌─────┐┌───┐┌───┐┌───┐»\n",
       "«q22_1: ┤ U3(0,0,0) ├┤ X ├┤ U3(0,0,0) ├┤ X ├┤ H ├┤ X ├┤ TDG ├┤ X ├┤ T ├┤ X ├»\n",
       "«       └───────────┘└─┬─┘└───────────┘└─┬─┘└───┘└─┬─┘└─────┘└─┬─┘└───┘└─┬─┘»\n",
       "«q23_0: ───────────────■─────────────────■─────────┼───────────■─────────┼──»\n",
       "«                                                  │                     │  »\n",
       "«q24_0: ───────────────────────────────────────────■─────────────────────■──»\n",
       "«                                                                           »\n",
       "«q24_1: ────────────────────────────────────────────────────────────────────»\n",
       "«                                                                           »\n",
       "«                                                                             »\n",
       "«q22_0: ──────────────────────────────────────────────────────────────────────»\n",
       "«       ┌─────┐┌───┐┌───┐ ┌───┐ ┌───────────┐┌───┐┌───────────┐┌───┐┌───┐┌───┐»\n",
       "«q22_1: ┤ TDG ├┤ X ├┤ T ├─┤ H ├─┤ U3(0,0,0) ├┤ X ├┤ U3(0,0,0) ├┤ X ├┤ H ├┤ X ├»\n",
       "«       └─────┘└─┬─┘└───┘ ├───┤ └───────────┘└─┬─┘└───────────┘└─┬─┘└───┘└─┬─┘»\n",
       "«q23_0: ─────────■────■───┤ T ├───────■────────■─────────────────■─────────┼──»\n",
       "«        ┌───┐      ┌─┴─┐┌┴───┴┐    ┌─┴─┐                                  │  »\n",
       "«q24_0: ─┤ T ├──────┤ X ├┤ TDG ├────┤ X ├──────────────────────────────────■──»\n",
       "«        └───┘      └───┘└─────┘    └───┘                                     »\n",
       "«q24_1: ──────────────────────────────────────────────────────────────────────»\n",
       "«                                                                             »\n",
       "«                                                                       »\n",
       "«q22_0: ────────────────────────────────────────────────────────────────»\n",
       "«       ┌─────┐┌───┐┌───┐┌───┐┌─────┐┌───┐┌───┐ ┌───┐ ┌───────────┐┌───┐»\n",
       "«q22_1: ┤ TDG ├┤ X ├┤ T ├┤ X ├┤ TDG ├┤ X ├┤ T ├─┤ H ├─┤ U3(0,0,0) ├┤ X ├»\n",
       "«       └─────┘└─┬─┘└───┘└─┬─┘└─────┘└─┬─┘└───┘ ├───┤ └───────────┘└─┬─┘»\n",
       "«q23_0: ─────────■─────────┼───────────■────■───┤ T ├───────■────────■──»\n",
       "«                          │   ┌───┐      ┌─┴─┐┌┴───┴┐    ┌─┴─┐    ┌───┐»\n",
       "«q24_0: ───────────────────■───┤ T ├──────┤ X ├┤ TDG ├────┤ X ├────┤ H ├»\n",
       "«                              └───┘      └───┘└─────┘    └───┘    └───┘»\n",
       "«q24_1: ────────────────────────────────────────────────────────────────»\n",
       "«                                                                       »\n",
       "«                                                            ┌───┐      ┌───┐»\n",
       "«q22_0: ───────────────────────────■─────────────────────■───┤ T ├──────┤ X ├»\n",
       "«       ┌───────────┐ ┌───┐ ┌───┐┌─┴─┐┌─────┐┌───┐┌───┐┌─┴─┐┌┴───┴┐┌───┐└─┬─┘»\n",
       "«q22_1: ┤ U3(0,0,0) ├─┤ X ├─┤ H ├┤ X ├┤ TDG ├┤ X ├┤ T ├┤ X ├┤ TDG ├┤ X ├──┼──»\n",
       "«       └───────────┘ └─┬─┘ └───┘└───┘└─────┘└─┬─┘└───┘└───┘└─────┘└─┬─┘  │  »\n",
       "«q23_0: ────────────────■──────────────────────■─────────────────────■────■──»\n",
       "«           ┌───┐    ┌─────┐                                                 »\n",
       "«q24_0: ────┤ X ├────┤ TDG ├─────────────────────────────────────────────────»\n",
       "«           └─┬─┘    └─────┘                                                 »\n",
       "«q24_1: ──────■──────────────────────────────────────────────────────────────»\n",
       "«                                                                            »\n",
       "«       ┌─────┐     ┌───┐                                                     »\n",
       "«q22_0: ┤ TDG ├─────┤ X ├───────────────────────────────────────────■─────────»\n",
       "«       └┬───┬┘┌───┐└─┬─┘┌───────────┐┌───┐┌───────────┐┌───┐┌───┐┌─┴─┐┌─────┐»\n",
       "«q22_1: ─┤ T ├─┤ H ├──┼──┤ U3(0,0,0) ├┤ X ├┤ U3(0,0,0) ├┤ X ├┤ H ├┤ X ├┤ TDG ├»\n",
       "«        ├───┤ └───┘  │  └───────────┘└─┬─┘└───────────┘└─┬─┘└───┘└───┘└─────┘»\n",
       "«q23_0: ─┤ T ├────────■─────────────────■─────────────────■───────────────────»\n",
       "«        └───┘                                                                »\n",
       "«q24_0: ──────────────────────────────────────────────────────────────────────»\n",
       "«                                                                             »\n",
       "«q24_1: ──────────────────────────────────────────────────────────────────────»\n",
       "«                                                                             »\n",
       "«                       ┌───┐      ┌───┐┌─────┐     ┌───┐                    »\n",
       "«q22_0: ────────────■───┤ T ├──────┤ X ├┤ TDG ├─────┤ X ├────────────────────»\n",
       "«       ┌───┐┌───┐┌─┴─┐┌┴───┴┐┌───┐└─┬─┘└┬───┬┘┌───┐└─┬─┘┌─────────────┐     »\n",
       "«q22_1: ┤ X ├┤ T ├┤ X ├┤ TDG ├┤ X ├──┼───┤ T ├─┤ H ├──┼──┤ U3(pi,0,pi) ├──■──»\n",
       "«       └─┬─┘└───┘└───┘└─────┘└─┬─┘  │   ├───┤ └───┘  │  └─────────────┘  │  »\n",
       "«q23_0: ──■─────────────────────■────■───┤ T ├────────■───────────────────┼──»\n",
       "«                                        └───┘                          ┌─┴─┐»\n",
       "«q24_0: ────────────────────────────────────────────────────────────────┤ X ├»\n",
       "«                                                                       └───┘»\n",
       "«q24_1: ─────────────────────────────────────────────────────────────────────»\n",
       "«                                                                            »\n",
       "«                                                                  »\n",
       "«q22_0: ───────────────────────────────────────────────────────────»\n",
       "«                                        ┌───┐                     »\n",
       "«q22_1: ───────────────────■─────────■───┤ T ├──────────────────■──»\n",
       "«                          │         │   └───┘                  │  »\n",
       "«q23_0: ───────────────────┼─────────┼──────────────────────────┼──»\n",
       "«       ┌───┐┌───┐┌─────┐┌─┴─┐┌───┐  │   ┌───┐ ┌─────────────┐  │  »\n",
       "«q24_0: ┤ T ├┤ X ├┤ TDG ├┤ X ├┤ T ├──┼───┤ H ├─┤ U3(pi,0,pi) ├──┼──»\n",
       "«       └───┘└─┬─┘└┬───┬┘└───┘└───┘┌─┴─┐┌┴───┴┐└─────────────┘┌─┴─┐»\n",
       "«q24_1: ───────■───┤ T ├───────────┤ X ├┤ TDG ├───────────────┤ X ├»\n",
       "«                  └───┘           └───┘└─────┘               └───┘»\n",
       "«                      \n",
       "«q22_0: ───────────────\n",
       "«       ┌─────────────┐\n",
       "«q22_1: ┤ U3(pi,0,pi) ├\n",
       "«       └─────────────┘\n",
       "«q23_0: ───────────────\n",
       "«                      \n",
       "«q24_0: ───────────────\n",
       "«       ┌─────────────┐\n",
       "«q24_1: ┤ U3(pi,0,pi) ├\n",
       "«       └─────────────┘"
      ]
     },
     "execution_count": 16,
     "metadata": {},
     "output_type": "execute_result"
    }
   ],
   "source": [
    "qc.decompose().decompose().draw()"
   ]
  },
  {
   "cell_type": "code",
   "execution_count": 115,
   "metadata": {},
   "outputs": [],
   "source": [
    "p = 0.2\n",
    "ops = X * RX(p) * H * RX(-p)\n",
    "state = Matrix([[0, 1]])"
   ]
  },
  {
   "cell_type": "code",
   "execution_count": 116,
   "metadata": {},
   "outputs": [
    {
     "data": {
      "text/latex": [
       "$\\displaystyle \\left[\\begin{matrix}1.0 \\sqrt{2}\\end{matrix}\\right]$"
      ],
      "text/plain": [
       "Matrix([[1.0*sqrt(2)]])"
      ]
     },
     "execution_count": 116,
     "metadata": {},
     "output_type": "execute_result"
    }
   ],
   "source": [
    "2 * sympy.re(state * ops * state.T)"
   ]
  },
  {
   "cell_type": "code",
   "execution_count": 138,
   "metadata": {},
   "outputs": [],
   "source": [
    "state = Matrix([[0], [1]])\n",
    "state = simplify(RX(theta) * state)\n",
    "state = simplify(RY(phi) * state)"
   ]
  },
  {
   "cell_type": "code",
   "execution_count": 137,
   "metadata": {},
   "outputs": [
    {
     "data": {
      "text/latex": [
       "$\\displaystyle \\left[\\begin{matrix}- 1.0 i \\sin{\\left(\\frac{θ}{2} - \\frac{\\overline{θ}}{2} \\right)} \\cos{\\left(\\frac{φ}{2} + \\frac{\\overline{φ}}{2} + \\frac{\\pi}{4} \\right)} - 1.0 \\sin{\\left(\\frac{φ}{2} + \\frac{\\overline{φ}}{2} + \\frac{\\pi}{4} \\right)} \\cos{\\left(\\frac{θ}{2} + \\frac{\\overline{θ}}{2} \\right)}\\end{matrix}\\right]$"
      ],
      "text/plain": [
       "Matrix([[-1.0*I*sin(θ/2 - conjugate(θ)/2)*cos(φ/2 + conjugate(φ)/2 + pi/4) - 1.0*sin(φ/2 + conjugate(φ)/2 + pi/4)*cos(θ/2 + conjugate(θ)/2)]])"
      ]
     },
     "execution_count": 137,
     "metadata": {},
     "output_type": "execute_result"
    }
   ],
   "source": [
    "simplify(sympy.conjugate(state).T * H * state)"
   ]
  },
  {
   "cell_type": "code",
   "execution_count": 154,
   "metadata": {},
   "outputs": [],
   "source": [
    "theta, phi = 0.1, 0.2\n",
    "state = Matrix([[0], [1]])\n",
    "state = simplify(RX(theta) * state)\n",
    "#state = simplify(Y * state)\n",
    "state = simplify(RY(phi) * state)\n",
    "state = simplify(H * state)\n",
    "state = simplify(RY(-phi) * state)\n",
    "state = simplify(RX(-theta) * state)\n",
    "state = simplify(Matrix([[0, 1]]) * state)"
   ]
  },
  {
   "cell_type": "code",
   "execution_count": 155,
   "metadata": {},
   "outputs": [
    {
     "data": {
      "text/latex": [
       "$\\displaystyle \\left[\\begin{matrix}-0.829328165180247\\end{matrix}\\right]$"
      ],
      "text/plain": [
       "Matrix([[-0.829328165180247]])"
      ]
     },
     "execution_count": 155,
     "metadata": {},
     "output_type": "execute_result"
    }
   ],
   "source": [
    "simplify(state).evalf()"
   ]
  },
  {
   "cell_type": "code",
   "execution_count": null,
   "metadata": {},
   "outputs": [],
   "source": [
    "-sin(phi + pi/4)*cos(theta)"
   ]
  },
  {
   "cell_type": "code",
   "execution_count": 156,
   "metadata": {},
   "outputs": [
    {
     "data": {
      "text/plain": [
       "-0.38495225839084046"
      ]
     },
     "execution_count": 156,
     "metadata": {},
     "output_type": "execute_result"
    }
   ],
   "source": [
    "theta, phi = 0.8, 0.2\n",
    "-np.cos(phi + np.pi/4) * np.cos(theta)"
   ]
  },
  {
   "cell_type": "code",
   "execution_count": null,
   "metadata": {},
   "outputs": [],
   "source": [
    "d/dtheta sin(phi + pi/4)*sin(theta)"
   ]
  }
 ],
 "metadata": {
  "kernelspec": {
   "display_name": "Python 3.7.5 64-bit ('latest': virtualenv)",
   "language": "python",
   "name": "python37564bitlatestvirtualenv76cfe9d7d3f749489cf2ff69593234af"
  },
  "language_info": {
   "codemirror_mode": {
    "name": "ipython",
    "version": 3
   },
   "file_extension": ".py",
   "mimetype": "text/x-python",
   "name": "python",
   "nbconvert_exporter": "python",
   "pygments_lexer": "ipython3",
   "version": "3.7.5"
  }
 },
 "nbformat": 4,
 "nbformat_minor": 2
}
