{
 "cells": [
  {
   "cell_type": "code",
   "execution_count": 1,
   "metadata": {},
   "outputs": [],
   "source": [
    "import numpy as np\n",
    "from qiskit import Aer, QuantumCircuit\n",
    "from qiskit.aqua.utils import CircuitFactory\n",
    "from qiskit.aqua.algorithms import AmplitudeEstimation, FasterAmplitudeEstimation\n",
    "from qiskit.aqua.components.uncertainty_models import NormalDistribution\n",
    "from qiskit.quantum_info import Statevector\n",
    "\n",
    "\n",
    "import matplotlib.pyplot as plt\n",
    "%matplotlib inline\n",
    "\n",
    "from scipy.stats import norm"
   ]
  },
  {
   "cell_type": "code",
   "execution_count": 2,
   "metadata": {},
   "outputs": [],
   "source": [
    "class BernoulliAFactory(CircuitFactory):\n",
    "    r\"\"\"Circuit Factory representing the operator A in a Bernoulli problem.\n",
    "\n",
    "    Given a probability $p$, the operator A prepares the state $\\sqrt{1 - p}|0> + \\sqrt{p}|1>$.\n",
    "    \"\"\"\n",
    "\n",
    "    def __init__(self, probability=0.5):\n",
    "        #\n",
    "        super().__init__(1)\n",
    "        self._probability = probability\n",
    "        self.i_state = 0\n",
    "        self._theta_p = 2 * np.arcsin(np.sqrt(probability))\n",
    "\n",
    "    def build(self, qc, q, q_ancillas=None, params=None):\n",
    "        # A is a rotation of angle theta_p around the Y-axis\n",
    "        qc.ry(self._theta_p, q[self.i_state])\n",
    "\n",
    "    def value_to_estimation(self, value):\n",
    "        return value"
   ]
  },
  {
   "cell_type": "code",
   "execution_count": 3,
   "metadata": {},
   "outputs": [],
   "source": [
    "class BernoulliQFactory(CircuitFactory):\n",
    "    r\"\"\"Circuit Factory representing the operator A in a Bernoulli problem.\n",
    "\n",
    "    Given a probability $p$, the operator A prepares the state $\\sqrt{1 - p}|0> + \\sqrt{p}|1>$.\n",
    "    \"\"\"\n",
    "\n",
    "    def __init__(self, probability=0.5):\n",
    "        #\n",
    "        super().__init__(2)\n",
    "        self._probability = probability\n",
    "        self.i_state = 0\n",
    "        self._theta_p = 2 * np.arcsin(np.sqrt(probability))\n",
    "\n",
    "    def build(self, qc, q, q_ancillas=None, params=None):\n",
    "        # A is a rotation of angle theta_p around the Y-axis\n",
    "        qc.ry(2 * self._theta_p, q[self.i_state])\n",
    "        \n",
    "    def build_power(self, qc, q, power, q_ancillas=None):\n",
    "        qc.ry(2 * power * self._theta_p, q[self.i_state])        \n",
    "\n",
    "    def value_to_estimation(self, value):\n",
    "        return value"
   ]
  },
  {
   "cell_type": "code",
   "execution_count": 4,
   "metadata": {},
   "outputs": [],
   "source": [
    "from qiskit.circuit.library import RYGate\n",
    "\n",
    "class BernoulliS11QFactory(CircuitFactory):\n",
    "    r\"\"\"Circuit Factory representing the operator A in a Bernoulli problem.\n",
    "\n",
    "    Given a probability $p$, the operator A prepares the state $\\sqrt{1 - p}|0> + \\sqrt{p}|1>$.\n",
    "    \"\"\"\n",
    "\n",
    "    def __init__(self, probability=0.5):\n",
    "        #\n",
    "        super().__init__(2)\n",
    "        self._probability = probability\n",
    "        self._theta_p = 2 * np.arcsin(np.sqrt(probability))\n",
    "        \n",
    "    def required_ancillas(self):\n",
    "        return 1\n",
    "\n",
    "    def build(self, qc, q, q_ancillas=None, params=None):\n",
    "        # A is a rotation of angle theta_p around the Y-axis\n",
    "        self.build_power(qc, q, 1, q_ancillas)\n",
    "        \n",
    "    def build_power(self, qc, q, power, q_ancillas=None):\n",
    "        qc.ccx(0, 1, 2)\n",
    "        #qc.cry(2 * power * self._theta_p, 2, 0)\n",
    "        qc.cry(2 * power * self._theta_p, 2, 1)\n",
    "        qc.ccx(0, 1, 2)\n",
    "#         qc.append(RYGate(2 * power * self._theta_p).control(2), [0, 1, 2])\n",
    "        \n",
    "\n",
    "    def value_to_estimation(self, value):\n",
    "        return value"
   ]
  },
  {
   "cell_type": "code",
   "execution_count": 85,
   "metadata": {},
   "outputs": [
    {
     "name": "stdout",
     "output_type": "stream",
     "text": [
      "0.030975999999999997\n"
     ]
    }
   ],
   "source": [
    "n = 2\n",
    "#X = NormalDistribution(n, mu=1, sigma=1, low=0, high=2)\n",
    "y = 0\n",
    "# a_factory = SingleRV(X, y, 1)\n",
    "p = (0.176)**2\n",
    "a_factory = BernoulliAFactory(p)\n",
    "q_factory = BernoulliQFactory(p)\n",
    "backend = Aer.get_backend('qasm_simulator')\n",
    "\n",
    "N = [1000, 1000]\n",
    "delta = 1 - 0.01\n",
    "maxiter = 3\n",
    "\n",
    "print(p)\n",
    "a = np.sqrt(p)\n",
    "\n",
    "faster = FasterAmplitudeEstimation(N, delta, maxiter, a_factory, q_factory, i_objective=[0])\n",
    "#faster._x_factory = a_factory\n",
    "# faster = FasterAmplitudeEstimation(N, delta, maxiter, a_factory, q_factory)\n",
    "#faster._x_factory = None\n",
    "\n"
   ]
  },
  {
   "cell_type": "code",
   "execution_count": 91,
   "metadata": {},
   "outputs": [
    {
     "data": {
      "text/plain": [
       "0.0308891684730608"
      ]
     },
     "execution_count": 91,
     "metadata": {},
     "output_type": "execute_result"
    }
   ],
   "source": [
    "result = faster.run(backend)\n",
    "result['estimation']"
   ]
  },
  {
   "cell_type": "code",
   "execution_count": 71,
   "metadata": {},
   "outputs": [
    {
     "data": {
      "text/plain": [
       "0.03224264518583157"
      ]
     },
     "execution_count": 71,
     "metadata": {},
     "output_type": "execute_result"
    }
   ],
   "source": []
  },
  {
   "cell_type": "code",
   "execution_count": 8,
   "metadata": {},
   "outputs": [
    {
     "data": {
      "text/plain": [
       "0.0576"
      ]
     },
     "execution_count": 8,
     "metadata": {},
     "output_type": "execute_result"
    }
   ],
   "source": [
    "p"
   ]
  },
  {
   "cell_type": "code",
   "execution_count": 9,
   "metadata": {},
   "outputs": [
    {
     "data": {
      "text/plain": [
       "0.05763189814265775"
      ]
     },
     "execution_count": 9,
     "metadata": {},
     "output_type": "execute_result"
    }
   ],
   "source": [
    "np.arcsin(p)"
   ]
  },
  {
   "cell_type": "code",
   "execution_count": null,
   "metadata": {},
   "outputs": [],
   "source": [
    "reps = 1000\n",
    "results = []\n",
    "maxiters = [2]\n",
    "for maxiter in maxiters:\n",
    "    faster = FasterAmplitudeEstimation(N, delta, maxiter, a_factory)\n",
    "    inside = 0\n",
    "    for _ in range(reps):\n",
    "        result = faster.run(backend)\n",
    "        if result['value_ci'][0] <= p and p <= result['value_ci'][1]:\n",
    "            inside += 1\n",
    "    print(N, delta, maxiter, 'confidence:', inside/reps)"
   ]
  },
  {
   "cell_type": "code",
   "execution_count": null,
   "metadata": {},
   "outputs": [],
   "source": []
  },
  {
   "cell_type": "code",
   "execution_count": null,
   "metadata": {
    "scrolled": true
   },
   "outputs": [
    {
     "name": "stdout",
     "output_type": "stream",
     "text": [
      "1 -1.9153754392602926\n",
      "[0.38323556853974877, 1.6793026100265211] True\n",
      "1 -1.9457796655360402\n",
      "1 1.8983435390644192\n",
      "3 -3.070674878630545\n",
      "5 -0.1305617798610741\n",
      "10 -0.545211727683385\n",
      "[0.8698663142448932, 0.9603221347121461] True\n",
      "1 -1.9656214028218646\n",
      "1 1.9478723981115798\n",
      "3 -2.891106491815511\n",
      "5 0.09990989706871115\n",
      "10 -0.39667283080928845\n",
      "20 -1.0973323672040916\n",
      "40 -2.684324050745464\n",
      "79 0.44034012848574555\n",
      "158 0.45192656221409666\n",
      "[0.9187078852956052, 0.9244233120614351] True\n",
      "1 -1.9238026095357599\n",
      "1 1.948718623201206\n",
      "3 -2.9235098479769226\n",
      "5 -0.02042991137445622\n",
      "10 -0.47152712307554084\n",
      "20 -1.078074129969064\n",
      "40 -2.6933611551201544\n",
      "79 0.4125836506259257\n",
      "158 0.37548068648157323\n",
      "316 0.39884177383933533\n",
      "632 0.3960235154840463\n",
      "1264 0.32913768458642023\n",
      "2528 0.2215186869294156\n",
      "[0.9214145854385846, 0.9217719685768764] True\n",
      "1 -1.9129365048968887\n",
      "1 1.9495315943515537\n",
      "3 -2.866566049168211\n",
      "5 0.04304300967375341\n",
      "10 -0.3263590248237056\n",
      "20 -1.0937015806828392\n",
      "40 -2.6547967721233765\n",
      "79 0.46000874276787235\n",
      "158 0.4485584554455757\n",
      "316 0.451125120848994\n",
      "632 0.4233131158523193\n",
      "1264 0.34212438320550365\n",
      "2528 0.21919574776989334\n"
     ]
    }
   ],
   "source": [
    "maxiters = list(range(3, 20, 4))\n",
    "results = []\n",
    "for maxiter in maxiters:\n",
    "    faster = FasterAmplitudeEstimation(N, delta, maxiter, a_factory)\n",
    "    faster._x_factory = None\n",
    "    result = faster.run(backend)\n",
    "    results.append(result)\n",
    "    print(result['value_ci'], result['value_ci'][0] <= p and p <= result['value_ci'][1])"
   ]
  },
  {
   "cell_type": "code",
   "execution_count": 19,
   "metadata": {},
   "outputs": [
    {
     "name": "stdout",
     "output_type": "stream",
     "text": [
      "theta 0.05632978476122883 sin(theta) 0.0563 a/4 0.05\n"
     ]
    }
   ],
   "source": [
    "print('theta', np.arcsin(0.0563), 'sin(theta)', 0.0563, 'a/4', 0.2 / 4)"
   ]
  },
  {
   "cell_type": "code",
   "execution_count": 20,
   "metadata": {},
   "outputs": [],
   "source": [
    "a = np.sqrt(0.2)"
   ]
  },
  {
   "cell_type": "code",
   "execution_count": 21,
   "metadata": {},
   "outputs": [
    {
     "data": {
      "text/plain": [
       "(0.8660254037844386,\n",
       " 0.22360679774997896,\n",
       " 0.43301270189221935,\n",
       " 0.11180339887498948)"
      ]
     },
     "execution_count": 21,
     "metadata": {},
     "output_type": "execute_result"
    }
   ],
   "source": [
    "np.sqrt(15 * (1 - a**2)) / 4, np.sqrt(1 - a**2) / 4, np.sqrt(15) * a /4, a / 4"
   ]
  },
  {
   "cell_type": "code",
   "execution_count": 67,
   "metadata": {},
   "outputs": [
    {
     "name": "stdout",
     "output_type": "stream",
     "text": [
      "0.11180339887498948\n",
      "1 0.32982002668121896\n",
      "2 0.5313456531533876\n",
      "3 0.7063039969678867\n"
     ]
    }
   ],
   "source": [
    "p = 0.2\n",
    "a = np.sqrt(p)\n",
    "theta = np.arcsin(a / 4)\n",
    "print(np.sin(theta))\n",
    "for m in range(1, 4):\n",
    "    print(m, np.sin((2*m + 1) * theta))"
   ]
  },
  {
   "cell_type": "code",
   "execution_count": 62,
   "metadata": {},
   "outputs": [],
   "source": [
    "zero = Statevector.from_int(0, dims=(2,2))\n",
    "three = Statevector.from_int(3, dims=(2,2))"
   ]
  },
  {
   "cell_type": "code",
   "execution_count": 64,
   "metadata": {},
   "outputs": [
    {
     "data": {
      "text/plain": [
       "Statevector([0.       +0.j, 0.       +0.j, 0.       +0.j, 0.1118034+0.j],\n",
       "            dims=(2, 2))"
      ]
     },
     "execution_count": 64,
     "metadata": {},
     "output_type": "execute_result"
    }
   ],
   "source": [
    "circuit = QuantumCircuit(2)\n",
    "circuit.ry(2 * np.arcsin(np.sqrt(0.2)), 0)\n",
    "circuit.ry(2 * np.arcsin(0.25), 1)\n",
    "Statevector.from_int(0, dims=(2,2)).evolve(circuit) @ three"
   ]
  },
  {
   "cell_type": "code",
   "execution_count": 70,
   "metadata": {},
   "outputs": [
    {
     "data": {
      "text/plain": [
       "Statevector([0.8660254+0.j, 0.4330127+0.j, 0.2236068+0.j, 0.1118034+0.j,\n",
       "             0.       +0.j, 0.       +0.j, 0.       +0.j, 0.       +0.j],\n",
       "            dims=(2, 2, 2))"
      ]
     },
     "execution_count": 70,
     "metadata": {},
     "output_type": "execute_result"
    }
   ],
   "source": [
    "circuit = QuantumCircuit(3)\n",
    "circuit.ry(2 * np.arcsin(np.sqrt(0.2)), 0)\n",
    "circuit.ry(2 * np.arcsin(0.25), 1)\n",
    "Statevector.from_int(0, dims=(2,2,2)).evolve(circuit)"
   ]
  },
  {
   "cell_type": "code",
   "execution_count": 82,
   "metadata": {},
   "outputs": [
    {
     "data": {
      "text/plain": [
       "Statevector([0.        +0.j, 0.        +0.j, 0.        +0.j,\n",
       "             0.06708204+0.j, 0.        +0.j, 0.        +0.j,\n",
       "             0.        +0.j, 0.        +0.j],\n",
       "            dims=(2, 2, 2))"
      ]
     },
     "execution_count": 82,
     "metadata": {},
     "output_type": "execute_result"
    }
   ],
   "source": [
    "zero = Statevector.from_int(0, dims=(2,2,2))\n",
    "three = Statevector.from_int(3, dims=(2,2,2))\n",
    "\n",
    "\n",
    "q = QuantumCircuit(3)\n",
    "q.ccx(0, 1, 2)\n",
    "q.ry(2 * 2 * np.arcsin(np.sqrt(p)), 2)\n",
    "# q.cry(2 * 2 * np.arcsin(np.sqrt(0.2)), 2, 1)\n",
    "q.ccx(0, 1, 2)\n",
    "zero.evolve(circuit).evolve(q) @ three"
   ]
  },
  {
   "cell_type": "code",
   "execution_count": 23,
   "metadata": {},
   "outputs": [
    {
     "data": {
      "text/plain": [
       "Statevector([0.6846532+0.j, 0.6846532+0.j, 0.1767767+0.j, 0.1767767+0.j,\n",
       "             0.       +0.j, 0.       +0.j, 0.       +0.j, 0.       +0.j],\n",
       "            dims=(2, 2, 2))"
      ]
     },
     "execution_count": 23,
     "metadata": {},
     "output_type": "execute_result"
    }
   ],
   "source": [
    "circuit = faster.construct_circuit(0)\n",
    "circuit.draw()\n",
    "zero = Statevector.from_int(0, dims=(2,2,2))\n",
    "three = Statevector.from_int(3, dims=(2,2,2))\n",
    "zero.evolve(circuit) \n",
    "#faster.run(backend)"
   ]
  },
  {
   "cell_type": "code",
   "execution_count": 24,
   "metadata": {},
   "outputs": [
    {
     "data": {
      "text/html": [
       "<pre style=\"word-wrap: normal;white-space: pre;background: #fff0;line-height: 1.1;font-family: &quot;Courier New&quot;,Courier,monospace\">         ┌──────────┐       ┌───────────┐  ┌───┐     ┌───┐  ┌──────────┐      »\n",
       "  q_0: ──┤ RY(pi/2) ├───■───┤ RY(-pi/2) ├──┤ X ├──■──┤ X ├──┤ RY(pi/2) ├───■──»\n",
       "       ┌─┴──────────┴┐  │  ┌┴───────────┴─┐├───┤  │  ├───┤┌─┴──────────┴┐  │  »\n",
       "  q_1: ┤ RY(0.50536) ├──■──┤ RY(-0.50536) ├┤ X ├──■──┤ X ├┤ RY(0.50536) ├──■──»\n",
       "       └────┬───┬────┘┌───┐└──────────────┘└───┘┌─┴─┐├───┤└────┬───┬────┘┌───┐»\n",
       "aux_0: ─────┤ X ├─────┤ H ├─────────────────────┤ X ├┤ H ├─────┤ X ├─────┤ X ├»\n",
       "            └───┘     └───┘                     └───┘└───┘     └───┘     └───┘»\n",
       "«        ┌───────────┐  ┌───┐     ┌───┐  ┌──────────┐       ┌───────────┐  »\n",
       "«  q_0: ─┤ RY(-pi/2) ├──┤ X ├──■──┤ X ├──┤ RY(pi/2) ├───■───┤ RY(-pi/2) ├──»\n",
       "«       ┌┴───────────┴─┐├───┤  │  ├───┤┌─┴──────────┴┐  │  ┌┴───────────┴─┐»\n",
       "«  q_1: ┤ RY(-0.50536) ├┤ X ├──■──┤ X ├┤ RY(0.50536) ├──■──┤ RY(-0.50536) ├»\n",
       "«       └────┬───┬─────┘└───┘┌─┴─┐├───┤└────┬───┬────┘┌───┐└────┬───┬─────┘»\n",
       "«aux_0: ─────┤ H ├───────────┤ X ├┤ H ├─────┤ X ├─────┤ X ├─────┤ H ├──────»\n",
       "«            └───┘           └───┘└───┘     └───┘     └───┘     └───┘      »\n",
       "«       ┌───┐     ┌───┐  ┌──────────┐       ┌───────────┐  ┌───┐     ┌───┐»\n",
       "«  q_0: ┤ X ├──■──┤ X ├──┤ RY(pi/2) ├───■───┤ RY(-pi/2) ├──┤ X ├──■──┤ X ├»\n",
       "«       ├───┤  │  ├───┤┌─┴──────────┴┐  │  ┌┴───────────┴─┐├───┤  │  ├───┤»\n",
       "«  q_1: ┤ X ├──■──┤ X ├┤ RY(0.50536) ├──■──┤ RY(-0.50536) ├┤ X ├──■──┤ X ├»\n",
       "«       └───┘┌─┴─┐├───┤└────┬───┬────┘┌───┐└────┬───┬─────┘└───┘┌─┴─┐├───┤»\n",
       "«aux_0: ─────┤ X ├┤ H ├─────┤ X ├─────┤ X ├─────┤ H ├───────────┤ X ├┤ H ├»\n",
       "«            └───┘└───┘     └───┘     └───┘     └───┘           └───┘└───┘»\n",
       "«         ┌──────────┐ \n",
       "«  q_0: ──┤ RY(pi/2) ├─\n",
       "«       ┌─┴──────────┴┐\n",
       "«  q_1: ┤ RY(0.50536) ├\n",
       "«       └────┬───┬────┘\n",
       "«aux_0: ─────┤ X ├─────\n",
       "«            └───┘     </pre>"
      ],
      "text/plain": [
       "         ┌──────────┐       ┌───────────┐  ┌───┐     ┌───┐  ┌──────────┐      »\n",
       "  q_0: ──┤ RY(pi/2) ├───■───┤ RY(-pi/2) ├──┤ X ├──■──┤ X ├──┤ RY(pi/2) ├───■──»\n",
       "       ┌─┴──────────┴┐  │  ┌┴───────────┴─┐├───┤  │  ├───┤┌─┴──────────┴┐  │  »\n",
       "  q_1: ┤ RY(0.50536) ├──■──┤ RY(-0.50536) ├┤ X ├──■──┤ X ├┤ RY(0.50536) ├──■──»\n",
       "       └────┬───┬────┘┌───┐└──────────────┘└───┘┌─┴─┐├───┤└────┬───┬────┘┌───┐»\n",
       "aux_0: ─────┤ X ├─────┤ H ├─────────────────────┤ X ├┤ H ├─────┤ X ├─────┤ X ├»\n",
       "            └───┘     └───┘                     └───┘└───┘     └───┘     └───┘»\n",
       "«        ┌───────────┐  ┌───┐     ┌───┐  ┌──────────┐       ┌───────────┐  »\n",
       "«  q_0: ─┤ RY(-pi/2) ├──┤ X ├──■──┤ X ├──┤ RY(pi/2) ├───■───┤ RY(-pi/2) ├──»\n",
       "«       ┌┴───────────┴─┐├───┤  │  ├───┤┌─┴──────────┴┐  │  ┌┴───────────┴─┐»\n",
       "«  q_1: ┤ RY(-0.50536) ├┤ X ├──■──┤ X ├┤ RY(0.50536) ├──■──┤ RY(-0.50536) ├»\n",
       "«       └────┬───┬─────┘└───┘┌─┴─┐├───┤└────┬───┬────┘┌───┐└────┬───┬─────┘»\n",
       "«aux_0: ─────┤ H ├───────────┤ X ├┤ H ├─────┤ X ├─────┤ X ├─────┤ H ├──────»\n",
       "«            └───┘           └───┘└───┘     └───┘     └───┘     └───┘      »\n",
       "«       ┌───┐     ┌───┐  ┌──────────┐       ┌───────────┐  ┌───┐     ┌───┐»\n",
       "«  q_0: ┤ X ├──■──┤ X ├──┤ RY(pi/2) ├───■───┤ RY(-pi/2) ├──┤ X ├──■──┤ X ├»\n",
       "«       ├───┤  │  ├───┤┌─┴──────────┴┐  │  ┌┴───────────┴─┐├───┤  │  ├───┤»\n",
       "«  q_1: ┤ X ├──■──┤ X ├┤ RY(0.50536) ├──■──┤ RY(-0.50536) ├┤ X ├──■──┤ X ├»\n",
       "«       └───┘┌─┴─┐├───┤└────┬───┬────┘┌───┐└────┬───┬─────┘└───┘┌─┴─┐├───┤»\n",
       "«aux_0: ─────┤ X ├┤ H ├─────┤ X ├─────┤ X ├─────┤ H ├───────────┤ X ├┤ H ├»\n",
       "«            └───┘└───┘     └───┘     └───┘     └───┘           └───┘└───┘»\n",
       "«         ┌──────────┐ \n",
       "«  q_0: ──┤ RY(pi/2) ├─\n",
       "«       ┌─┴──────────┴┐\n",
       "«  q_1: ┤ RY(0.50536) ├\n",
       "«       └────┬───┬────┘\n",
       "«aux_0: ─────┤ X ├─────\n",
       "«            └───┘     "
      ]
     },
     "execution_count": 24,
     "metadata": {},
     "output_type": "execute_result"
    }
   ],
   "source": [
    "m = 4\n",
    "circuit = faster.construct_circuit(m)\n",
    "circuit.draw()"
   ]
  },
  {
   "cell_type": "code",
   "execution_count": 25,
   "metadata": {},
   "outputs": [
    {
     "data": {
      "text/plain": [
       "Statevector([0.        +0.j, 0.        +0.j, 0.        +0.j,\n",
       "             0.99959107+0.j, 0.        +0.j, 0.        +0.j,\n",
       "             0.        +0.j, 0.        +0.j],\n",
       "            dims=(2, 2, 2))"
      ]
     },
     "execution_count": 25,
     "metadata": {},
     "output_type": "execute_result"
    }
   ],
   "source": [
    "zero.evolve(circuit) @ three "
   ]
  },
  {
   "cell_type": "code",
   "execution_count": 26,
   "metadata": {},
   "outputs": [
    {
     "name": "stdout",
     "output_type": "stream",
     "text": [
      "sin(2m + 1)theta 0.8459471409339914\n"
     ]
    }
   ],
   "source": [
    "print('sin(2m + 1)theta', np.sin((2 * m + 1) * np.arcsin(a / 4)))"
   ]
  },
  {
   "cell_type": "code",
   "execution_count": 41,
   "metadata": {},
   "outputs": [],
   "source": [
    "widths = [np.diff(result['value_ci'])[0] / 2 for result in results]\n",
    "oracle_calls = [result['num_oracle_calls'] for result in results]"
   ]
  },
  {
   "cell_type": "code",
   "execution_count": 42,
   "metadata": {},
   "outputs": [
    {
     "data": {
      "image/png": "[encoded data removed]",
      "text/plain": [
       "<Figure size 432x288 with 1 Axes>"
      ]
     },
     "metadata": {
      "needs_background": "light"
     },
     "output_type": "display_data"
    }
   ],
   "source": [
    "plt.loglog(oracle_calls, widths)\n",
    "plt.grid()"
   ]
  },
  {
   "cell_type": "code",
   "execution_count": 84,
   "metadata": {},
   "outputs": [
    {
     "data": {
      "text/plain": [
       "<qiskit.circuit.instructionset.InstructionSet at 0x134521150>"
      ]
     },
     "execution_count": 84,
     "metadata": {},
     "output_type": "execute_result"
    }
   ],
   "source": [
    "from qiskit import transpile\n",
    "from qiskit.circuit import QuantumCircuit, Parameter\n",
    "circuit = QuantumCircuit(3)\n",
    "a, t = Parameter('alpha'), Parameter('theta')\n",
    "\n",
    "circuit.ry(2 * t, 0)\n",
    "circuit.ry(2 * a, 1)\n",
    "circuit.x([0, 1, 2])\n",
    "circuit.h(2)\n",
    "circuit.ccx(0, 1, 2)\n",
    "circuit.h(2)\n",
    "circuit.x([0, 1, 2])\n",
    "circuit.ry(-2 * t, 0)\n",
    "circuit.ry(-2 * a, 1)\n",
    "circuit.cz(0, 1)"
   ]
  },
  {
   "cell_type": "code",
   "execution_count": 85,
   "metadata": {},
   "outputs": [],
   "source": [
    "transpiled = transpile(circuit, optimization_level=3)"
   ]
  },
  {
   "cell_type": "code",
   "execution_count": 86,
   "metadata": {},
   "outputs": [
    {
     "data": {
      "text/html": [
       "<pre style=\"word-wrap: normal;white-space: pre;background: #fff0;line-height: 1.1;font-family: &quot;Courier New&quot;,Courier,monospace\">     ┌─────────────┐┌───┐     ┌───┐┌──────────────┐   \n",
       "q_0: ┤ RY(2*theta) ├┤ X ├──■──┤ X ├┤ RY(-2*theta) ├─■─\n",
       "     ├─────────────┤├───┤  │  ├───┤├──────────────┤ │ \n",
       "q_1: ┤ RY(2*alpha) ├┤ X ├──■──┤ X ├┤ RY(-2*alpha) ├─■─\n",
       "     └────┬───┬────┘├───┤┌─┴─┐├───┤└────┬───┬─────┘   \n",
       "q_2: ─────┤ X ├─────┤ H ├┤ X ├┤ H ├─────┤ X ├─────────\n",
       "          └───┘     └───┘└───┘└───┘     └───┘         </pre>"
      ],
      "text/plain": [
       "     ┌─────────────┐┌───┐     ┌───┐┌──────────────┐   \n",
       "q_0: ┤ RY(2*theta) ├┤ X ├──■──┤ X ├┤ RY(-2*theta) ├─■─\n",
       "     ├─────────────┤├───┤  │  ├───┤├──────────────┤ │ \n",
       "q_1: ┤ RY(2*alpha) ├┤ X ├──■──┤ X ├┤ RY(-2*alpha) ├─■─\n",
       "     └────┬───┬────┘├───┤┌─┴─┐├───┤└────┬───┬─────┘   \n",
       "q_2: ─────┤ X ├─────┤ H ├┤ X ├┤ H ├─────┤ X ├─────────\n",
       "          └───┘     └───┘└───┘└───┘     └───┘         "
      ]
     },
     "execution_count": 86,
     "metadata": {},
     "output_type": "execute_result"
    }
   ],
   "source": [
    "transpiled.draw()"
   ]
  },
  {
   "cell_type": "code",
   "execution_count": null,
   "metadata": {},
   "outputs": [],
   "source": []
  }
 ],
 "metadata": {
  "kernelspec": {
   "display_name": "Python 3.7.5 64-bit ('latest': virtualenv)",
   "language": "python",
   "name": "python37564bitlatestvirtualenv76cfe9d7d3f749489cf2ff69593234af"
  },
  "language_info": {
   "codemirror_mode": {
    "name": "ipython",
    "version": 3
   },
   "file_extension": ".py",
   "mimetype": "text/x-python",
   "name": "python",
   "nbconvert_exporter": "python",
   "pygments_lexer": "ipython3",
   "version": "3.7.5"
  }
 },
 "nbformat": 4,
 "nbformat_minor": 2
}
