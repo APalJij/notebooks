{
 "cells": [
  {
   "cell_type": "markdown",
   "metadata": {},
   "source": [
    "# Circuit library demo"
   ]
  },
  {
   "cell_type": "code",
   "execution_count": null,
   "metadata": {},
   "outputs": [],
   "source": [
    "from qiskit.circuit.library import ..."
   ]
  },
  {
   "cell_type": "markdown",
   "metadata": {},
   "source": [
    "### Chemistry example: VQE"
   ]
  },
  {
   "cell_type": "code",
   "execution_count": 7,
   "metadata": {},
   "outputs": [],
   "source": [
    "# simulator\n",
    "from qiskit import Aer\n",
    "\n",
    "# the actual algorithm\n",
    "from qiskit.aqua.algorithms import VQE\n",
    "\n",
    "# for representation of the H2 molecule\n",
    "from qiskit.aqua.operators import WeightedPauliOperator\n",
    "\n",
    "# optimizer for the variational algorithm\n",
    "from qiskit.aqua.components.optimizers import SLSQP"
   ]
  },
  {
   "cell_type": "code",
   "execution_count": 8,
   "metadata": {},
   "outputs": [],
   "source": [
    "# building the qubit operator for the H2 molecule\n",
    "h2_hamiltonian = {\n",
    "    'paulis': [{\"coeff\": {\"imag\": 0.0, \"real\": -1.052373245772859}, \"label\": \"II\"},\n",
    "               {\"coeff\": {\"imag\": 0.0, \"real\": 0.39793742484318045}, \"label\": \"IZ\"},\n",
    "               {\"coeff\": {\"imag\": 0.0, \"real\": -0.39793742484318045}, \"label\": \"ZI\"},\n",
    "               {\"coeff\": {\"imag\": 0.0, \"real\": -0.01128010425623538}, \"label\": \"ZZ\"},\n",
    "               {\"coeff\": {\"imag\": 0.0, \"real\": 0.18093119978423156}, \"label\": \"XX\"}\n",
    "               ]\n",
    "}\n",
    "h2_qubit_operator = WeightedPauliOperator.from_dict(h2_hamiltonian)\n",
    "\n",
    "# defining the backend for the simulation\n",
    "backend = Aer.get_backend('statevector_simulator')\n",
    "\n",
    "# defining the numerical optimizer\n",
    "optimizer = SLSQP()"
   ]
  },
  {
   "cell_type": "markdown",
   "metadata": {},
   "source": [
    "The algorithm uses a \"guess\" or \"Ansatz\" wavefunction: this comes from our circuit library."
   ]
  },
  {
   "cell_type": "code",
   "execution_count": 9,
   "metadata": {},
   "outputs": [
    {
     "name": "stdout",
     "output_type": "stream",
     "text": [
      "     ┌──────────┐   ┌──────────┐   ┌──────────┐   ┌──────────┐\n",
      "q_0: ┤ Ry(θ[0]) ├─■─┤ Rz(θ[2]) ├─■─┤ Ry(θ[4]) ├─■─┤ Rz(θ[6]) ├\n",
      "     ├──────────┤ │ ├──────────┤ │ ├──────────┤ │ ├──────────┤\n",
      "q_1: ┤ Ry(θ[1]) ├─■─┤ Rz(θ[3]) ├─■─┤ Ry(θ[5]) ├─■─┤ Rz(θ[7]) ├\n",
      "     └──────────┘   └──────────┘   └──────────┘   └──────────┘\n"
     ]
    }
   ],
   "source": [
    "from qiskit.circuit.library import RYRZ  # Kandala et al., Nature Cover \n",
    "varform = RYRZ(h2_qubit_operator.num_qubits)\n",
    "print(varform)  "
   ]
  },
  {
   "cell_type": "code",
   "execution_count": 10,
   "metadata": {},
   "outputs": [],
   "source": [
    "# run the algorithm\n",
    "algo = VQE(h2_qubit_operator, varform, optimizer=optimizer, quantum_instance=backend)\n",
    "result = algo.compute_minimum_eigenvalue()"
   ]
  },
  {
   "cell_type": "code",
   "execution_count": 11,
   "metadata": {},
   "outputs": [
    {
     "name": "stdout",
     "output_type": "stream",
     "text": [
      "Energy: -1.8369679711094058\n",
      "Optimal parameters: [-3.47892620e-04 -1.24260320e+00 -3.09626868e+00  2.97334616e+00\n",
      " -9.01117678e-01 -1.35506167e-04  1.24264727e+00 -2.24067245e+00]\n"
     ]
    }
   ],
   "source": [
    "print('Energy:', result['eigenvalue'].real)\n",
    "print('Optimal parameters:', result['optimal_point'])"
   ]
  },
  {
   "cell_type": "markdown",
   "metadata": {},
   "source": [
    "Plug-n-play: circuit library has plentiful options, e.g. `TwoLocal`, `NLocal`, `RY`, ... ."
   ]
  },
  {
   "cell_type": "code",
   "execution_count": 12,
   "metadata": {},
   "outputs": [
    {
     "name": "stdout",
     "output_type": "stream",
     "text": [
      "     ┌──────────┐            ┌──────────┐            ┌──────────┐             ┌──────────┐\n",
      "q_0: ┤ Ry(θ[0]) ├─────■──────┤ Ry(θ[3]) ├─────■──────┤ Ry(θ[6]) ├─────■───────┤ Ry(θ[9]) ├\n",
      "     ├──────────┤┌────┴─────┐├──────────┤┌────┴─────┐├──────────┤┌────┴─────┐┌┴──────────┤\n",
      "q_1: ┤ Ry(θ[1]) ├┤ Rx(θ[2]) ├┤ Ry(θ[4]) ├┤ Rx(θ[5]) ├┤ Ry(θ[7]) ├┤ Rx(θ[8]) ├┤ Ry(θ[10]) ├\n",
      "     └──────────┘└──────────┘└──────────┘└──────────┘└──────────┘└──────────┘└───────────┘\n"
     ]
    }
   ],
   "source": [
    "from qiskit.circuit.library import TwoLocal\n",
    "\n",
    "# easy to implement all efficient 2-local circuits, e.g. all of Alan Aspuru-Guzik's Paper\n",
    "varform = TwoLocal(h2_qubit_operator.num_qubits, \n",
    "                    rotation_gates='ry',\n",
    "                    entanglement_gates='crx',\n",
    "                    entanglement='linear', \n",
    "                    reps=3)\n",
    "print(varform)  "
   ]
  },
  {
   "cell_type": "code",
   "execution_count": 13,
   "metadata": {},
   "outputs": [],
   "source": [
    "algo = VQE(h2_qubit_operator, varform, optimizer=SLSQP(), quantum_instance=backend)\n",
    "result = algo.compute_minimum_eigenvalue()"
   ]
  },
  {
   "cell_type": "code",
   "execution_count": 14,
   "metadata": {},
   "outputs": [
    {
     "name": "stdout",
     "output_type": "stream",
     "text": [
      "Energy: -1.8572749123347887\n",
      "Optimal parameters: [ 4.11779398  2.09875907 -2.64488942  5.26592202  2.004999    4.01549089\n",
      "  2.27335589  4.847305   -3.34533421  3.91904872 -5.89802565]\n"
     ]
    }
   ],
   "source": [
    "print('Energy:', result['eigenvalue'].real)\n",
    "print('Optimal parameters:', result['optimal_point'])"
   ]
  },
  {
   "cell_type": "code",
   "execution_count": 15,
   "metadata": {},
   "outputs": [
    {
     "name": "stdout",
     "output_type": "stream",
     "text": [
      "     ┌──────────┐┌──────────┐                                     ░  ┌──────────┐\n",
      "q_0: ┤ Ry(θ[0]) ├┤ Rx(θ[4]) ├─────■───────────────────────────────░──┤ Ry(θ[8]) ├\n",
      "     ├──────────┤└────┬─────┘┌────┴─────┐                         ░  ├──────────┤\n",
      "q_1: ┤ Ry(θ[1]) ├─────┼──────┤ Rx(θ[5]) ├─────■───────────────────░──┤ Ry(θ[9]) ├\n",
      "     ├──────────┤     │      └──────────┘┌────┴─────┐             ░ ┌┴──────────┤\n",
      "q_2: ┤ Ry(θ[2]) ├─────┼──────────────────┤ Rx(θ[6]) ├─────■───────░─┤ Ry(θ[10]) ├\n",
      "     ├──────────┤     │                  └──────────┘┌────┴─────┐ ░ ├───────────┤\n",
      "q_3: ┤ Ry(θ[3]) ├─────■──────────────────────────────┤ Rx(θ[7]) ├─░─┤ Ry(θ[11]) ├\n",
      "     └──────────┘                                    └──────────┘ ░ └───────────┘\n"
     ]
    }
   ],
   "source": [
    "varform.num_qubits = 4\n",
    "varform.reps = 1\n",
    "varform.insert_barriers = True\n",
    "varform.entanglement = 'circular'\n",
    "varform.rotation_gates = ['z', 'ry']\n",
    "print(varform)"
   ]
  },
  {
   "cell_type": "markdown",
   "metadata": {},
   "source": [
    "### Machine learning example: VQC"
   ]
  },
  {
   "cell_type": "code",
   "execution_count": 16,
   "metadata": {},
   "outputs": [],
   "source": [
    "# the algorithm\n",
    "from qiskit.aqua.algorithms import VQC\n",
    "\n",
    "# the training and test data\n",
    "from sample import training_data, test_data, feature_dimension"
   ]
  },
  {
   "cell_type": "code",
   "execution_count": 17,
   "metadata": {},
   "outputs": [],
   "source": [
    "# fix the random seeds\n",
    "from qiskit.aqua import aqua_globals\n",
    "from numpy import random\n",
    "\n",
    "aqua_globals.seed = 373\n",
    "random.seed = 53\n",
    "seed_simulator, seed_transpiler = 981, 74"
   ]
  },
  {
   "cell_type": "code",
   "execution_count": 18,
   "metadata": {},
   "outputs": [],
   "source": [
    "from qiskit.circuit.library import SecondOrderExpansion\n",
    "feature_map = SecondOrderExpansion(feature_dimension=feature_dimension, depth=2)  # Havlicek et al., Nature Cover"
   ]
  },
  {
   "cell_type": "code",
   "execution_count": 23,
   "metadata": {},
   "outputs": [
    {
     "data": {
      "text/html": [
       "<pre style=\"word-wrap: normal;white-space: pre;background: #fff0;line-height: 1.1;font-family: &quot;Courier New&quot;,Courier,monospace\">     ┌──────────┐┌──────────────┐     »\n",
       "q_0: ┤ U2(0,pi) ├┤ U1(2.0*x[0]) ├──■──»\n",
       "     ├──────────┤├──────────────┤┌─┴─┐»\n",
       "q_1: ┤ U2(0,pi) ├┤ U1(2.0*x[1]) ├┤ X ├»\n",
       "     └──────────┘└──────────────┘└───┘»\n",
       "«                                                                         »\n",
       "«q_0: ─────────────────────────────────────────────────────────────────■──»\n",
       "«     ┌─────────────────────────────────────────────────────────────┐┌─┴─┐»\n",
       "«q_1: ┤ U1(2.0*(3.14159265358979 - x[0])*(3.14159265358979 - x[1])) ├┤ X ├»\n",
       "«     └─────────────────────────────────────────────────────────────┘└───┘»\n",
       "«     ┌──────────┐┌──────────────┐     »\n",
       "«q_0: ┤ U2(0,pi) ├┤ U1(2.0*x[0]) ├──■──»\n",
       "«     ├──────────┤├──────────────┤┌─┴─┐»\n",
       "«q_1: ┤ U2(0,pi) ├┤ U1(2.0*x[1]) ├┤ X ├»\n",
       "«     └──────────┘└──────────────┘└───┘»\n",
       "«                                                                         \n",
       "«q_0: ─────────────────────────────────────────────────────────────────■──\n",
       "«     ┌─────────────────────────────────────────────────────────────┐┌─┴─┐\n",
       "«q_1: ┤ U1(2.0*(3.14159265358979 - x[0])*(3.14159265358979 - x[1])) ├┤ X ├\n",
       "«     └─────────────────────────────────────────────────────────────┘└───┘</pre>"
      ],
      "text/plain": [
       "     ┌──────────┐┌──────────────┐     »\n",
       "q_0: ┤ U2(0,pi) ├┤ U1(2.0*x[0]) ├──■──»\n",
       "     ├──────────┤├──────────────┤┌─┴─┐»\n",
       "q_1: ┤ U2(0,pi) ├┤ U1(2.0*x[1]) ├┤ X ├»\n",
       "     └──────────┘└──────────────┘└───┘»\n",
       "«                                                                         »\n",
       "«q_0: ─────────────────────────────────────────────────────────────────■──»\n",
       "«     ┌─────────────────────────────────────────────────────────────┐┌─┴─┐»\n",
       "«q_1: ┤ U1(2.0*(3.14159265358979 - x[0])*(3.14159265358979 - x[1])) ├┤ X ├»\n",
       "«     └─────────────────────────────────────────────────────────────┘└───┘»\n",
       "«     ┌──────────┐┌──────────────┐     »\n",
       "«q_0: ┤ U2(0,pi) ├┤ U1(2.0*x[0]) ├──■──»\n",
       "«     ├──────────┤├──────────────┤┌─┴─┐»\n",
       "«q_1: ┤ U2(0,pi) ├┤ U1(2.0*x[1]) ├┤ X ├»\n",
       "«     └──────────┘└──────────────┘└───┘»\n",
       "«                                                                         \n",
       "«q_0: ─────────────────────────────────────────────────────────────────■──\n",
       "«     ┌─────────────────────────────────────────────────────────────┐┌─┴─┐\n",
       "«q_1: ┤ U1(2.0*(3.14159265358979 - x[0])*(3.14159265358979 - x[1])) ├┤ X ├\n",
       "«     └─────────────────────────────────────────────────────────────┘└───┘"
      ]
     },
     "execution_count": 23,
     "metadata": {},
     "output_type": "execute_result"
    }
   ],
   "source": [
    "print(feature_map)"
   ]
  },
  {
   "cell_type": "code",
   "execution_count": 13,
   "metadata": {},
   "outputs": [],
   "source": [
    "varform = RYRZ(num_qubits=feature_map.num_qubits, reps=2)"
   ]
  },
  {
   "cell_type": "code",
   "execution_count": 14,
   "metadata": {
    "scrolled": false
   },
   "outputs": [],
   "source": [
    "vqc = VQC(optimizer, feature_map, varform, training_data, test_data)\n",
    "result = vqc.run(backend, seed_simulator=seed_simulator, seed_transpiler=seed_transpiler)"
   ]
  },
  {
   "cell_type": "code",
   "execution_count": 15,
   "metadata": {},
   "outputs": [
    {
     "name": "stdout",
     "output_type": "stream",
     "text": [
      "Training loss: 0.295080504739488\n",
      "Test loss: 0.4863865293292629\n"
     ]
    }
   ],
   "source": [
    "print('Training loss:', result['training_loss'])\n",
    "print('Test loss:', result['testing_loss'])"
   ]
  },
  {
   "cell_type": "code",
   "execution_count": 30,
   "metadata": {},
   "outputs": [],
   "source": [
    "from qiskit.circuit.library import QFT"
   ]
  },
  {
   "cell_type": "code",
   "execution_count": 33,
   "metadata": {},
   "outputs": [],
   "source": [
    "varform = QFT(2) + RYRZ(2, reps=2)"
   ]
  },
  {
   "cell_type": "code",
   "execution_count": 32,
   "metadata": {},
   "outputs": [
    {
     "name": "stdout",
     "output_type": "stream",
     "text": [
      "       ┌───┐               ┌──────────┐   ┌──────────┐   ┌──────────┐\n",
      "q24_0: ┤ H ├─■───────────X─┤ Ry(θ[0]) ├─■─┤ Rz(θ[2]) ├─■─┤ Ry(θ[4]) ├\n",
      "       └───┘ │pi/2 ┌───┐ │ ├──────────┤ │ ├──────────┤ │ ├──────────┤\n",
      "q24_1: ──────■─────┤ H ├─X─┤ Ry(θ[1]) ├─■─┤ Rz(θ[3]) ├─■─┤ Ry(θ[5]) ├\n",
      "                   └───┘   └──────────┘   └──────────┘   └──────────┘\n"
     ]
    }
   ],
   "source": [
    "print(varform.draw())"
   ]
  },
  {
   "cell_type": "code",
   "execution_count": 19,
   "metadata": {},
   "outputs": [],
   "source": [
    "vqc = VQC(optimizer, feature_map, varform, training_data, test_data)\n",
    "result = vqc.run(backend, seed_simulator=seed_simulator, seed_transpiler=seed_transpiler)"
   ]
  },
  {
   "cell_type": "code",
   "execution_count": 20,
   "metadata": {},
   "outputs": [
    {
     "name": "stdout",
     "output_type": "stream",
     "text": [
      "Training loss: 0.2514647782705993\n",
      "Test loss: 1.430601507930052\n"
     ]
    }
   ],
   "source": [
    "print('Training loss:', result['training_loss'])\n",
    "print('Test loss:', result['testing_loss'])"
   ]
  }
 ],
 "metadata": {
  "kernelspec": {
   "display_name": "Python 3.7.5 64-bit ('latest': virtualenv)",
   "language": "python",
   "name": "python37564bitlatestvirtualenv76cfe9d7d3f749489cf2ff69593234af"
  },
  "language_info": {
   "codemirror_mode": {
    "name": "ipython",
    "version": 3
   },
   "file_extension": ".py",
   "mimetype": "text/x-python",
   "name": "python",
   "nbconvert_exporter": "python",
   "pygments_lexer": "ipython3",
   "version": "3.7.5"
  }
 },
 "nbformat": 4,
 "nbformat_minor": 2
}
