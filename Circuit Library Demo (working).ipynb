{
 "cells": [
  {
   "cell_type": "markdown",
   "metadata": {},
   "source": [
    "# Circuit library demo"
   ]
  },
  {
   "cell_type": "code",
   "execution_count": 1,
   "metadata": {},
   "outputs": [],
   "source": [
    "from qiskit.circuit.library import QuantumVolume, FourierChecking, WeightedAdder #,  ..."
   ]
  },
  {
   "cell_type": "markdown",
   "metadata": {},
   "source": [
    "### Chemistry example: Variational Quantum Eigensolver"
   ]
  },
  {
   "cell_type": "code",
   "execution_count": 2,
   "metadata": {},
   "outputs": [],
   "source": [
    "# simulator\n",
    "from qiskit import Aer\n",
    "\n",
    "# the actual algorithm\n",
    "from qiskit.aqua.algorithms import VQE\n",
    "\n",
    "# for representation of the H2 molecule\n",
    "from qiskit.aqua.operators import WeightedPauliOperator\n",
    "\n",
    "# optimizer for the variational algorithm\n",
    "from qiskit.aqua.components.optimizers import SLSQP"
   ]
  },
  {
   "cell_type": "code",
   "execution_count": 3,
   "metadata": {},
   "outputs": [],
   "source": [
    "# building the qubit operator for the H2 molecule\n",
    "h2_hamiltonian = {\n",
    "    'paulis': [{\"coeff\": {\"imag\": 0.0, \"real\": -1.052373245772859}, \"label\": \"II\"},\n",
    "               {\"coeff\": {\"imag\": 0.0, \"real\": 0.39793742484318045}, \"label\": \"IZ\"},\n",
    "               {\"coeff\": {\"imag\": 0.0, \"real\": -0.39793742484318045}, \"label\": \"ZI\"},\n",
    "               {\"coeff\": {\"imag\": 0.0, \"real\": -0.01128010425623538}, \"label\": \"ZZ\"},\n",
    "               {\"coeff\": {\"imag\": 0.0, \"real\": 0.18093119978423156}, \"label\": \"XX\"}\n",
    "               ]\n",
    "}\n",
    "h2_qubit_operator = WeightedPauliOperator.from_dict(h2_hamiltonian)\n",
    "\n",
    "# defining the backend for the simulation\n",
    "backend = Aer.get_backend('statevector_simulator')\n",
    "\n",
    "# defining the numerical optimizer\n",
    "optimizer = SLSQP()"
   ]
  },
  {
   "cell_type": "markdown",
   "metadata": {},
   "source": [
    "The algorithm uses a \"guess\" or \"Ansatz\" wavefunction: this comes from our circuit library."
   ]
  },
  {
   "cell_type": "code",
   "execution_count": 4,
   "metadata": {},
   "outputs": [
    {
     "data": {
      "image/png": "[encoded data removed]",
      "text/plain": [
       "<Figure size 1200.56x206.4 with 1 Axes>"
      ]
     },
     "execution_count": 4,
     "metadata": {},
     "output_type": "execute_result"
    }
   ],
   "source": [
    "from qiskit.circuit.library import RYRZ  # Kandala et al., Nature Cover \n",
    "varform = RYRZ(h2_qubit_operator.num_qubits)\n",
    "varform.draw(scale=1, output='mpl')"
   ]
  },
  {
   "cell_type": "code",
   "execution_count": 5,
   "metadata": {},
   "outputs": [],
   "source": [
    "# run the algorithm\n",
    "algo = VQE(h2_qubit_operator, varform, optimizer=optimizer, quantum_instance=backend)\n",
    "result = algo.compute_minimum_eigenvalue()"
   ]
  },
  {
   "cell_type": "code",
   "execution_count": 6,
   "metadata": {},
   "outputs": [
    {
     "name": "stdout",
     "output_type": "stream",
     "text": [
      "Energy: -1.8572749538592355\n",
      "Optimal parameters: [ 0.05149911  0.41794549 -1.87552336  0.06836094  0.59734492 -2.93636169\n",
      " -1.88960097 -1.03848127  0.68987157 -2.51715307  0.58197612 -1.64592804\n",
      " -0.05490746 -0.38971754 -0.97332264 -2.40445358]\n"
     ]
    }
   ],
   "source": [
    "print('Energy:', result['eigenvalue'].real)\n",
    "print('Optimal parameters:', result['optimal_point'])"
   ]
  },
  {
   "cell_type": "markdown",
   "metadata": {},
   "source": [
    "Plug-n-play: circuit library has plentiful options, e.g. `TwoLocal`, `NLocal`, `RY`, ... ."
   ]
  },
  {
   "cell_type": "code",
   "execution_count": 7,
   "metadata": {},
   "outputs": [
    {
     "data": {
      "image/png": "[encoded data removed]",
      "text/plain": [
       "<Figure size 1027.87x247.68 with 1 Axes>"
      ]
     },
     "execution_count": 7,
     "metadata": {},
     "output_type": "execute_result"
    }
   ],
   "source": [
    "from qiskit.circuit.library import TwoLocal\n",
    "\n",
    "# easy to implement all efficient 2-local circuits, e.g. all of Alan Aspuru-Guzik's Paper\n",
    "varform = TwoLocal(h2_qubit_operator.num_qubits, \n",
    "                   rotation_blocks='ry',\n",
    "                   entanglement_blocks='crx',\n",
    "                   entanglement='linear', \n",
    "                   reps=3)\n",
    "varform.draw(scale=1.2, output='mpl')"
   ]
  },
  {
   "cell_type": "code",
   "execution_count": 8,
   "metadata": {},
   "outputs": [],
   "source": [
    "algo = VQE(h2_qubit_operator, varform, optimizer=SLSQP(), quantum_instance=backend)\n",
    "result = algo.compute_minimum_eigenvalue()"
   ]
  },
  {
   "cell_type": "code",
   "execution_count": 9,
   "metadata": {},
   "outputs": [
    {
     "name": "stdout",
     "output_type": "stream",
     "text": [
      "Energy: -1.857274905615748\n",
      "Optimal parameters: [-4.29572621 -1.2806668   3.80962385  5.40578658  0.48584993  3.33120281\n",
      "  6.88411738  4.75456922  1.92170827  0.7727848  -5.74463275]\n"
     ]
    }
   ],
   "source": [
    "print('Energy:', result['eigenvalue'].real)\n",
    "print('Optimal parameters:', result['optimal_point'])"
   ]
  },
  {
   "cell_type": "markdown",
   "metadata": {},
   "source": [
    "### Circuit mutability\n",
    "\n",
    "An important feature of the circuit library is, that the circuits can be passed around as blueprints. The structure can be specified upfront, but only once all information is available we set the missing parts, e.g. the number of qubits."
   ]
  },
  {
   "cell_type": "markdown",
   "metadata": {},
   "source": [
    "![alt text](./mutability.png)"
   ]
  },
  {
   "cell_type": "code",
   "execution_count": null,
   "metadata": {},
   "outputs": [],
   "source": [
    "class VariationalQuantumEigensolver:\n",
    "    def __init__(self, guess_wavefunction):\n",
    "        # store the guess wavefunction\n",
    "        self.guess_wavefunction = guess_wavefunction\n",
    "        \n",
    "    def compute_minumum_eigenvalue(self, hamiltonian):\n",
    "        # adjust guess wavefunction to size of the Hamiltonian\n",
    "        self.guess_wavefunction.num_qubits = hamiltonian.num_qubits\n",
    "        # run the iterative algorithm...\n",
    "        \n",
    "class QuadraticUnconstrainedBinaryOptimizer:\n",
    "    def __init__(self, variational_quantum_eigensolver):\n",
    "        # store the algorithm uses as subroutine\n",
    "        self.vqe = variational_quantum_eigensolver\n",
    "        \n",
    "    def solve(self, problem):\n",
    "        # the Variational Quantum Eigensolver must run for any problem size! \n",
    "        solution = self.vqe.compute_minimum_eigenvalue(problem)"
   ]
  },
  {
   "cell_type": "code",
   "execution_count": 10,
   "metadata": {},
   "outputs": [
    {
     "data": {
      "image/png": "[encoded data removed]",
      "text/plain": [
       "<Figure size 942.56x378.4 with 1 Axes>"
      ]
     },
     "execution_count": 10,
     "metadata": {},
     "output_type": "execute_result"
    }
   ],
   "source": [
    "varform.num_qubits = 4\n",
    "varform.reps = 1\n",
    "varform.insert_barriers = True\n",
    "varform.entanglement = 'circular'\n",
    "varform.rotation_gates = ['z', 'ry']\n",
    "varform.draw(scale=1, output='mpl')"
   ]
  },
  {
   "cell_type": "markdown",
   "metadata": {},
   "source": [
    "### Machine learning example: Variational Quantum Classifier"
   ]
  },
  {
   "cell_type": "code",
   "execution_count": 18,
   "metadata": {},
   "outputs": [],
   "source": [
    "import os\n",
    "os.environ['QISKIT_IN_PARALLEL'] = 'TRUE'"
   ]
  },
  {
   "cell_type": "code",
   "execution_count": 19,
   "metadata": {},
   "outputs": [],
   "source": [
    "# the algorithm\n",
    "from qiskit.aqua.algorithms import VQC\n",
    "\n",
    "# the training and test data\n",
    "from sample import training_data, test_data, feature_dimension"
   ]
  },
  {
   "cell_type": "code",
   "execution_count": 20,
   "metadata": {},
   "outputs": [],
   "source": [
    "# fix the random seeds\n",
    "from qiskit.aqua import aqua_globals\n",
    "from numpy import random\n",
    "\n",
    "aqua_globals.seed = 373\n",
    "random.seed = 53\n",
    "seed_simulator, seed_transpiler = 981, 74"
   ]
  },
  {
   "cell_type": "code",
   "execution_count": 21,
   "metadata": {},
   "outputs": [],
   "source": [
    "from qiskit.circuit.library import SecondOrderExpansion\n",
    "feature_map = SecondOrderExpansion(feature_dimension=feature_dimension, depth=1)  # Havlicek et al., Nature Cover"
   ]
  },
  {
   "cell_type": "code",
   "execution_count": 22,
   "metadata": {},
   "outputs": [
    {
     "data": {
      "image/png": "[encoded data removed]",
      "text/plain": [
       "<Figure size 840.392x144.48 with 1 Axes>"
      ]
     },
     "execution_count": 22,
     "metadata": {},
     "output_type": "execute_result"
    }
   ],
   "source": [
    "feature_map.draw(output='mpl')"
   ]
  },
  {
   "cell_type": "code",
   "execution_count": 23,
   "metadata": {},
   "outputs": [],
   "source": [
    "varform = RYRZ(num_qubits=feature_map.num_qubits, reps=1)"
   ]
  },
  {
   "cell_type": "code",
   "execution_count": 24,
   "metadata": {
    "scrolled": false
   },
   "outputs": [],
   "source": [
    "vqc = VQC(optimizer, feature_map, varform, training_data, test_data)\n",
    "result = vqc.run(backend, seed_simulator=seed_simulator, seed_transpiler=seed_transpiler)"
   ]
  },
  {
   "cell_type": "code",
   "execution_count": 25,
   "metadata": {},
   "outputs": [
    {
     "name": "stdout",
     "output_type": "stream",
     "text": [
      "Training loss: 0.1295201003294418\n",
      "Test loss: 1.2172340532672068\n"
     ]
    }
   ],
   "source": [
    "print('Training loss:', result['training_loss'])\n",
    "print('Test loss:', result['testing_loss'])"
   ]
  },
  {
   "cell_type": "code",
   "execution_count": 26,
   "metadata": {},
   "outputs": [],
   "source": [
    "from qiskit.circuit.library import QFT"
   ]
  },
  {
   "cell_type": "code",
   "execution_count": 27,
   "metadata": {},
   "outputs": [],
   "source": [
    "varform = QFT(2) + RYRZ(2, reps=2)"
   ]
  },
  {
   "cell_type": "code",
   "execution_count": 28,
   "metadata": {},
   "outputs": [
    {
     "data": {
      "image/png": "[encoded data removed]",
      "text/plain": [
       "<Figure size 900.592x144.48 with 1 Axes>"
      ]
     },
     "execution_count": 28,
     "metadata": {},
     "output_type": "execute_result"
    }
   ],
   "source": [
    "varform.draw(output='mpl')"
   ]
  },
  {
   "cell_type": "code",
   "execution_count": 29,
   "metadata": {},
   "outputs": [],
   "source": [
    "vqc = VQC(optimizer, feature_map, varform, training_data, test_data)\n",
    "result = vqc.run(backend, seed_simulator=seed_simulator, seed_transpiler=seed_transpiler)"
   ]
  },
  {
   "cell_type": "code",
   "execution_count": 30,
   "metadata": {},
   "outputs": [
    {
     "name": "stdout",
     "output_type": "stream",
     "text": [
      "Training loss: 0.10581905313965678\n",
      "Test loss: 0.7851322859180203\n"
     ]
    }
   ],
   "source": [
    "print('Training loss:', result['training_loss'])\n",
    "print('Test loss:', result['testing_loss'])"
   ]
  },
  {
   "cell_type": "code",
   "execution_count": null,
   "metadata": {},
   "outputs": [],
   "source": []
  }
 ],
 "metadata": {
  "kernelspec": {
   "display_name": "Python 3.7.5 64-bit ('latest': virtualenv)",
   "language": "python",
   "name": "python37564bitlatestvirtualenv76cfe9d7d3f749489cf2ff69593234af"
  },
  "language_info": {
   "codemirror_mode": {
    "name": "ipython",
    "version": 3
   },
   "file_extension": ".py",
   "mimetype": "text/x-python",
   "name": "python",
   "nbconvert_exporter": "python",
   "pygments_lexer": "ipython3",
   "version": "3.7.5"
  }
 },
 "nbformat": 4,
 "nbformat_minor": 2
}
