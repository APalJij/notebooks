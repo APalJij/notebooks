{
 "cells": [
  {
   "cell_type": "markdown",
   "metadata": {},
   "source": [
    "# Circuit library\n",
    "\n",
    "They are all rendering as block."
   ]
  },
  {
   "cell_type": "code",
   "execution_count": 1,
   "metadata": {},
   "outputs": [],
   "source": [
    "import numpy as np\n",
    "import matplotlib\n",
    "%matplotlib inline"
   ]
  },
  {
   "cell_type": "code",
   "execution_count": null,
   "metadata": {},
   "outputs": [],
   "source": [
    "from qiskit.circuit import QuantumCircuit\n",
    "\n",
    "circuit = QuantumCircuit(5)\n",
    "circuit.i(0)\n",
    "circuit.x(1)\n",
    "circuit.y(2)\n",
    "circuit.z(3)\n",
    "\n",
    "circuit.h(0)\n",
    "circuit.s(1)\n",
    "circuit.sdg(2)\n",
    "circuit.cx(0, 1)\n",
    "circuit.cy(2, 3)\n",
    "circuit.cz(1, 2)\n",
    "circuit.swap(2, 3)\n",
    "circuit.iswap(2, 3)\n",
    "circuit.dcx(0, 1)\n",
    "\n",
    "circuit.u1(0, 0)\n",
    "circuit.u2(0, 0, 1)\n",
    "circuit.u3(0, 0, 0, 2)\n",
    "\n",
    "\n",
    "circuit.cu1(0, 0, 1)\n",
    "circuit.cu3(0, 0, 0, 2, 3)\n",
    "\n",
    "circuit.ch(3, 4)\n",
    "\n",
    "circuit.rx(0, 0)\n",
    "circuit.ry(0, 1)\n",
    "circuit.rz(0, 2)\n",
    "circuit.r(0, 0, 3)\n",
    "circuit.t(4)\n",
    "circuit.tdg(4)\n",
    "\n",
    "circuit.rxx(0, 0, 1)\n",
    "circuit.ryy(0, 1, 2)\n",
    "circuit.rzz(0, 2, 3)\n",
    "circuit.rzx(0, 0, 1)\n",
    "circuit.ccx(0, 1, 2)\n",
    "circuit.cswap(0, 1, 2)\n",
    "circuit.rccx(0, 1, 2)\n",
    "circuit.rcccx(0, 1, 2, 3)\n",
    "circuit.ms([[0] * 5] * 5, [0, 1, 2, 3, 4])\n",
    "\n",
    "circuit.unitary(np.eye(4), [0, 1])\n",
    "#circuit.initialize(np.eye(4)[0,:], [2, 3])\n",
    "#circuit.isometry(np.eye(4), [], [1, 2])\n",
    "\n",
    "circuit.draw(output='mpl')"
   ]
  },
  {
   "cell_type": "code",
   "execution_count": null,
   "metadata": {},
   "outputs": [],
   "source": [
    "from qiskit.circuit.library import QFT  # e.g. for the Quantum Fourier Transform\n",
    "QFT(4).draw(output='mpl')"
   ]
  },
  {
   "cell_type": "code",
   "execution_count": null,
   "metadata": {},
   "outputs": [],
   "source": [
    "from qiskit.circuit.library import OR\n",
    "OR(4).draw(output='mpl')"
   ]
  },
  {
   "cell_type": "code",
   "execution_count": null,
   "metadata": {},
   "outputs": [],
   "source": [
    "from qiskit.circuit.library import LinearPauliRotations\n",
    "LinearPauliRotations(4, offset=2, slope=0.5).draw(output='mpl')"
   ]
  },
  {
   "cell_type": "code",
   "execution_count": null,
   "metadata": {},
   "outputs": [],
   "source": [
    "from qiskit.circuit.library import PiecewiseLinearPauliRotations\n",
    "PiecewiseLinearPauliRotations(4, breakpoints=[0, 2], offsets=[2, 1], slopes=[0.5, -0.5]).draw(output='mpl')"
   ]
  },
  {
   "cell_type": "code",
   "execution_count": null,
   "metadata": {},
   "outputs": [],
   "source": [
    "from qiskit.circuit.library import QuantumVolume\n",
    "QuantumVolume(4).decompose().draw(output='mpl')"
   ]
  },
  {
   "cell_type": "code",
   "execution_count": null,
   "metadata": {},
   "outputs": [],
   "source": [
    "QuantumVolume(4).decompose().decompose().draw(output='mpl')"
   ]
  },
  {
   "cell_type": "code",
   "execution_count": null,
   "metadata": {},
   "outputs": [],
   "source": [
    "from qiskit.circuit.library import EfficientSU2\n",
    "EfficientSU2(3, entanglement='linear').draw(output='mpl')"
   ]
  },
  {
   "cell_type": "code",
   "execution_count": null,
   "metadata": {},
   "outputs": [],
   "source": [
    "from qiskit.circuit.library import WeightedAdder\n",
    "WeightedAdder(3, [1,2,1]).draw(output='mpl')"
   ]
  },
  {
   "cell_type": "code",
   "execution_count": null,
   "metadata": {},
   "outputs": [],
   "source": [
    "from qiskit.circuit.library import IntegerComparator\n",
    "IntegerComparator(3, 4).draw(output='mpl')"
   ]
  },
  {
   "cell_type": "code",
   "execution_count": null,
   "metadata": {},
   "outputs": [],
   "source": [
    "from qiskit import QuantumCircuit\n",
    "circuit = QuantumCircuit(7)\n",
    "circuit.mcx([0, 1, 2, 3], 4, ancilla_qubits=[5, 6], mode='v-chain')\n",
    "circuit.decompose().draw(output='mpl')"
   ]
  },
  {
   "cell_type": "code",
   "execution_count": null,
   "metadata": {},
   "outputs": [],
   "source": [
    "circuit.decompose().decompose().draw(output='mpl')"
   ]
  },
  {
   "cell_type": "code",
   "execution_count": null,
   "metadata": {},
   "outputs": [],
   "source": [
    "from qiskit.circuit.library import ZZFeatureMap\n",
    "ZZFeatureMap(3).draw(output='mpl')"
   ]
  },
  {
   "cell_type": "code",
   "execution_count": null,
   "metadata": {},
   "outputs": [],
   "source": [
    "from qiskit.circuit.library import ExcitationPreserving\n",
    "ExcitationPreserving(3).draw(output='mpl')"
   ]
  },
  {
   "cell_type": "code",
   "execution_count": null,
   "metadata": {},
   "outputs": [],
   "source": [
    "from qiskit.circuit.library import IQP\n",
    "IQP([[6, 5, 3], [5, 4, 5], [3, 5, 1]]).decompose().draw(output='mpl')"
   ]
  },
  {
   "cell_type": "code",
   "execution_count": null,
   "metadata": {},
   "outputs": [],
   "source": [
    "from qiskit.circuit.library import GMS\n",
    "GMS(5, [[0.2] * 5] * 5).decompose().draw(output='mpl')"
   ]
  },
  {
   "cell_type": "code",
   "execution_count": null,
   "metadata": {},
   "outputs": [],
   "source": [
    "GMS(5, [[0.2] * 5] * 5).decompose().decompose().draw(output='mpl')"
   ]
  }
 ],
 "metadata": {
  "kernelspec": {
   "display_name": "Python 3.7.5 64-bit ('latest': virtualenv)",
   "language": "python",
   "name": "python37564bitlatestvirtualenv76cfe9d7d3f749489cf2ff69593234af"
  },
  "language_info": {
   "codemirror_mode": {
    "name": "ipython",
    "version": 3
   },
   "file_extension": ".py",
   "mimetype": "text/x-python",
   "name": "python",
   "nbconvert_exporter": "python",
   "pygments_lexer": "ipython3",
   "version": "3.7.5"
  }
 },
 "nbformat": 4,
 "nbformat_minor": 2
}
