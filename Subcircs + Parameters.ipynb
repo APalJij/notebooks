{
 "cells": [
  {
   "cell_type": "code",
   "execution_count": 2,
   "metadata": {},
   "outputs": [],
   "source": [
    "from qiskit import QuantumCircuit, QuantumCircuit\n",
    "from qiskit.circuit import Parameter"
   ]
  },
  {
   "cell_type": "code",
   "execution_count": 3,
   "metadata": {},
   "outputs": [
    {
     "data": {
      "text/html": [
       "<pre style=\"word-wrap: normal;white-space: pre;background: #fff0;line-height: 1.1;font-family: &quot;Courier New&quot;,Courier,monospace\">        ┌───┐\n",
       "q_0: |0>┤ H ├\n",
       "        ├───┤\n",
       "q_1: |0>┤ X ├\n",
       "        ├───┤\n",
       "q_2: |0>┤ Z ├\n",
       "        └───┘</pre>"
      ],
      "text/plain": [
       "<qiskit.visualization.text.TextDrawing at 0x12aa63950>"
      ]
     },
     "execution_count": 3,
     "metadata": {},
     "output_type": "execute_result"
    }
   ],
   "source": [
    "subcirc = QuantumCircuit(3)\n",
    "subcirc.h(0)\n",
    "subcirc.x(1)\n",
    "subcirc.z(2)\n",
    "subcirc.draw()"
   ]
  },
  {
   "cell_type": "code",
   "execution_count": 4,
   "metadata": {},
   "outputs": [
    {
     "data": {
      "text/html": [
       "<pre style=\"word-wrap: normal;white-space: pre;background: #fff0;line-height: 1.1;font-family: &quot;Courier New&quot;,Courier,monospace\">        ┌───────────┐\n",
       "q_0: |0>┤0          ├\n",
       "        │           │\n",
       "q_1: |0>┤           ├\n",
       "        │  circuit0 │\n",
       "q_2: |0>┤1          ├\n",
       "        │           │\n",
       "q_3: |0>┤2          ├\n",
       "        └───────────┘\n",
       "q_4: |0>─────────────\n",
       "                     </pre>"
      ],
      "text/plain": [
       "<qiskit.visualization.text.TextDrawing at 0x129c2e790>"
      ]
     },
     "execution_count": 4,
     "metadata": {},
     "output_type": "execute_result"
    }
   ],
   "source": [
    "circ = QuantumCircuit(5)\n",
    "circ.append(subcirc, [0, 2, 3])\n",
    "circ.draw()"
   ]
  },
  {
   "cell_type": "code",
   "execution_count": 29,
   "metadata": {},
   "outputs": [
    {
     "data": {
      "text/html": [
       "<pre style=\"word-wrap: normal;white-space: pre;background: #fff0;line-height: 1.1;font-family: &quot;Courier New&quot;,Courier,monospace\">        ┌────────┐\n",
       "q_0: |0>┤ Rx(P0) ├\n",
       "        ├────────┤\n",
       "q_1: |0>┤ Ry(P1) ├\n",
       "        ├────────┤\n",
       "q_2: |0>┤ Rz(P2) ├\n",
       "        └────────┘</pre>"
      ],
      "text/plain": [
       "<qiskit.visualization.text.TextDrawing at 0x12abe84d0>"
      ]
     },
     "execution_count": 29,
     "metadata": {},
     "output_type": "execute_result"
    }
   ],
   "source": [
    "params = [Parameter('P0'), Parameter('P1'), Parameter('P2')]\n",
    "subcirc = QuantumCircuit(3)\n",
    "subcirc.rx(params[0], 0)\n",
    "subcirc.ry(params[1], 1)\n",
    "subcirc.rz(params[2], 2)\n",
    "subcirc.draw()"
   ]
  },
  {
   "cell_type": "code",
   "execution_count": 30,
   "metadata": {},
   "outputs": [
    {
     "name": "stdout",
     "output_type": "stream",
     "text": [
      "{Parameter(P0): 0.2, Parameter(P1): 0.3, Parameter(P2): 0.4}\n",
      "set()\n"
     ]
    },
    {
     "data": {
      "text/html": [
       "<pre style=\"word-wrap: normal;white-space: pre;background: #fff0;line-height: 1.1;font-family: &quot;Courier New&quot;,Courier,monospace\">          ┌──────────┐ \n",
       "q_0: |0>──┤ R(0.2,0) ├─\n",
       "        ┌─┴──────────┴┐\n",
       "q_1: |0>┤ R(0.3,pi/2) ├\n",
       "        └─┬─────────┬─┘\n",
       "q_2: |0>──┤ U1(0.4) ├──\n",
       "          └─────────┘  </pre>"
      ],
      "text/plain": [
       "<qiskit.visualization.text.TextDrawing at 0x12abcbe10>"
      ]
     },
     "execution_count": 30,
     "metadata": {},
     "output_type": "execute_result"
    }
   ],
   "source": [
    "param_values = [0.2, 0.3, 0.4]\n",
    "param_dict = {params[i] : param_values[i] for i in range(len(param_values))}\n",
    "print(param_dict)\n",
    "realised_circ = subcirc.bind_parameters(param_dict)\n",
    "print(realised_circ.parameters)\n",
    "decomposed_circ = realised_circ.decompose()\n",
    "decomposed_circ.draw()"
   ]
  },
  {
   "cell_type": "code",
   "execution_count": 22,
   "metadata": {},
   "outputs": [
    {
     "data": {
      "text/html": [
       "<pre style=\"word-wrap: normal;white-space: pre;background: #fff0;line-height: 1.1;font-family: &quot;Courier New&quot;,Courier,monospace\">        ┌─────────────────────┐\n",
       "q_0: |0>┤0                    ├\n",
       "        │                     │\n",
       "q_1: |0>┤                     ├\n",
       "        │  circuit7(P0,P1,P2) │\n",
       "q_2: |0>┤1                    ├\n",
       "        │                     │\n",
       "q_3: |0>┤2                    ├\n",
       "        └─────────────────────┘\n",
       "q_4: |0>───────────────────────\n",
       "                               </pre>"
      ],
      "text/plain": [
       "<qiskit.visualization.text.TextDrawing at 0x12abc0610>"
      ]
     },
     "execution_count": 22,
     "metadata": {},
     "output_type": "execute_result"
    }
   ],
   "source": [
    "circ = QuantumCircuit(5)\n",
    "circ.append(subcirc, [0, 2, 3])\n",
    "circ.draw()"
   ]
  },
  {
   "cell_type": "code",
   "execution_count": 23,
   "metadata": {},
   "outputs": [
    {
     "data": {
      "text/plain": [
       "{Parameter(P0), Parameter(P1), Parameter(P2)}"
      ]
     },
     "execution_count": 23,
     "metadata": {},
     "output_type": "execute_result"
    }
   ],
   "source": [
    "circ.parameters"
   ]
  },
  {
   "cell_type": "code",
   "execution_count": 28,
   "metadata": {},
   "outputs": [
    {
     "name": "stdout",
     "output_type": "stream",
     "text": [
      "{Parameter(P0): 0.2, Parameter(P1): 0.3, Parameter(P2): 0.4}\n",
      "set()\n"
     ]
    },
    {
     "data": {
      "text/html": [
       "<pre style=\"word-wrap: normal;white-space: pre;background: #fff0;line-height: 1.1;font-family: &quot;Courier New&quot;,Courier,monospace\">        ┌────────┐\n",
       "q_0: |0>┤ Rx(P0) ├\n",
       "        └────────┘\n",
       "q_1: |0>──────────\n",
       "        ┌────────┐\n",
       "q_2: |0>┤ Ry(P1) ├\n",
       "        ├────────┤\n",
       "q_3: |0>┤ Rz(P2) ├\n",
       "        └────────┘\n",
       "q_4: |0>──────────\n",
       "                  </pre>"
      ],
      "text/plain": [
       "<qiskit.visualization.text.TextDrawing at 0x12abef150>"
      ]
     },
     "execution_count": 28,
     "metadata": {},
     "output_type": "execute_result"
    }
   ],
   "source": [
    "param_values = [0.2, 0.3, 0.4]\n",
    "param_dict = {params[i] : param_values[i] for i in range(len(param_values))}\n",
    "print(param_dict)\n",
    "realised_circ = circ.bind_parameters(param_dict)\n",
    "print(realised_circ.parameters)\n",
    "decomposed_circ = realised_circ.decompose()\n",
    "decomposed_circ.draw()"
   ]
  },
  {
   "cell_type": "code",
   "execution_count": 35,
   "metadata": {},
   "outputs": [
    {
     "data": {
      "text/plain": [
       "True"
      ]
     },
     "execution_count": 35,
     "metadata": {},
     "output_type": "execute_result"
    }
   ],
   "source": [
    "isinstance(subcirc, QuantumCircuit)"
   ]
  },
  {
   "cell_type": "code",
   "execution_count": 40,
   "metadata": {},
   "outputs": [
    {
     "data": {
      "text/plain": [
       "3"
      ]
     },
     "execution_count": 40,
     "metadata": {},
     "output_type": "execute_result"
    }
   ],
   "source": [
    "subcirc.n_qubits"
   ]
  },
  {
   "cell_type": "code",
   "execution_count": 41,
   "metadata": {},
   "outputs": [],
   "source": [
    "gates = ['x', 'y']"
   ]
  },
  {
   "cell_type": "code",
   "execution_count": 42,
   "metadata": {},
   "outputs": [],
   "source": [
    "x = 'x'"
   ]
  },
  {
   "cell_type": "code",
   "execution_count": 43,
   "metadata": {},
   "outputs": [],
   "source": [
    "x = [x] * 3"
   ]
  },
  {
   "cell_type": "code",
   "execution_count": 44,
   "metadata": {},
   "outputs": [
    {
     "data": {
      "text/plain": [
       "['x', 'x', 'x']"
      ]
     },
     "execution_count": 44,
     "metadata": {},
     "output_type": "execute_result"
    }
   ],
   "source": [
    "x"
   ]
  },
  {
   "cell_type": "code",
   "execution_count": 45,
   "metadata": {},
   "outputs": [
    {
     "data": {
      "text/plain": [
       "True"
      ]
     },
     "execution_count": 45,
     "metadata": {},
     "output_type": "execute_result"
    }
   ],
   "source": [
    "all(isinstance(el, str) for el in [])"
   ]
  },
  {
   "cell_type": "code",
   "execution_count": 49,
   "metadata": {},
   "outputs": [],
   "source": [
    "gate = QuantumCircuit.h"
   ]
  },
  {
   "cell_type": "code",
   "execution_count": 51,
   "metadata": {},
   "outputs": [
    {
     "data": {
      "text/plain": [
       "<qiskit.circuit.instructionset.InstructionSet at 0x12abc0790>"
      ]
     },
     "execution_count": 51,
     "metadata": {},
     "output_type": "execute_result"
    }
   ],
   "source": [
    "gate(subcirc, 2)"
   ]
  },
  {
   "cell_type": "code",
   "execution_count": 53,
   "metadata": {},
   "outputs": [
    {
     "data": {
      "text/plain": [
       "{'name': 'circuit13',\n",
       " '_data': [(<qiskit.extensions.standard.rx.RXGate at 0x12aa48150>,\n",
       "   [Qubit(QuantumRegister(3, 'q'), 0)],\n",
       "   []),\n",
       "  (<qiskit.extensions.standard.ry.RYGate at 0x12aa48fd0>,\n",
       "   [Qubit(QuantumRegister(3, 'q'), 1)],\n",
       "   []),\n",
       "  (<qiskit.extensions.standard.rz.RZGate at 0x12aab6d90>,\n",
       "   [Qubit(QuantumRegister(3, 'q'), 2)],\n",
       "   []),\n",
       "  (<qiskit.extensions.standard.h.HGate at 0x12abc0a10>,\n",
       "   [Qubit(QuantumRegister(3, 'q'), 2)],\n",
       "   [])],\n",
       " 'qregs': [QuantumRegister(3, 'q')],\n",
       " 'cregs': [],\n",
       " '_parameter_table': <qiskit.circuit.parametertable.ParameterTable at 0x12abe8910>,\n",
       " '_layout': None}"
      ]
     },
     "execution_count": 53,
     "metadata": {},
     "output_type": "execute_result"
    }
   ],
   "source": [
    "subcirc.__dict__"
   ]
  },
  {
   "cell_type": "code",
   "execution_count": 57,
   "metadata": {},
   "outputs": [
    {
     "data": {
      "text/plain": [
       "Parameter(a)"
      ]
     },
     "execution_count": 57,
     "metadata": {},
     "output_type": "execute_result"
    }
   ],
   "source": [
    "Parameter('a')"
   ]
  },
  {
   "cell_type": "code",
   "execution_count": null,
   "metadata": {},
   "outputs": [],
   "source": []
  }
 ],
 "metadata": {
  "kernelspec": {
   "display_name": "latest",
   "language": "python",
   "name": "latest"
  },
  "language_info": {
   "codemirror_mode": {
    "name": "ipython",
    "version": 3
   },
   "file_extension": ".py",
   "mimetype": "text/x-python",
   "name": "python",
   "nbconvert_exporter": "python",
   "pygments_lexer": "ipython3",
   "version": "3.7.5"
  }
 },
 "nbformat": 4,
 "nbformat_minor": 2
}
